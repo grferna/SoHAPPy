{
 "cells": [
  {
   "cell_type": "markdown",
   "metadata": {},
   "source": [
    "# Check EBL data in Gammapy and in GRB files\n",
    "Lara provides absorbed flux specturm - we want to check if this is compatible with the gammapy data"
   ]
  },
  {
   "cell_type": "code",
   "execution_count": null,
   "metadata": {},
   "outputs": [],
   "source": [
    "import os\n",
    "os.environ['GAMMAPY_EXTRA'] =r'../../input/gammapy-extra-master'\n",
    "os.environ['GAMMAPY_DATA'] =r'../../input/gammapy-extra-master/datasets'\n",
    "#print(os.getenv('GAMMAPY_EXTRA'))\n",
    "#print(os.listdir(os.getenv('GAMMAPY_EXTRA')))\n",
    "\n",
    "import numpy as np\n",
    "import matplotlib.pyplot as plt\n",
    "import astropy.units as u\n",
    "from   astropy.table         import Table\n",
    "from   astropy.io            import fits\n",
    "\n",
    "from astropy.visualization import quantity_support\n",
    "\n",
    "from gammapy.modeling.models import EBLAbsorptionNormSpectralModel\n",
    "from gammapy.modeling.models import TemplateSpectralModel"
   ]
  },
  {
   "cell_type": "markdown",
   "metadata": {},
   "source": [
    "## Read a GRB"
   ]
  },
  {
   "cell_type": "code",
   "execution_count": null,
   "metadata": {},
   "outputs": [],
   "source": [
    "event_id = 20 # z = \n",
    "event_id = 343 # z = 0.13\n",
    "# event_id = 7 # z= 0.42\n",
    "# event_id = 676 # z= 2.17\n",
    "data_dir = \"../../input/lightcurves/LONG_FITS/\"\n",
    "filename = data_dir + \"Event\" + str(event_id)+\".fits\"\n",
    "print(\"Reading data from \",filename)\n",
    "hdul = fits.open(filename)\n",
    "Eval     = Table.read(hdul,hdu=2)[\"Energies (afterglow)\"].quantity\n",
    "Eval     = np.asarray(Eval)*Eval.unit\n",
    "tval     = Table.read(hdul,hdu=3)[\"Times (afterglow)\"].quantity\n",
    "tval     = np.asarray(tval)*tval.unit\n",
    "hdr      = hdul[0].header\n",
    "redshift = hdr['Z']\n",
    "print(\" Got a GRB at redshift \",redshift)"
   ]
  },
  {
   "cell_type": "markdown",
   "metadata": {},
   "source": [
    "## Get original and absorbed flux from Lara"
   ]
  },
  {
   "cell_type": "code",
   "execution_count": null,
   "metadata": {},
   "outputs": [],
   "source": [
    "# Convert flux table into a numpy array\n",
    "def get_lara_flux(flux_table,flux_unit = u.Unit(\"1/(cm2 GeV s)\")):\n",
    "    icol_t = len(flux_table.colnames)          # column number - time\n",
    "    jrow_E = len(flux_table[flux_table.colnames[0]]) # row number   \n",
    "    flux   = np.zeros( (icol_t,jrow_E) )*flux_unit\n",
    "    \n",
    "    for i in range(0,icol_t):\n",
    "        for j in range(0,jrow_E):\n",
    "            flux[i][j] = flux_table[j][i]*flux_unit # transp!\n",
    "            \n",
    "    return flux\n",
    "\n",
    "f_lara     = get_lara_flux(Table.read(hdul,hdu=4)) # Original flux\n",
    "f_lara_abs = get_lara_flux(Table.read(hdul,hdu=5)) # Absorbed flux"
   ]
  },
  {
   "cell_type": "markdown",
   "metadata": {},
   "source": [
    "# Read local EBL models"
   ]
  },
  {
   "cell_type": "code",
   "execution_count": null,
   "metadata": {},
   "outputs": [],
   "source": [
    "from ebl import EBL_from_file\n",
    "local_gilmore = EBL_from_file(\"data/\"+\"ebl_gilmore12.dat\",debug=True)\n",
    "local_dominguez = EBL_from_file(\"data/EBL_abs_RBelmont-dominguez-20170425.dat\",debug=True)"
   ]
  },
  {
   "cell_type": "markdown",
   "metadata": {},
   "source": [
    "## Find back EBL model - compare to local Gilmore model"
   ]
  },
  {
   "cell_type": "code",
   "execution_count": null,
   "metadata": {},
   "outputs": [],
   "source": [
    "itime = 10 # Choose a time slice\n",
    "def plot_ratio(E, flux, flux_abs, ax=None,\n",
    "               max_reduction=1e-3,color=\"tab:blue\",\n",
    "               label=\"default\",**kwargs):\n",
    "               \n",
    "    if (ax == None): fig, ax = plt.subplots()\n",
    "               \n",
    "    # remove zeroes from array\n",
    "    id0  = np.where(flux>0)\n",
    "    f    = flux[id0]\n",
    "    fabs = flux_abs[id0]\n",
    "    E    = E[id0]\n",
    "\n",
    "    ratio = fabs/f\n",
    "    for i,r in enumerate(ratio):\n",
    "        if r>1: print(\"ratio>1 in bin \",i,\":\",ratio[ratio>1])\n",
    "    \n",
    "    idr = np.where(ratio>max_reduction)\n",
    "    with quantity_support():\n",
    "        ax.plot(E[idr],ratio[idr],marker=\"D\",color=color,label=label,**kwargs)\n",
    "    ax.set_xscale(\"log\")\n",
    "    ax.set_yscale(\"log\")\n",
    "    ax.legend()\n",
    "        \n",
    "    return ax, ratio "
   ]
  },
  {
   "cell_type": "code",
   "execution_count": null,
   "metadata": {},
   "outputs": [],
   "source": [
    "itime=10\n",
    "ax, ratio_lara = plot_ratio(Eval,f_lara[itime],f_lara_abs[itime],ls=\":\")\n",
    "\n",
    "# The second plot should beperfectly superimposed onthe first one\n",
    "from ebl import EBL_plot\n",
    "EBL_plot(local_gilmore,zlist=redshift,ax=ax)"
   ]
  },
  {
   "cell_type": "markdown",
   "metadata": {},
   "source": [
    "## Check Gammapy absorption models"
   ]
  },
  {
   "cell_type": "code",
   "execution_count": null,
   "metadata": {},
   "outputs": [],
   "source": [
    "dominguez = EBLAbsorptionNormSpectralModel.read_builtin(\"dominguez\", redshift=redshift)\n",
    "franceschini = EBLAbsorptionNormSpectralModel.read_builtin(\"franceschini\", redshift=redshift)\n",
    "finke = EBLAbsorptionNormSpectralModel.read_builtin(\"finke\", redshift=redshift)"
   ]
  },
  {
   "cell_type": "markdown",
   "metadata": {},
   "source": [
    "### Compare Gammapy versus Renaud's data"
   ]
  },
  {
   "cell_type": "code",
   "execution_count": null,
   "metadata": {},
   "outputs": [],
   "source": [
    "fig, ax = plt.subplots(figsize=(6,6))\n",
    "energy_range = [10, 10000] * u.GeV\n",
    "opts = dict(energy_range=energy_range, energy_unit=\"GeV\", flux_unit=\"\", ax=ax)\n",
    "dominguez.plot(label=\"Dominguez 2011\", **opts)\n",
    "EBL_plot(local_dominguez,zlist=redshift,tags=\"Dominguez from file\",\n",
    "         nebin=20,ax=ax,marker=\"o\",ls=\"\",color=\"black\",alpha=0.5)"
   ]
  },
  {
   "cell_type": "code",
   "execution_count": null,
   "metadata": {},
   "outputs": [],
   "source": [
    "### Compare all absorptions, including local Gilmore"
   ]
  },
  {
   "cell_type": "code",
   "execution_count": null,
   "metadata": {},
   "outputs": [],
   "source": [
    "fig, ax = plt.subplots(figsize=(6,6))\n",
    "\n",
    "energy_range = [10, 10000] * u.GeV\n",
    "opts = dict(energy_range=energy_range, energy_unit=\"GeV\", flux_unit=\"\", ax=ax)\n",
    "\n",
    "franceschini.plot(label=\"Franceschini 2008\", **opts)\n",
    "finke.plot(label=\"Finke 2010\", **opts)\n",
    "dominguez.plot(label=\"Dominguez 2011\", **opts)\n",
    "\n",
    "EBL_plot(local_gilmore,zlist=redshift,tags=\"Gilmore from file\",ax=ax,marker=\"\",color=\"red\")\n"
   ]
  },
  {
   "cell_type": "markdown",
   "metadata": {},
   "source": [
    "## Plot ratios of ratios (absorption)"
   ]
  },
  {
   "cell_type": "code",
   "execution_count": null,
   "metadata": {
    "scrolled": false
   },
   "outputs": [],
   "source": [
    "def plot_absorption_ratio(spectrum, flux2, Emin=0*u.GeV,Emax = 100*u.GeV,nplots=None,nmaxcol=4):\n",
    "    \n",
    "    idE = np.where( [(E>=Emin and E<=Emax) for E in Eval])\n",
    "    \n",
    "    import itertools\n",
    "    ncols  = min(nmaxcol,nplots) # If nplots < nmaxcol, take nplots\n",
    "    nrows  = int(nplots/ncols)+ 1*(nplots%ncols != 0)\n",
    "    fig,ax= plt.subplots(nrows=nrows,ncols=ncols,sharex=True,figsize=(15,2*nrows))\n",
    "\n",
    "    # Slice to plot\n",
    "    nslice = len(flux2[0])\n",
    "    islice = range(1,nslice-1,int(nslice/nplots)) # avoid slice 0\n",
    "\n",
    "    with quantity_support():\n",
    "        iplot=0\n",
    "        for jrow, icol in itertools.product(range(nrows), range(ncols)):\n",
    "            ax0 = ax[jrow][icol] if (nrows>1) else ax[icol]\n",
    "            color = cm(1.*iplot/nslice)\n",
    "            \n",
    "            # If nothing to plot, blank space instead of empty plot\n",
    "            if (iplot >= nplots):\n",
    "                ax0.axis('off')\n",
    "                continue\n",
    "            else:\n",
    "                idx = islice[iplot]\n",
    "                t = tval[idx]\n",
    "            label=str(round(t.value,1))+str(t.unit)\n",
    "            \n",
    "            ax0.plot(Eval[idE],spectrum[idx](Eval[idE])/flux2[idx][idE],color=color,\n",
    "                           label=label,marker=\"o\",ls=\":\")\n",
    "            \n",
    "            ax0.set_xscale(\"log\")\n",
    "            ax0.set_xlim(xmin=Emin,xmax=Emax)\n",
    "            ax0.legend()\n",
    "            ax0.tick_params(which='major', length=10, width=2, direction='in')\n",
    "            ax0.tick_params(which='minor', length=5, width=2, direction='in')\n",
    "            if (jrow+1 != nrows): ax0.set_xlabel(None)\n",
    "            iplot+=1\n",
    "    plt.subplots_adjust(wspace=0,hspace=0.05)        \n",
    "    plt.tight_layout(w_pad=0,h_pad=0)\n",
    "plt.show()"
   ]
  },
  {
   "cell_type": "code",
   "execution_count": null,
   "metadata": {},
   "outputs": [],
   "source": [
    "nplots = 4 # up to nslice\n",
    "plot_absorption_ratio(f_gpy_abs,f_lara_abs,Emin=5*u.GeV,Emax=200*u.GeV,nplots=nplots)\n",
    "plot_absorption_ratio(f_gpy_abs,f_lara_abs,Emin=200*u.GeV,Emax=10000*u.GeV,nplots=nplots)"
   ]
  },
  {
   "cell_type": "code",
   "execution_count": null,
   "metadata": {},
   "outputs": [],
   "source": []
  }
 ],
 "metadata": {
  "kernelspec": {
   "display_name": "Python 3",
   "language": "python",
   "name": "python3"
  },
  "language_info": {
   "codemirror_mode": {
    "name": "ipython",
    "version": 3
   },
   "file_extension": ".py",
   "mimetype": "text/x-python",
   "name": "python",
   "nbconvert_exporter": "python",
   "pygments_lexer": "ipython3",
   "version": "3.7.11"
  }
 },
 "nbformat": 4,
 "nbformat_minor": 2
}
