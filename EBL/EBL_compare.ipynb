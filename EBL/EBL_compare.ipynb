{
 "cells": [
  {
   "cell_type": "markdown",
   "id": "4b166df9",
   "metadata": {},
   "source": [
    "# Compare available EBL models"
   ]
  },
  {
   "cell_type": "code",
   "execution_count": null,
   "id": "3ff7f1df",
   "metadata": {},
   "outputs": [],
   "source": [
    "import os\n",
    "os.environ['GAMMAPY_EXTRA'] =r'../../input/gammapy-extra-master'\n",
    "os.environ['GAMMAPY_DATA'] =r'../../input/gammapy-extra-master/datasets'\n",
    "\n",
    "import sys\n",
    "codefolder = \"../\" \n",
    "sys.path.append(codefolder) \n",
    "\n",
    "import numpy as np\n",
    "import matplotlib.pyplot as plt\n",
    "import matplotlib.cm as cm\n",
    "\n",
    "import astropy.units as u\n",
    "from gammapy.modeling.models import EBLAbsorptionNormSpectralModel\n",
    "from ebl import EBL_from_file, EBL_plot\n",
    "from utilities import single_legend\n",
    "\n",
    "import warnings\n",
    "#warnings.filterwarnings('error')\n",
    "warnings.filterwarnings('ignore')\n",
    "\n",
    "plt.style.use('seaborn-talk') # Make the labels readable\n",
    "plt.style.use('seaborn-poster') # Bigger - Make the labels readable - bug with normal x marker !!!"
   ]
  },
  {
   "cell_type": "markdown",
   "id": "5f92abe0",
   "metadata": {},
   "source": [
    "# Load absorption data"
   ]
  },
  {
   "cell_type": "code",
   "execution_count": null,
   "id": "d1bc2dd3",
   "metadata": {},
   "outputs": [],
   "source": [
    "local_gilmore = EBL_from_file(\"data/\"+\"ebl_gilmore12.dat\",debug=True)\n",
    "local_dominguez = EBL_from_file(\"data/EBL_abs_RBelmont-dominguez-20170425.dat\",debug=True)\n",
    "dominguez    = EBLAbsorptionNormSpectralModel.read_builtin(\"dominguez\")\n",
    "franceschini = EBLAbsorptionNormSpectralModel.read_builtin(\"franceschini\")    \n",
    "finke        = EBLAbsorptionNormSpectralModel.read_builtin(\"finke\")"
   ]
  },
  {
   "cell_type": "markdown",
   "id": "eb496581",
   "metadata": {},
   "source": [
    "# Plot parameters"
   ]
  },
  {
   "cell_type": "code",
   "execution_count": null,
   "id": "709e1715",
   "metadata": {},
   "outputs": [],
   "source": [
    "zlist = np.array([0, 0.5, 1, 2.5, 3, 4])\n",
    "zlist = np.array([0, 0.1, 0.2, 0.5, 1, 2,3.5])\n",
    "emin = 10*u.GeV\n",
    "emax = 10*u.TeV \n",
    "nebin=100\n",
    "Elist   = np.logspace(np.log10(emin.value),np.log10(emax.to(emin.unit).value),nebin)*emin.unit\n",
    "max_att = 1e-5 # below this limit, attenutaion at this limit to avoid insane small numbers"
   ]
  },
  {
   "cell_type": "code",
   "execution_count": null,
   "id": "5e975bac",
   "metadata": {
    "scrolled": false
   },
   "outputs": [],
   "source": [
    "fig, ((ax11,ax12,ax13), (ax21, ax22, ax23)) = plt.subplots(nrows = 2, ncols= 3, \n",
    "                                                           figsize=(15,8),\n",
    "                                                           sharey = False, sharex=True,\n",
    "                                                            gridspec_kw={'height_ratios': [3, 2]})\n",
    "# fig, (ax11,ax12,ax13) = plt.subplots(nrows = 1, ncols= 3, figsize=(17,10),sharey = False, sharex=True)\n",
    "\n",
    "alpha = 0.7\n",
    "for i, z in enumerate(zlist):\n",
    "#     print(z)\n",
    "    color = cm.cool(i/len(zlist)) \n",
    "#     color = cm.viridis(0.7-0.7*i/len(zlist))\n",
    "\n",
    "#     color = cm.rainbow(i/len(zlist)) \n",
    "    \n",
    "    # Evaluate model at given z\n",
    "    do_z    = dominguez.evaluate(Elist,redshift=z,alpha_norm=1)\n",
    "    do_z = np.array([(x == max_att if x<max_att else x) for x in do_z])\n",
    "    \n",
    "    fr_z = franceschini.evaluate(Elist,redshift=z,alpha_norm=1)\n",
    "    fr_z = np.array([x == max_att if x<max_att else x for x in fr_z])\n",
    "\n",
    "    fi_z = finke.evaluate(Elist,redshift=z,alpha_norm=1)\n",
    "    fi_z = np.array([x == max_att if x<max_att else x for x in fi_z])\n",
    "\n",
    "    gi_z      = local_gilmore(Elist,z)\n",
    "    fi_z = np.array([x == max_att if x<max_att else x for x in gi_z])\n",
    "    \n",
    "    fr_ratio = (fr_z -do_z) / do_z\n",
    "    fi_ratio = (fi_z -do_z) / do_z\n",
    "    gi_ratio = (gi_z -do_z) / do_z\n",
    "    \n",
    "    # First row, plot attentaion\n",
    "    ax11.plot(Elist,do_z,color=color, alpha = alpha, label=\"Dominguez\")\n",
    "    ax11.plot(Elist,fr_z,color=color, ls=\":\",label=str(z))\n",
    "\n",
    "    ax12.plot(Elist,do_z,color=color, alpha = alpha, label=\"Dominguez\")\n",
    "    ax12.plot(Elist,fr_z,color=color, ls=\":\",label=str(z))    \n",
    "    \n",
    "    ax13.plot(Elist,do_z,color=color, alpha = alpha, label=\"Dominguez\")\n",
    "    ax13.plot(Elist, gi_z,color=color,ls=\":\",label=str(z))\n",
    "    \n",
    "    ax21.plot(Elist,fr_ratio, color=color,alpha=0.5)\n",
    "    ax22.plot(Elist,fi_ratio, color=color,alpha=0.5)\n",
    "    ax23.plot(Elist,gi_ratio, color=color,alpha=0.5)\n",
    "\n",
    "# first row\n",
    "ymin = 5e-2\n",
    "ymax = 1.5\n",
    "yscale = \"log\"\n",
    "ax11.set_ylabel(\"Absorption\")\n",
    "ax11.set_title(\"Franceschini 2008\",size=18)\n",
    "\n",
    "ax12.set_ylabel(None)\n",
    "ax12.set_title(\"Finke 2010\",size=18)\n",
    "ax12.grid(\"both\",which=\"minor\",ls=\":\",alpha=0.5)\n",
    "\n",
    "ax13.set_ylabel(None)\n",
    "ax13.set_title(\"Gilmore 2012\",size=18)\n",
    "ax13.grid(\"both\",which=\"minor\",ls=\":\",alpha=0.5)\n",
    "single_legend(ax13,bbox_to_anchor=[1,1.0])\n",
    "\n",
    "ax12.tick_params(left = False, labelleft = False, bottom=False)\n",
    "ax13.tick_params(left = False, labelleft = False, bottom=False)\n",
    "for ax in [ax11,ax12,ax13]:\n",
    "    ax.set_ylim(ymin=ymin)\n",
    "    ax.set_ylim(ymax=ymax)\n",
    "    ax.set_yscale(yscale)\n",
    "    ax.set_xscale(\"log\")\n",
    "    ax.grid(\"both\",which=\"minor\",ls=\":\",alpha=0.5)    \n",
    "    ax.grid(\"both\",which=\"major\",ls=\"-\",alpha=0.5)\n",
    "\n",
    "# Second row\n",
    "yscale = \"linear\"\n",
    "ax21.set_ylabel(\"$Relative \\ \\Delta$\")\n",
    "ax22.set_ylabel(None)\n",
    "ax23.set_ylabel(None)\n",
    "\n",
    "ax22.tick_params(left = False, labelleft = False)\n",
    "ax23.tick_params(left = False, labelleft = False)\n",
    "for ax in [ax21, ax22, ax23]:\n",
    "    ax.set_xlabel(\"Energy (GeV)\")\n",
    "    ax.set_ylim(ymin=-1.5)\n",
    "    ax.set_ylim(ymax=1.5)\n",
    "    ax.set_yscale(yscale)\n",
    "    ax.set_xscale(\"log\")\n",
    "    ax.grid(\"both\",which=\"minor\",ls=\":\",alpha=0.5)\n",
    "    ax.grid(\"both\",which=\"major\",ls=\"-\",alpha=0.5)\n",
    "    ax.set_yticks(np.arange(-1.5, 1.5 ,0.5))\n",
    "plt.tight_layout(h_pad=0,w_pad=0)"
   ]
  },
  {
   "cell_type": "code",
   "execution_count": null,
   "id": "d678df2c",
   "metadata": {},
   "outputs": [],
   "source": []
  }
 ],
 "metadata": {
  "kernelspec": {
   "display_name": "Python 3",
   "language": "python",
   "name": "python3"
  },
  "language_info": {
   "codemirror_mode": {
    "name": "ipython",
    "version": 3
   },
   "file_extension": ".py",
   "mimetype": "text/x-python",
   "name": "python",
   "nbconvert_exporter": "python",
   "pygments_lexer": "ipython3",
   "version": "3.7.11"
  }
 },
 "nbformat": 4,
 "nbformat_minor": 5
}
