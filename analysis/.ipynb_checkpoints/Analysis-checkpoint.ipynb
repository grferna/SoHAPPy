{
 "cells": [
  {
   "cell_type": "markdown",
   "metadata": {},
   "source": [
    "# Analyze SoHappy output files\n",
    "This scripts analyse the fits file produced with SoHappy\n",
    "\n",
    "List of plots\n",
    "- detectability versus\n",
    "    - z\n",
    "    - Eiso\n",
    "    - Eiso,z\n",
    "    - observation time\n",
    "- detected at 3 and 5 sigma in N and S\n",
    "- Time required to get 3 and 5 s\n",
    "- ra, dec of detected GRB (uniformity)\n",
    "- sigmax distribution, tmax distribution\n",
    "- t3s, t5s distributions (-> time to generate an alert)\n"
   ]
  },
  {
   "cell_type": "code",
   "execution_count": 1,
   "metadata": {},
   "outputs": [],
   "source": [
    "import numpy as np\n",
    "import pandas as pd\n",
    "import matplotlib.pyplot as plt\n",
    "from mpl_toolkits.axes_grid1.inset_locator import zoomed_inset_axes,inset_axes\n",
    "from mpl_toolkits.axes_grid1.inset_locator import mark_inset\n",
    "\n",
    "from astropy.table import Table, vstack\n",
    "from IPython.display import display\n",
    "\n",
    "import sys\n",
    "sys.path.append(\"../../../../utilities_ths/\")  \n",
    "sys.path.append(\".\") \n",
    "from utilities_ths import MyLabel\n",
    "from utilities_ths import stamp\n",
    "\n",
    "import grb_stat\n",
    "\n",
    "plt.style.use('seaborn-talk') # Make the labels readable\n",
    "#plt.style.use('seaborn-poster') # Make the labels readable - bug with normal x marker !!!"
   ]
  },
  {
   "cell_type": "markdown",
   "metadata": {},
   "source": [
    "# Get data, \n",
    "The prod1 file has not entry for unvisible GRB, this complicated the analysis"
   ]
  },
  {
   "cell_type": "code",
   "execution_count": 2,
   "metadata": {},
   "outputs": [
    {
     "data": {
      "text/plain": [
       "Index(['name', 'eiso', 'z', 'site', 'ra', 'dec', 'ttrig', 't1', 't2', 'alt1',\n",
       "       'alt2', 'az1', 'az2', 'nt', 'ndof', 'sigmax', 'nex_max', 'nb_max',\n",
       "       't_max', 'altmax', 'azmax', 'nex_3s', 'nb_3s', 't3s', 'alt3s', 'az3s',\n",
       "       'd3s', 'nex_5s', 'nb_5s', 't5s', 'alt5s', 'az5s', 'd5s', 'mct',\n",
       "       'abort'],\n",
       "      dtype='object')"
      ]
     },
     "execution_count": 2,
     "metadata": {},
     "output_type": "execute_result"
    }
   ],
   "source": [
    "# Productions where the altitude/azimuth what the one at the start of lasty observation slice cumulated\n",
    "#file = \"Prod1/\"Pop_1000GRB_0dof_100iter.csv\" # First production \n",
    "#file = \"Prod2/Pop_1000GRB_0dof_100iter.csv\"  # Second production with more columns : alt3s, alt5s, abort\n",
    "#file = \"Prod3_varslew/Pop_1000GRB_0dof_100iter.csv\"  # Like the second one but with a varying slew time\n",
    "file = \"Prod4_azcorr/Pop_1000GRB_0dof_100iter.csv\"  # Like the second one but with a varying slew time\n",
    "\n",
    "# Production where the alt-az is a tstart -fixed, the start of the observation\n",
    "#file = \"notdoneyet\"\n",
    "filename = \"../../output/\"+file\n",
    "\n",
    "grb = pd.read_csv(filename)\n",
    "grb.columns"
   ]
  },
  {
   "cell_type": "markdown",
   "metadata": {},
   "source": [
    "# General Statistics and filtering"
   ]
  },
  {
   "cell_type": "code",
   "execution_count": 3,
   "metadata": {},
   "outputs": [
    {
     "name": "stderr",
     "output_type": "stream",
     "text": [
      "C:\\Users\\stolar\\AppData\\Local\\Continuum\\Anaconda3\\lib\\site-packages\\ipykernel_launcher.py:12: UserWarning: Boolean Series key will be reindexed to match DataFrame index.\n",
      "  if sys.path[0] == '':\n",
      "C:\\Users\\stolar\\AppData\\Local\\Continuum\\Anaconda3\\lib\\site-packages\\ipykernel_launcher.py:13: UserWarning: Boolean Series key will be reindexed to match DataFrame index.\n",
      "  del sys.path[0]\n"
     ]
    }
   ],
   "source": [
    "g_vis = grb[grb.abort>-1] # Visible\n",
    "g_ana = grb[grb.abort==0] # Simulation complete (aborted value is at 10% of the iteration values)\n",
    "g_abrt = grb[grb.abort>0]\n",
    "#plt.hist(grb.abort,bins=100)\n",
    "\n",
    "# initialize a few flags\n",
    "i3s   = (grb.d3s >= 0.9) # 5s detected at 90% CL\n",
    "i5s   = (grb.d5s >= 0.9) # 5s detected at 90% CL\n",
    "south = grb.site==\"South\"\n",
    "north = grb.site==\"North\"\n",
    "\n",
    "g_3s  = g_ana[i3s]\n",
    "g_5s  = g_ana[i5s]"
   ]
  },
  {
   "cell_type": "code",
   "execution_count": 5,
   "metadata": {},
   "outputs": [
    {
     "name": "stdout",
     "output_type": "stream",
     "text": [
      " This is a file with  2000  events, i.e.  1000.0  GRBs\n",
      "\n",
      "           :  N or S     N     S\n",
      "---------- : ------- ----- -----\n",
      "Total      :    2000  1000  1000\n",
      "Visible    :    1430   706   724\n",
      "Aborted    :    1032   518   514\n",
      "Full simul :     398   188   210\n",
      "---------- : ------- ----- -----\n",
      "3s 90%CL   :     291   133   158\n",
      "5s 90%CL   :     273   125   148\n"
     ]
    }
   ],
   "source": [
    "# Display stat\n",
    "data = grb_stat.stat(grb, g_vis, g_ana,  g_abrt, g_3s, g_5s, i3s, i5s, north, south)"
   ]
  },
  {
   "cell_type": "code",
   "execution_count": 6,
   "metadata": {},
   "outputs": [
    {
     "name": "stderr",
     "output_type": "stream",
     "text": [
      "\\\\Dapdc5\\stolar\\My Documents\\CTA\\Analysis\\GRB-Transients-RTA\\Posityve repo\\SoHAPPy\\analysis\\grb_stat.py:49: UserWarning: Boolean Series key will be reindexed to match DataFrame index.\n",
      "  ax1.hist(g_ana[north].d3s, bins=bins, alpha=0.5, label=MyLabel(g_ana[north].d3s,label=\"North\")) # Check\n",
      "\\\\Dapdc5\\stolar\\My Documents\\CTA\\Analysis\\GRB-Transients-RTA\\Posityve repo\\SoHAPPy\\analysis\\grb_stat.py:50: UserWarning: Boolean Series key will be reindexed to match DataFrame index.\n",
      "  ax1.hist(g_ana[south].d3s, bins=bins, alpha=0.5, label=MyLabel(g_ana[south].d3s,label=\"South\")) # Check\n",
      "\\\\Dapdc5\\stolar\\My Documents\\CTA\\Analysis\\GRB-Transients-RTA\\Posityve repo\\SoHAPPy\\analysis\\grb_stat.py:60: UserWarning: Boolean Series key will be reindexed to match DataFrame index.\n",
      "  ax2.hist(g_ana[north].d5s,bins=bins, alpha=0.5, label=MyLabel(g_ana[north].d5s,label=\"North\")) # Check\n",
      "\\\\Dapdc5\\stolar\\My Documents\\CTA\\Analysis\\GRB-Transients-RTA\\Posityve repo\\SoHAPPy\\analysis\\grb_stat.py:61: UserWarning: Boolean Series key will be reindexed to match DataFrame index.\n",
      "  ax2.hist(g_ana[south].d5s,bins=bins, alpha=0.5, label=MyLabel(g_ana[south].d5s,label=\"South\")) # Check\n"
     ]
    },
    {
     "data": {
      "image/png": "[encoded data removed]",
      "text/plain": [
       "<Figure size 1080x432 with 2 Axes>"
      ]
     },
     "metadata": {
      "needs_background": "light"
     },
     "output_type": "display_data"
    }
   ],
   "source": [
    "grb_stat.computing_time(file,g_ana,north,south)"
   ]
  },
  {
   "cell_type": "code",
   "execution_count": 7,
   "metadata": {},
   "outputs": [
    {
     "name": "stderr",
     "output_type": "stream",
     "text": [
      "C:\\Users\\stolar\\AppData\\Local\\Continuum\\Anaconda3\\lib\\site-packages\\ipykernel_launcher.py:5: UserWarning: Boolean Series key will be reindexed to match DataFrame index.\n",
      "  \"\"\"\n",
      "C:\\Users\\stolar\\AppData\\Local\\Continuum\\Anaconda3\\lib\\site-packages\\ipykernel_launcher.py:6: UserWarning: Boolean Series key will be reindexed to match DataFrame index.\n",
      "  \n",
      "C:\\Users\\stolar\\AppData\\Local\\Continuum\\Anaconda3\\lib\\site-packages\\ipykernel_launcher.py:15: UserWarning: Boolean Series key will be reindexed to match DataFrame index.\n",
      "  from ipykernel import kernelapp as app\n",
      "C:\\Users\\stolar\\AppData\\Local\\Continuum\\Anaconda3\\lib\\site-packages\\ipykernel_launcher.py:16: UserWarning: Boolean Series key will be reindexed to match DataFrame index.\n",
      "  app.launch_new_instance()\n"
     ]
    },
    {
     "data": {
      "image/png": "[encoded data removed]",
      "text/plain": [
       "<Figure size 1080x432 with 2 Axes>"
      ]
     },
     "metadata": {
      "needs_background": "light"
     },
     "output_type": "display_data"
    }
   ],
   "source": [
    "nbin=10\n",
    "fig, (ax1,ax2) = plt.subplots(nrows=1,ncols=2,figsize=(15,6))\n",
    "\n",
    "n, bins, _ = ax1.hist(g_3s.d3s,bins=nbin,facecolor=\"none\",edgecolor=\"black\",label=MyLabel(g_3s.t3s, \"All\")) # Check\n",
    "ax1.hist(g_3s[north].d3s, bins=bins, alpha=0.5, label=MyLabel(g_3s[north].t3s,label=\"North\")) # Check\n",
    "ax1.hist(g_3s[south].d3s, bins=bins, alpha=0.5, label=MyLabel(g_3s[south].t3s,label=\"South\")) # Check\n",
    "ax1.set_title(\"$3\\sigma$\")\n",
    "ax1.set_yscale(\"log\")\n",
    "ax1.set_xlabel(\"Confidence level\")\n",
    "ax1.set_ylabel(\"Event counts\")\n",
    "stamp(ax1,file)\n",
    "ax1.legend()\n",
    "\n",
    "n,bins,_  = ax2.hist(g_5s.d5s,bins=nbin,facecolor=\"none\",edgecolor=\"black\",label=MyLabel(g_5s.t5s,label=\"All\"))\n",
    "ax2.hist(g_5s[north].d5s,bins=bins, alpha=0.5, label=MyLabel(g_5s[north].t5s,label=\"North\")) # Check\n",
    "ax2.hist(g_5s[south].d5s,bins=bins, alpha=0.5, label=MyLabel(g_5s[south].t5s,label=\"South\")) # Check\n",
    "ax2.set_title(\"$5\\sigma$\")\n",
    "ax2.set_yscale(\"log\")\n",
    "ax2.set_xlabel(\"Confidence level\")\n",
    "ax2.set_ylabel(\"Event counts\")\n",
    "stamp(ax2,file)\n",
    "ax2.legend()\n",
    "plt.show()\n"
   ]
  },
  {
   "cell_type": "code",
   "execution_count": 9,
   "metadata": {},
   "outputs": [
    {
     "name": "stdout",
     "output_type": "stream",
     "text": [
      "1032\n",
      "398\n",
      "Assumes aborted events have the same CL as not aborted < 0.9 : 0.21411214953271032 0.09591999999999999\n",
      " ==============================================\n",
      " Mean number of events     :       3s     5s\n",
      " --------------------------+-------------------\n",
      "          No weighting, All :   398      398\n",
      "           CL-weighted, All :   313.29   284.57\n",
      "     CL-weighted, corrected :   534.25   383.56\n",
      "     No weighting, > 90% CL :   291      273\n",
      "         CL-weighted, > 90% :   290.38   272.58\n"
     ]
    }
   ],
   "source": [
    "# plt.hist(g_abrt.d3s,label=MyLabel(g_abrt.d3s))\n",
    "# plt.legend()\n",
    "print(len(g_abrt.d3s))\n",
    "print(len(g_ana.d3s))\n",
    "meanCL_abrt_3s = np.mean(g_ana.d3s[g_ana.d3s<0.9])\n",
    "meanCL_abrt_5s = np.mean(g_ana.d5s[g_ana.d5s<0.9])\n",
    "\n",
    "print(\"Assumes aborted events have the same CL as not aborted < 0.9 :\",meanCL_abrt_3s,meanCL_abrt_5s)\n",
    "print(\" ==============================================\")\n",
    "print(\" Mean number of events     : {:>8} {:>6}\".format(\"3s\",\"5s\"))\n",
    "print(\" --------------------------+-------------------\")\n",
    "print(\"          No weighting, All : {:>5.0f}    {:>5.0f}\".format( len(g_ana.d3s), len(g_ana.d5s) ) )\n",
    "print(\"           CL-weighted, All : {:>8.2f} {:>8.2f}\".format(sum(g_ana.d3s),sum(g_ana.d5s) ))\n",
    "print(\"     CL-weighted, corrected : {:>8.2f} {:>8.2f}\".format(sum(g_ana.d3s)+len(g_abrt)*meanCL_abrt_3s,\n",
    "                                                               sum(g_ana.d5s)+len(g_abrt)*meanCL_abrt_5s))\n",
    "print(\"     No weighting, > 90% CL : {:>5.0f}    {:>5.0f}\".format( len(g_3s), len(g_5s) ))\n",
    "print(\"         CL-weighted, > 90% : {:>8.2f} {:>8.2f}\".format( sum(g_3s.d3s), sum(g_5s.d5s)))\n"
   ]
  },
  {
   "cell_type": "code",
   "execution_count": null,
   "metadata": {},
   "outputs": [],
   "source": []
  },
  {
   "cell_type": "markdown",
   "metadata": {},
   "source": [
    "# Computing time"
   ]
  },
  {
   "cell_type": "code",
   "execution_count": null,
   "metadata": {},
   "outputs": [],
   "source": [
    "bins=25\n",
    "fig, (ax1,ax2) = plt.subplots(nrows=1,ncols=2,figsize=(15,6))\n",
    "\n",
    "ax1.hist(niter*g_vis.mct,bins=bins,facecolor=\"none\",edgecolor=\"black\",label=MyLabel(niter*g_vis.mct))\n",
    "ax1.hist(niter*g_vis[north].mct,bins=bins,alpha=0.5,label=MyLabel(niter*g_vis[north].mct,\"North\"))\n",
    "ax1.hist(niter*g_vis[south].mct,bins=bins,alpha=0.5,label=MyLabel(niter*g_vis[south].mct,\"South\"))\n",
    "ax1.set_title(f\"Simulation duration ({niter:3d} iter.)\")\n",
    "ax1.set_xlabel(\"Time (s)\")\n",
    "ax1.legend(fontsize=10)\n",
    "stamp(ax1,file)\n",
    "ax1.legend()\n",
    "\n",
    "ax2.hist(niter*g_vis.mct,bins=bins,facecolor=\"none\",edgecolor=\"black\",label=MyLabel(niter*g_vis.mct))\n",
    "ax2.hist(niter*g_vis[i3s].mct,bins=bins,alpha=0.5,label=MyLabel(niter*g_vis[i3s].mct,\"3$\\sigma$ det.\"))\n",
    "ax2.hist(niter*g_vis[i5s].mct,bins=bins,alpha=0.5,label=MyLabel(niter*g_vis[i5s].mct,\"5$\\sigma$ det.\"))\n",
    "ax2.set_title(f\"Simulation duration ({niter:3d} iter.)\")\n",
    "ax2.set_xlabel(\"Time (s)\")\n",
    "ax2.set_yscale('log')\n",
    "ax2.legend(fontsize=10)\n",
    "\n",
    "plt.show()"
   ]
  },
  {
   "cell_type": "markdown",
   "metadata": {},
   "source": [
    "# A closer look to statitics\n",
    "Which GRB are seen on both sites and with which significance ?"
   ]
  },
  {
   "cell_type": "code",
   "execution_count": null,
   "metadata": {},
   "outputs": [],
   "source": [
    "fig, (ax1,ax2) = plt.subplots(nrows=1,ncols=2,figsize=(12,6))\n",
    "ax1.scatter(grb[grb.site==\"South\"].t3s,grb[grb.site==\"North\"].t3s,marker=\"+\")\n",
    "\n",
    "ax1.set_xlabel(\"South\")\n",
    "ax1.set_xlabel(\"North\")\n",
    "ax1.set_xscale(\"log\")\n",
    "ax1.set_yscale(\"log\")\n",
    "ax1.set_title(\"Time to get $3 \\sigma$\")\n",
    "\n",
    "ax2.scatter(grb[grb.site==\"South\"].t5s,grb[grb.site==\"North\"].t5s,marker=\"+\")\n",
    "ax2.set_xlabel(\"South\")\n",
    "ax2.set_ylabel(\"North\")\n",
    "ax2.set_xscale(\"log\")\n",
    "ax2.set_yscale(\"log\")\n",
    "ax2.set_title(\"Time to get $5 \\sigma$\")\n",
    "\n"
   ]
  },
  {
   "cell_type": "code",
   "execution_count": null,
   "metadata": {},
   "outputs": [],
   "source": [
    "# Loop over all events and get gnames\n",
    "names = grb[grb.site==\"South\"].name\n",
    "i=0\n",
    "n00 = 0\n",
    "n30 =0\n",
    "n50 =0\n",
    "n03 = 0\n",
    "n33 = 0\n",
    "n53 = 0\n",
    "n05 = 0\n",
    "n35 = 0\n",
    "n55 = 0\n",
    "for name in names:\n",
    "    #print(name)\n",
    "    g = grb[grb.name==name]\n",
    "    seen_n_3s = ((g[north].d3s >= 0.9)).bool() \n",
    "    seen_s_3s = ((g[south].d3s >= 0.9)).bool()\n",
    "    seen_n_5s = ((g[north].d5s >= 0.9)).bool()\n",
    "    seen_s_5s = ((g[south].d5s >= 0.9)).bool()\n",
    "    not_n     = ((g[north].d3s < 0.9)  ).bool()\n",
    "    not_s     = ((g[south].d3s < 0.9)  ).bool()\n",
    "#   print(\"seen_n_3s = \",seen_n_3s)\n",
    "#   print(\"seen_s_3s = \",seen_s_3s)\n",
    "#   print(\"seen_n_5s = \",seen_n_5s)\n",
    "#   print(\"seen_s_5s = \",seen_s_5s)\n",
    "#   print(\"not_n     = \",not_n)\n",
    "#   print(\"not_s     = \",not_s)\n",
    "    n00 += int((not_n & not_s) == True)\n",
    "    n30 += int((seen_n_3s & not_s) == True)\n",
    "    n50 += int((seen_n_5s & not_s) == True)\n",
    "    n03 += int((not_n & seen_s_3s) == True)\n",
    "    n33 += int((seen_n_3s & seen_s_3s) == True)\n",
    "    n53 += int((seen_n_5s & seen_s_3s) == True)\n",
    "    n05 += int((not_n & seen_s_5s) == True)\n",
    "    n35 += int((seen_n_3s & seen_s_5s) == True)\n",
    "    n55 += int((seen_n_5s & seen_s_5s) == True)\n",
    "    i+=1\n",
    "    if (i>1e9):\n",
    "        break\n",
    "        \n",
    "print(\"{:15s} {:5s}\".format(\" \",\"North\"))\n",
    "print(\"{:10s} {:>5s} {:>5s} {:>5s} {:>5s}\".format(\"South\",\"<3s\",\"3s\",\"5s\",\"5s/3s\"))\n",
    "print(\"{:10s} {:5s} {:5s} {:5s} {:5s}\".format(\"----------\",\"-----\",\"-----\",\"-----\",\"-----\"))\n",
    "print(\"{:10s} {:5d} {:5d} {:5d} {:5.2f}\".format(\"<3s\",n00,n30,n50,n50/n30))\n",
    "print(\"{:10s} {:5d} {:5d} {:5d} {:5.2f}\".format(\"3s\",n03,n33,n53,n53/n33))\n",
    "print(\"{:10s} {:5d} {:5d} {:5d} {:5.2f}\".format(\"5s\",n05,n35,n55,n55/n35))\n",
    "print(\"{:10s} {:5s} {:5s} {:5s} {:5s}\".format(\"----------\",\"-----\",\"-----\",\"-----\",\"-----\"))\n",
    "print(\"{:10s} {:5.2f} {:5.2f} {:5.2f}\".format(\"5s/3s\",n05/n03,n35/n33,n55/n53))\n",
    "print(\"\\n\")\n",
    "print(\" Detected in North at 3s             : \",n30+n33,\" from which \",n35,\" are detected at 5 sigma\")\n",
    "print(\" Detected in South at 3s             : \",n03+n33,\" from which \",n53,\" are detected at 5 sigma\")\n",
    "print(\" Detected in North at 5s             : \",n50+n53,\" from which \",n33,\" are detected at 3 sigma\")\n",
    "print(\" Detected in South at 5s             : \",n05+n35,\" from which \",n33,\" are detected at 3 sigma\")"
   ]
  },
  {
   "cell_type": "markdown",
   "metadata": {},
   "source": [
    "# How far from the prompt ?"
   ]
  },
  {
   "cell_type": "code",
   "execution_count": null,
   "metadata": {
    "scrolled": false
   },
   "outputs": [],
   "source": [
    "# Time after which the detection is started\n",
    "fig, (ax1,ax2) = plt.subplots(nrows=1,ncols=2,figsize=(15,6))\n",
    "nbin = 100\n",
    "\n",
    "n,bins,_ = ax1.hist(grb[north].tstart/3600,\n",
    "                    alpha=0.5,\n",
    "                    bins=nbin,\n",
    "                    label=MyLabel(grb[north].tstart,\"Start after trigger\"))\n",
    "ax1.hist(grb[north].tstart[grb[north].tstart==0]/3600,\n",
    "         bins=bins,\n",
    "         label=MyLabel(grb[north].tstart[grb[north].tstart==0],\"Start with trigger\"))\n",
    "ax1.set_xlabel(\"Start time after trigger (h)\")\n",
    "ax1.set_ylabel(\"Event counts\")\n",
    "ax1.set_yscale(\"log\")\n",
    "ax1.set_title(\"North\")\n",
    "stamp(ax1,file)\n",
    "ax1.legend()\n",
    "\n",
    "n,bins,_ = ax2.hist(grb[south].tstart/3600,\n",
    "                    alpha=0.5,\n",
    "                    bins=nbin,\n",
    "                    label=MyLabel(grb[south].tstart,\"Start after trigger\"))\n",
    "ax2.hist(grb[south].tstart[grb[south].tstart==0]/3600,\n",
    "         bins=bins,\n",
    "         label=MyLabel(grb[south].tstart[grb[south].tstart==0],\"Start with trigger\"))\n",
    "ax2.set_xlabel(\"Start time after trigger (h)\")\n",
    "ax2.set_ylabel(\"Event counts\")\n",
    "ax2.set_yscale(\"log\")\n",
    "ax2.set_title(\"South\")\n",
    "stamp(ax2,file)\n",
    "ax2.legend()\n",
    "\n",
    "plt.show()"
   ]
  },
  {
   "cell_type": "code",
   "execution_count": null,
   "metadata": {},
   "outputs": [],
   "source": []
  },
  {
   "cell_type": "code",
   "execution_count": null,
   "metadata": {},
   "outputs": [],
   "source": [
    "nbin=25\n",
    "#fig, ((ax1, ax2),(ax11,ax22),(ax3,ax4)) = plt.subplots(nrows=3, ncols=2, figsize=(12,16))\n",
    "fig, ((ax1, ax2),(ax3,ax4)) = plt.subplots(nrows=2, ncols=2, figsize=(12,12))\n",
    "\n",
    "# Long term detection\n",
    "ax1.hist(g_3s.t3s/3600,bins=nbin,label=MyLabel(g_3s.t3s/3600))\n",
    "ax1.set_xlabel(\"Delay from trigger (h)\")\n",
    "ax1.set_title(\"$3\\sigma$\")\n",
    "ax1.set_yscale(\"log\")\n",
    "stamp(ax1,file)\n",
    "ax1.legend(loc=\"center right\")\n",
    "\n",
    "ax11 = inset_axes(ax1,\n",
    "                        width=\"40%\", # width = 30% of parent_bbox\n",
    "                        height=1., # height : 1 inch\n",
    "                        loc=\"upper right\")\n",
    "ax11.hist(g_3s.t3s/3600,bins=nbin)\n",
    "\n",
    "ax2.hist(g_5s.t5s/3600,bins=nbin,label=MyLabel(g_5s.t5s/3600))\n",
    "ax2.set_xlabel(\"Delay from trigger (h)\")\n",
    "ax2.set_title(\"$5\\sigma$\")\n",
    "ax2.set_yscale(\"log\")\n",
    "stamp(ax2,file)\n",
    "ax2.legend(loc=\"center right\")\n",
    "ax22 = inset_axes(ax2,\n",
    "                        width=\"40%\", # width = 30% of parent_bbox\n",
    "                        height=1., # height : 1 inch\n",
    "                        loc=\"upper right\")\n",
    "ax22.hist(g_5s.t5s/3600,bins=nbin)\n",
    "# # Long term detection - log-log\n",
    "# ax11.hist(np.log10(g_3s.t3s),bins=25,label=MyLabel(np.log10(g_3s.t3s)))\n",
    "# ax11.set_xlabel(\"Delay from trigger (log10(s))\")\n",
    "# #x11.set_title(\"$3\\sigma$\")\n",
    "# ax11.set_yscale(\"log\")\n",
    "# ax11.legend()\n",
    "\n",
    "# ax22.hist(np.log10(g_5s.t5s),bins=25,label=MyLabel(np.log10(g_5s.t5s)))\n",
    "# ax22.set_xlabel(\"Delay from trigger (log10(s))\")\n",
    "# #x22.set_title(\"$5\\sigma$\")\n",
    "# ax22.set_yscale(\"log\")\n",
    "# ax22.legend()\n",
    "\n",
    "# Short term detection\n",
    "ax3.hist(g_3s.t3s[g_3s.t3s<100],bins=nbin,label=MyLabel(g_3s.t3s[g_3s.t3s<100]))\n",
    "ax3.set_xlim(xmin=0)\n",
    "#ax3.set_title(\"$3\\sigma$\")\n",
    "ax3.axvline(x=30,ls=\":\",color=\"grey\",label=\"Slewing\")\n",
    "ax3.set_xlabel(\"Delay from trigger (s)\")\n",
    "ax3.legend()\n",
    "\n",
    "\n",
    "ax4.hist(g_5s.t5s[g_5s.t5s<100],bins=nbin,label=MyLabel(g_5s.t5s[g_5s.t5s<100]))\n",
    "ax4.set_xlim(xmin=0)\n",
    "#ax4.set_title(\"$5\\sigma$\")\n",
    "ax4.axvline(x=30,ls=\":\",color=\"grey\",label=\"Slewing\")\n",
    "ax4.set_xlabel(\"Delay from trigger (s)\")\n",
    "ax4.legend()\n",
    "\n",
    "#ax1.set_xscale(\"log\")\n",
    "plt.show()\n",
    "\n"
   ]
  },
  {
   "cell_type": "code",
   "execution_count": null,
   "metadata": {},
   "outputs": [],
   "source": [
    "# hem_3s = pd.pivot_table(g_ana[i3s], index=['site'])\n",
    "# hem_5s = pd.pivot_table(g_ana[i5s], index=['site'])\n",
    "# #display(hem_3s.T)\n",
    "# plt.hist(hem_3s.t3s)"
   ]
  },
  {
   "cell_type": "code",
   "execution_count": null,
   "metadata": {},
   "outputs": [],
   "source": [
    "# Compute GRB that ware detected in both south and north\n",
    "\n",
    "# Remove duplicate\n",
    "grbnames = []\n",
    "for i in range(0,len(grb)):\n",
    "    grbnames.append(grb.GRB[i])\n",
    "print(\"GRB : \",len(grbnames))\n",
    "grbnames = list(set(grbnames))\n",
    "print(\"GRB unique : \",len(grbnames))\n",
    "\n",
    "# Check absent GRBs\n",
    "nofound= 0\n",
    "for i in range(1,1001):\n",
    "    name = \"Event\"+str(i)\n",
    "    #print(i,name)\n",
    "    found = False\n",
    "    for g in grbnames:\n",
    "        if (g == name):\n",
    "            #print(g,\" found\")\n",
    "            found = True\n",
    "    if found==False:\n",
    "        #print(name,\"not found\")\n",
    "        nofound+=1\n",
    "\n",
    "print(\"Number of absent GRB : \",nofound,\" -> found = \",1000-nofound)"
   ]
  },
  {
   "cell_type": "code",
   "execution_count": null,
   "metadata": {},
   "outputs": [],
   "source": [
    "grb[grb.GRB==\"Event533\"].GRB"
   ]
  },
  {
   "cell_type": "code",
   "execution_count": null,
   "metadata": {},
   "outputs": [],
   "source": [
    "# Now count for each present GRB if South and North detection information is available\n",
    "ngrb_bothsite=0\n",
    "i = 0 # trick to do the firsts\n",
    "for name in grbnames:\n",
    "    g = grb.GRB==name\n",
    "    s = grb.Site==\"South\"\n",
    "    n = grb.Site==\"North\"\n",
    "    d3s_s = grb[g][s].t3s != -1\n",
    "    d5s_s = grb[g][s].t5s != -1\n",
    "    d3s_n = grb[g][n].t3s != -1\n",
    "    d5s_n = grb[g][n].t5s != -1\n",
    "    \n",
    "    \n",
    "    \n",
    "    i+=1\n",
    "    if (i>2):\n",
    "        break\n",
    "#         if (len(grb[g])==1):\n",
    "#         print(name)\n",
    "#         ngrb_bothsite +=1\n",
    "        \n",
    "        \n",
    "print(\"Number of GRB with South/North entries       :\",ngrb_bothsite)\n",
    "# print(\"Number of GRB with none detected at 3 sigma  :\",n_notdetected)"
   ]
  },
  {
   "cell_type": "code",
   "execution_count": null,
   "metadata": {},
   "outputs": [],
   "source": [
    "g= (grb.GRB==\"Event533\")\n",
    "grb.Site[g]"
   ]
  },
  {
   "cell_type": "code",
   "execution_count": null,
   "metadata": {},
   "outputs": [],
   "source": [
    "################## Merge dataframes #######################################\n",
    "# See: https://pandas.pydata.org/pandas-docs/stable/user_guide/merging.html\n",
    "# for merge options\n",
    "# When event are in common, only events having both TC and WT information   \n",
    "# kept, allowing for correlation plot to be obtained\n",
    "# If not, only individual dsitribution can be plotted\n",
    "# \"inner\" is default in Panda\n",
    "#\n",
    "# Merge method\tSQL Join Name\t  Description\n",
    "# --------------------------------------------------------------\n",
    "# left\t        LEFT OUTER JOIN\t  Use keys from left frame only\n",
    "# right\t        RIGHT OUTER JOIN  Use keys from right frame only\n",
    "# outer\t        FULL OUTER JOIN\t  Use union of keys from both frames\n",
    "# inner\t        INNER JOIN\t      Use intersection of keys from both frames"
   ]
  },
  {
   "cell_type": "code",
   "execution_count": null,
   "metadata": {},
   "outputs": [],
   "source": [
    "#     if (common):\n",
    "#         tc_wt = pd.merge(tc, wt,  on=\"Id\", how=\"inner\", suffixes=('_tc', '_wt'))\n",
    "#         df = pd.merge(tc_wt, ref, on=\"Id\", how=\"inner\" )\n",
    "#     else:    \n",
    "#         tc_wt = pd.merge(tc, wt,  on=\"Id\", how=\"outer\", suffixes=('_tc', '_wt'))  #.dropna(how='any')\n",
    "#         df = pd.merge(tc_wt, ref, on=\"Id\", how=\"outer\")\n",
    "# tc_wt = pd.merge(tc, wt, on=\"Id\", suffixes=('_tc', '_wt'))  #.dropna(how='any')\n",
    "# df = pd.merge(tc_wt, ref, on=\"Id\")\n",
    "grb2 = grb.merge(grb[n],grb[s],on=\"GRB\",suffixes=('_n','_s'))\n"
   ]
  },
  {
   "cell_type": "markdown",
   "metadata": {},
   "source": [
    "### Analyze data"
   ]
  },
  {
   "cell_type": "code",
   "execution_count": null,
   "metadata": {},
   "outputs": [],
   "source": [
    "# Show z bias in detection\n",
    "bins = 25\n",
    "nrows = 2\n",
    "ncols = 2\n",
    "fig, ax = plt.subplots(nrows=nrows,ncols=ncols,figsize=(5*ncols,5*nrows))\n",
    "\n",
    "a=ax[0][0]\n",
    "\n",
    "a.hist(z,alpha=0.5,bins=bins)\n",
    "a.hist(z[idt3s],bins=bins,alpha=0.5,label=MyLabel(z[idt3s],\"3 $\\sigma$\"))\n",
    "a.hist(z[idt5s],bins=bins,label=MyLabel(z[idt5s],\"5 $\\sigma$\"))\n",
    "a.hist(z[not idt3s],bins=bins,label=MyLabel(z[idt5s],\"Not detected\"))\n",
    "a.set_title(\"Redshift\")\n",
    "a.legend()\n",
    "\n",
    "\n",
    "a=ax[0][1]\n",
    "a.hist(sigmax,bins=bins)\n",
    "a.set_title(\"Max signif.\")\n",
    "\n",
    "a=ax[1][0]\n",
    "a.hist2d(z,sigmax,alpha=0.5,bins=bins)\n",
    "a.set_xlabel(\"z\")\n",
    "a.set_ylabel(\"$\\sigma_{max}$\")\n",
    "plt.show()"
   ]
  },
  {
   "cell_type": "code",
   "execution_count": null,
   "metadata": {},
   "outputs": [],
   "source": []
  }
 ],
 "metadata": {
  "kernelspec": {
   "display_name": "Python 3",
   "language": "python",
   "name": "python3"
  },
  "language_info": {
   "codemirror_mode": {
    "name": "ipython",
    "version": 3
   },
   "file_extension": ".py",
   "mimetype": "text/x-python",
   "name": "python",
   "nbconvert_exporter": "python",
   "pygments_lexer": "ipython3",
   "version": "3.7.3"
  }
 },
 "nbformat": 4,
 "nbformat_minor": 2
}
