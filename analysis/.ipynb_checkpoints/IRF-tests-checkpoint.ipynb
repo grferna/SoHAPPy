{
 "cells": [
  {
   "cell_type": "code",
   "execution_count": 5,
   "metadata": {},
   "outputs": [],
   "source": [
    "# Fits table reading here : https://docs.astropy.org/en/stable/io/fits/\n",
    "# import numpy as np\n",
    "# import matplotlib.pyplot as plt\n",
    "\n",
    "import sys\n",
    "import os\n",
    "import numpy as np\n",
    "import astropy.units as u\n",
    "from pathlib import Path\n",
    "\n",
    "sys.path.append('../')\n",
    "import ana_config as cf\n",
    "import irf "
   ]
  },
  {
   "cell_type": "code",
   "execution_count": 158,
   "metadata": {},
   "outputs": [],
   "source": []
  },
  {
   "cell_type": "code",
   "execution_count": 160,
   "metadata": {},
   "outputs": [
    {
     "name": "stdout",
     "output_type": "stream",
     "text": [
      " Best theta :  40deg  ->  40.0 deg\n",
      " Best phi =  average\n",
      " Best obs :  100s  ->  100.0 s\n",
      "status =  True  Found :  CTA-Performance-North-40deg-average-100s_20181203.fits.gz  in  ../../input/irf/Reco1-EvtDisp/North\n"
     ]
    }
   ],
   "source": [
    "# The follow up of a GRB gives this data\n",
    "# Choose an input\n",
    "chain = \"Reco1\"\n",
    "hem   = \"North\"\n",
    "theta = 45.34*u.deg\n",
    "phi   = 75.23*u.deg\n",
    "#dt    = 100*u.h+25*u.min\n",
    "dt = 10*u.s\n",
    "theta, phi, dt\n",
    "\n",
    "def get_best_irf()\n",
    "# Find best approximate values\n",
    "theta_list     = {\"20deg\":20*u.deg,\"40deg\":40*u.deg,\"60deg\":60*u.deg}\n",
    "theta_key   = find_best_key(theta_list,theta)\n",
    "print(\" Best theta : \",theta_key,\" -> \",theta_list[theta_key])\n",
    "\n",
    "phi_best = np.nan\n",
    "phi_key = \"average\"\n",
    "print(\" Best phi = \",phi_key)\n",
    "\n",
    "dt_list = {\"100s\": (100*u.s),\n",
    "           \"30m\" : (30*u.min).to(u.s), \n",
    "           \"05h\" : (5*u.h).to(u.s), \n",
    "           \"50h\" : (50*u.h).to(u.s)}\n",
    "dt_key = find_best_key(dt_list,dt.to(u.s))\n",
    "print(\" Best obs : \",dt_key,\" -> \",dt_list[dt_key])\n",
    "\n",
    "# Find corresponding best IRF\n",
    "(status, folder, file) = irf.IRF.get_irf_file(\"../\"+cf.irf_folder, \n",
    "                                  chain, \n",
    "                                  hem, \n",
    "                                  theta_key, \n",
    "                                  phi_key, \n",
    "                                  dt_key,NSB=False)\n",
    "print('status = ',status, ' Found : ',file,' in ',folder)"
   ]
  },
  {
   "cell_type": "code",
   "execution_count": null,
   "metadata": {},
   "outputs": [],
   "source": []
  }
 ],
 "metadata": {
  "kernelspec": {
   "display_name": "Python 3",
   "language": "python",
   "name": "python3"
  },
  "language_info": {
   "codemirror_mode": {
    "name": "ipython",
    "version": 3
   },
   "file_extension": ".py",
   "mimetype": "text/x-python",
   "name": "python",
   "nbconvert_exporter": "python",
   "pygments_lexer": "ipython3",
   "version": "3.7.3"
  }
 },
 "nbformat": 4,
 "nbformat_minor": 2
}
