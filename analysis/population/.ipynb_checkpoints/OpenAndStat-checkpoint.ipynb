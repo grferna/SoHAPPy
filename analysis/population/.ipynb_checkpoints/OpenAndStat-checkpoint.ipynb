{
 "cells": [
  {
   "cell_type": "markdown",
   "metadata": {},
   "source": [
    "# SoHAPPY analysis tools"
   ]
  },
  {
   "cell_type": "code",
   "execution_count": 1,
   "metadata": {},
   "outputs": [
    {
     "data": {
      "text/plain": [
       "'0.17'"
      ]
     },
     "execution_count": 1,
     "metadata": {},
     "output_type": "execute_result"
    }
   ],
   "source": [
    "import gammapy\n",
    "gammapy.__version__"
   ]
  },
  {
   "cell_type": "code",
   "execution_count": 2,
   "metadata": {},
   "outputs": [],
   "source": [
    "import sys\n",
    "import matplotlib.pyplot as plt\n",
    "import init as init\n",
    "import statistics as stt"
   ]
  },
  {
   "cell_type": "markdown",
   "metadata": {},
   "source": [
    "## Get data from input file\n",
    "The files are obtained from the name of the folder.\n",
    "Possible folder are the following (not exhaustive)\n",
    "\n",
    "The default dekay time is 107 s = 30 s for slewing and 77 s for swift trigger delay\n",
    "\n",
    "Old default - first 107 s check:\n",
    "* `outfolder = \"../output/check107/\"`\n",
    "\n",
    "Old IRF windows (closest):\n",
    "* `outfolder = \"../output/check107-defvis-10-oldirf/\"`\n",
    "\n",
    "New IRF windows (new cos or log edges, not closest:\n",
    "* `outfolder = \"../output/check107-defvis-10-newirf/\"` (default visibility)\n",
    "* `outfolder = \"../output/check107-newvis-10-newirf/\"` (recomputed viibility)\n",
    "* `outfolder = \"../output/check107-newvis-24-newirf/\"` (New visibility)\n",
    "\n",
    "New with gammapy 0.17 implementation:\n",
    "* `outfolder = \"../output/test107_17_defvis-newirf/\"` (Default visibility)"
   ]
  },
  {
   "cell_type": "code",
   "execution_count": 5,
   "metadata": {},
   "outputs": [
    {
     "name": "stdout",
     "output_type": "stream",
     "text": [
      "../output/check107-newvis-10-newirf/data.csv  exists\n",
      " DATA READING from  ../output/check107-newvis-10-newirf/data.csv\n",
      "Supplementary information is present\n"
     ]
    }
   ],
   "source": [
    "outfolder = \"../output/check107-newvis-10-newirf/\"\n",
    "# \"../output/test107_17_defvis-newirf/\"\n",
    "file = init.create_csv(outfolder)\n",
    "(grb, g_ana, gn, gs, gb) = init.get_data(file)"
   ]
  },
  {
   "cell_type": "markdown",
   "metadata": {},
   "source": [
    "# Check statistics"
   ]
  },
  {
   "cell_type": "code",
   "execution_count": 6,
   "metadata": {},
   "outputs": [
    {
     "name": "stdout",
     "output_type": "stream",
     "text": [
      " GENERAL CHECKS\n",
      "   Number of rows =  3000\n",
      "   No visible flag, unvis           =  -999\n",
      "   Iteration # from error code, 3s counts, 5s counts :  1 1 1\n",
      "+----------------------- Statistics --------------------------+\n",
      "   Not visible   Fully analyzed      Aborted    \n",
      "       987            2013              0       \n"
     ]
    }
   ],
   "source": [
    "stt.check(grb,deep=False)"
   ]
  },
  {
   "cell_type": "code",
   "execution_count": 7,
   "metadata": {},
   "outputs": [
    {
     "name": "stdout",
     "output_type": "stream",
     "text": [
      "\n",
      " --------------------------------------------------------------\n",
      " Normalized to 44 years\n",
      " --------------------------------------------------------------\n",
      " Rate :       N       S       B   Nonly   Sonly    Both   Total\n",
      " ------ ------- ------- ------- ------- ------- ------- -------\n",
      " All  :    16.3    16.8    12.6     3.7     4.2    12.6    20.5\n",
      " Vis. :    16.3    16.8    12.6     3.7     4.2    12.6    20.5\n",
      " 3s   :     3.1     3.0     3.4     0.7     0.8     3.4     4.9\n",
      " 5s   :     2.5     2.4     2.8     0.6     0.6     2.8     4.0\n",
      " --------------------------------------------------------------\n"
     ]
    }
   ],
   "source": [
    "# stt.rate(grb,gn,gs,gb)\n",
    "stt.rate(grb,gn,gs,gb, nyears=44)"
   ]
  },
  {
   "cell_type": "code",
   "execution_count": 29,
   "metadata": {},
   "outputs": [
    {
     "data": {
      "text/plain": [
       "12"
      ]
     },
     "execution_count": 29,
     "metadata": {},
     "output_type": "execute_result"
    }
   ],
   "source": [
    "len(gn.name[gn.sigmx>25] [(gn.t2 - gn.t1)>24*3600])"
   ]
  },
  {
   "cell_type": "code",
   "execution_count": 30,
   "metadata": {},
   "outputs": [
    {
     "data": {
      "text/plain": [
       "13"
      ]
     },
     "execution_count": 30,
     "metadata": {},
     "output_type": "execute_result"
    }
   ],
   "source": [
    "len(gs.name[gs.sigmx>25] [(gs.t2 - gs.t1)>24*3600])"
   ]
  },
  {
   "cell_type": "code",
   "execution_count": 31,
   "metadata": {},
   "outputs": [
    {
     "data": {
      "text/plain": [
       "56"
      ]
     },
     "execution_count": 31,
     "metadata": {},
     "output_type": "execute_result"
    }
   ],
   "source": [
    "len(gb.name[gb.sigmx>25] [(gb.t2 - gb.t1)>24*3600])"
   ]
  },
  {
   "cell_type": "code",
   "execution_count": 21,
   "metadata": {},
   "outputs": [
    {
     "data": {
      "text/plain": [
       "0         107.00\n",
       "15        437.60\n",
       "24        107.00\n",
       "42      62860.97\n",
       "93       3436.69\n",
       "          ...   \n",
       "2850    24351.04\n",
       "2859    53815.95\n",
       "2871    58283.69\n",
       "2892    50573.78\n",
       "2982    53832.70\n",
       "Name: t1, Length: 164, dtype: float64"
      ]
     },
     "execution_count": 21,
     "metadata": {},
     "output_type": "execute_result"
    }
   ],
   "source": [
    "gn.t1"
   ]
  },
  {
   "cell_type": "code",
   "execution_count": null,
   "metadata": {},
   "outputs": [],
   "source": []
  }
 ],
 "metadata": {
  "kernelspec": {
   "display_name": "Python 3",
   "language": "python",
   "name": "python3"
  },
  "language_info": {
   "codemirror_mode": {
    "name": "ipython",
    "version": 3
   },
   "file_extension": ".py",
   "mimetype": "text/x-python",
   "name": "python",
   "nbconvert_exporter": "python",
   "pygments_lexer": "ipython3",
   "version": "3.7.0"
  }
 },
 "nbformat": 4,
 "nbformat_minor": 4
}
