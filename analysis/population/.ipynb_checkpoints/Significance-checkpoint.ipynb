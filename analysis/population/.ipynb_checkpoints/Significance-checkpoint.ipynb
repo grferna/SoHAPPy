{
 "cells": [
  {
   "cell_type": "markdown",
   "metadata": {},
   "source": [
    "# Analyze SoHappy output files - significances and detection rate\n",
    "\n",
    "This scripts analyse the fits file produced with SoHappy and print out the detection rates"
   ]
  },
  {
   "cell_type": "code",
   "execution_count": null,
   "metadata": {},
   "outputs": [],
   "source": [
    "import gammapy\n",
    "gammapy.__version__"
   ]
  },
  {
   "cell_type": "code",
   "execution_count": null,
   "metadata": {},
   "outputs": [],
   "source": [
    "import init as init"
   ]
  },
  {
   "cell_type": "code",
   "execution_count": null,
   "metadata": {},
   "outputs": [],
   "source": [
    "# Open data \n",
    "#outfolder = \"../output/test107_17_defvis-newirf/\"\n",
    "outfolder= \"../../../output/new17-107-24deg-newirf/\"\n",
    "file = init.create_csv(outfolder)\n",
    "(grb, g_ana, gn, gs, gb) = init.get_data(file)"
   ]
  },
  {
   "cell_type": "code",
   "execution_count": null,
   "metadata": {},
   "outputs": [],
   "source": []
  },
  {
   "cell_type": "code",
   "execution_count": null,
   "metadata": {},
   "outputs": [],
   "source": [
    "import sys\n",
    "\n",
    "import numpy as np\n",
    "import matplotlib.pyplot as plt\n",
    "from mpl_toolkits.axes_grid1.inset_locator import zoomed_inset_axes,inset_axes\n",
    "from mpl_toolkits.axes_grid1.inset_locator import mark_inset\n",
    "\n",
    "plt.style.use('seaborn-talk') # Make the labels readable\n",
    "#plt.style.use('seaborn-poster') # Make the labels readable - bug with normal x marker !!!\n",
    "codefolder = \"../SoHAPPy/\" \n",
    "sys.path.append(codefolder) \n",
    "\n",
    "col_n = \"tab:blue\"\n",
    "col_s = \"tab:red\"\n",
    "col_b = \"tab:purple\"\n",
    "\n",
    "from utilities import MyLabel\n",
    "from utilities import stamp"
   ]
  },
  {
   "cell_type": "code",
   "execution_count": null,
   "metadata": {},
   "outputs": [],
   "source": []
  },
  {
   "cell_type": "code",
   "execution_count": null,
   "metadata": {
    "scrolled": false
   },
   "outputs": [],
   "source": [
    "nbin=25\n",
    "fig, ax = plt.subplots(nrows=1, ncols=1,figsize=(8,8))\n",
    "var = np.log10(gb[gb.sigmx>0].sigmx)\n",
    "n, bins,_ = ax.hist(var,\n",
    "                    bins=nbin,\n",
    "                    alpha=0.5,facecolor=col_b,\n",
    "                    label=MyLabel(var,\"N&S\",stat=\"med\"))\n",
    "\n",
    "var = np.log10(gn[gn.sigmx>0].sigmx)\n",
    "ax.hist(var,\n",
    "        bins=bins,alpha=0.5,\n",
    "        facecolor=col_n,\n",
    "        label=MyLabel(var,\"N only\",stat=\"med\"))\n",
    "\n",
    "var = np.log10(gs[gs.sigmx>0].sigmx)\n",
    "ax.hist(var,\n",
    "        bins=bins,\n",
    "        alpha=0.5,facecolor=col_s,\n",
    "        label=MyLabel(var,\"S only\",stat=\"med\"))\n",
    "\n",
    "ax.set_xlabel(\"$log_{10}(\\sigma_{max}>0)$\")\n",
    "ax.axvline(x=np.log10(3),color=\"tab:orange\",ls=\":\",label=\"$3\\sigma$\")\n",
    "ax.axvline(x=np.log10(5),color=\"tab:green\",ls=\":\",label=\"$5\\sigma$\")\n",
    "\n",
    "ax.legend()\n",
    "stamp(ax,outfolder)\n",
    "plt.show()"
   ]
  },
  {
   "cell_type": "code",
   "execution_count": null,
   "metadata": {},
   "outputs": [],
   "source": [
    "nbin=25\n",
    "fig, ax = plt.subplots(nrows=1, ncols=1,figsize=(8,8))\n",
    "var = np.log10(gb[gb.sigmx>0].tmx)\n",
    "n, bins,_ = ax.hist(var,\n",
    "                    bins=nbin,\n",
    "                    alpha=0.5,facecolor=col_b,\n",
    "                    label=MyLabel(var,\"N&S\",stat=\"med\"))\n",
    "\n",
    "var = np.log10(gn[gn.sigmx>0].tmx)\n",
    "ax.hist(var,\n",
    "        bins=bins,alpha=0.5,\n",
    "        facecolor=col_n,\n",
    "        label=MyLabel(var,\"N only\",stat=\"med\"))\n",
    "\n",
    "var = np.log10(gs[gs.sigmx>0].tmx)\n",
    "ax.hist(var,\n",
    "        bins=bins,\n",
    "        alpha=0.5,facecolor=col_s,\n",
    "        label=MyLabel(var,\"S only\",stat=\"med\"))\n",
    "\n",
    "ax.set_xlabel(\"$log_{10}(\\Delta t_{max})$\")\n",
    "\n",
    "ax.legend()\n",
    "stamp(ax,outfolder)\n",
    "plt.show()"
   ]
  },
  {
   "cell_type": "code",
   "execution_count": null,
   "metadata": {
    "scrolled": false
   },
   "outputs": [],
   "source": [
    "def high_sigma(gpop,ax=None,color=\"grey\",inset=True, maxsigmx= 500, nbin=100):\n",
    "\n",
    "    # Plot sigmax\n",
    "    n,bins,_ = ax.hist(gpop.sigmx,bins=nbin,label=MyLabel(gpop.sigmx,stat=\"med\"),facecolor=color)\n",
    "    ax.set_yscale(\"log\")\n",
    "    ax.set_xlabel(\"$\\sigma_{max}$\")\n",
    "    ax.set_ylabel(\"Event counts\")\n",
    "    ax.legend(loc=\"center right\")\n",
    "    #ax.set_title(\"Negative significances excluded\")\n",
    "    #ax.set_xlim([0,7000])    \n",
    "    # Inset in log\n",
    "    if (inset):\n",
    "        axx = inset_axes(ax, width=\"75%\", height=1.2,loc=\"upper right\")\n",
    "        n,bins,_ = axx.hist(np.log10(gpop[gpop.sigmx>0].sigmx),\n",
    "                           bins=25,edgecolor=\"black\",facecolor=color,\n",
    "                            alpha=0.5,\n",
    "                           label=MyLabel(gpop[gpop.sigmx>0].sigmx))\n",
    "        axx.axvline(np.log10(3),ls=\":\",color=\"red\",lw=\"2\",label=\"$3\\sigma$\")\n",
    "        axx.axvline(np.log10(5),color=\"red\",lw=\"2\",label=\"$5\\sigma$\")\n",
    "        axx.set_xlabel(\"Log $\\sigma_{max}$\")\n",
    "\n",
    "    # Outliers\n",
    "    outlier=zip(gpop[gpop.sigmx>maxsigmx].name,gpop[gpop.sigmx>maxsigmx].sigmx)\n",
    "    i=1\n",
    "    for g in outlier:\n",
    "        y = 1+(i%3)\n",
    "        ax.text(x=g[1],y=y,s=g[0][5:],rotation=45)\n",
    "        i+=1\n",
    "    return\n",
    "\n",
    "fig,ax = plt.subplots(nrows=3, ncols=1,figsize=(10,18))\n",
    "high_sigma(gn,color=col_n,ax=ax[0])\n",
    "high_sigma(gs,color=col_s,ax=ax[1])\n",
    "high_sigma(gb,color=col_b,ax=ax[2],maxsigmx=1000)\n",
    "plt.tight_layout()"
   ]
  },
  {
   "cell_type": "code",
   "execution_count": null,
   "metadata": {},
   "outputs": [],
   "source": [
    "def low_sigma(gpop,ax=None,color=\"grey\",inset=True,maxsigmx=3,nbin=100):\n",
    "    n,bins,_ = ax.hist(gpop.sigmx[gpop.sigmx <= maxsigmx],\n",
    "                       bins=nbin,label=MyLabel(gpop.sigmx[gpop.sigmx <= 3],stat=\"med\"))\n",
    "    ax.set_xlabel(\"$\\sigma_{max}$\")\n",
    "    ax.set_ylabel(\"Event counts\")\n",
    "    ax.legend(loc=\"lower right\")\n",
    "    #ax.set_title(\"Negative significances included\")\n",
    "    \n",
    "    if (inset):\n",
    "        axx = inset_axes(ax, width=\"40%\", height=1.6, loc=\"upper right\")\n",
    "        n,bins,_ = axx.hist(gpop.sigmx,bins=25,edgecolor=\"black\",facecolor=color,\n",
    "                            alpha=0.5,label=MyLabel(gpop.sigmx))\n",
    "        axx.set_yscale(\"log\")\n",
    "    return\n",
    "fig,ax = plt.subplots(nrows=3, ncols=1,figsize=(6,12))\n",
    "low_sigma(gn,color=col_n,ax=ax[0])\n",
    "low_sigma(gs,color=col_s,ax=ax[1])\n",
    "low_sigma(gb,color=col_b,ax=ax[2])\n",
    "plt.tight_layout()"
   ]
  },
  {
   "cell_type": "code",
   "execution_count": null,
   "metadata": {},
   "outputs": [],
   "source": [
    "###-----------------------------------------------------------------------------\n",
    "def plot_historical(ax = None, site =\"nowhere\"):\n",
    "    \"\"\"\n",
    "    Display some well nknow GRB friends\n",
    "    GRB 190114C\tMAGIC\t0.4245\t3.00E+53\n",
    "    GRB 180720B\tHESS\t0.654\t6.00E+53abs\n",
    "    GRB 190829A HESS    0.078   2.00E50   \n",
    "    GRB 080916C\t\t4.3\t8.80E+54\n",
    "    GRB 090902B\t\t1.822\t2.20E+52\n",
    "    GRB 130427A\t\t0.34\t9.60E+63\n",
    "    \"\"\"\n",
    "    if (site == \"North\"):\n",
    "        ax.plot(0.4245,np.log10(3e53),marker=\"*\",ms=15,lw=0,color=\"red\",label=\"190114C\")\n",
    "    elif (site ==\"South\"):\n",
    "        ax.plot(0.654,np.log10(6e53),marker=\"*\",ms=15,lw=0,color=\"red\",label=\"180720B\")\n",
    "        ax.plot(0.0785,np.log10(2e50),marker=\"*\",ms=15,lw=0,color=\"red\",label=\"190829A\")\n",
    "    else:\n",
    "        ax.plot(4.3  ,np.log10(8.8e54),marker=\"s\",ms=10,lw=0,color=\"blue\",alpha=0.8,label=\"080916C\")\n",
    "        ax.plot(1.822,np.log10(2.2e52),marker=\"X\",ms=10,lw=0,color=\"blue\",alpha=0.8,label=\"090902B\")\n",
    "        ax.plot(0.34 ,np.log10(9.6e53),marker=\"D\",ms=10,lw=0,color=\"blue\",alpha=0.8,label=\"130427A\")\n",
    "    ax.legend(loc=\"lower right\")\n",
    "    return\n",
    "###-----------------------------------------------------------------------------\n",
    "def eiso_z(ginit, gpop, var,\n",
    "           ax = None,\n",
    "           color = \"blue\",\n",
    "           size  = 20,\n",
    "           title = \"No title\",\n",
    "           label =\"No label\",\n",
    "           xmin  = 0,xmax = 0,\n",
    "           ymin  = 0,ymax = 0,\n",
    "           archive=False,\n",
    "           zlimit = 25,\n",
    "           decoration=True):\n",
    "    \"\"\"\n",
    "    Create a scatter plot of a (typically) detected population over an initial one\n",
    "    \"\"\"\n",
    "    # Reference population\n",
    "    ax.scatter(ginit.z, np.log10(ginit.Eiso), facecolor = \"black\", edgecolor = \"black\",\n",
    "                marker = '.', alpha = 0.8, s = 10, label     = 'All')\n",
    "    \n",
    "    # Detected population\n",
    "    sc = ax.scatter(gpop.z, np.log10(gpop.Eiso), \n",
    "               alpha = 0.5, c= color, s = size, label = label)\n",
    "    #plt.colorbar(sc,ax = ax)\n",
    "    # Decorate \n",
    "    ax.set_xlim(xmin=xmin,xmax=zlimit)\n",
    "    if (ymin != ymax): ax.set_ylim(ymin=ymin,ymax=ymax)\n",
    "    if (decoration):\n",
    "        ax.set_xlabel(\"Redshift ($z$)\")\n",
    "        ax.set_ylabel(\"log10($E_{iso}$)\")\n",
    "        ax.set_title(title)\n",
    "        ax.legend(loc=\"lower right\")\n",
    "        stamp(ax,outfolder)\n",
    "    return"
   ]
  },
  {
   "cell_type": "code",
   "execution_count": null,
   "metadata": {},
   "outputs": [],
   "source": [
    "###-----------------------------------------------------------------------------\n",
    "import matplotlib.cm as cm\n",
    "\n",
    "plt.figure(figsize=(12,12))\n",
    "ax3 = plt.subplot(212)\n",
    "# ax1.margins(0.05)           # Default margin is 0.05, value 0 means fit\n",
    "ax1 = plt.subplot(221)\n",
    "#ax2.margins(2, 2)           # Values >0.0 zoom out\n",
    "ax2 = plt.subplot(222)\n",
    "# ax3.margins(x=0, y=-0.25)   # Values in (-0.5, 0.0) zooms in to center\n",
    "\n",
    "zlimit = 7\n",
    "for gpop, site, axis in zip([gn[gn.sigmx>3],gs[gs.sigmx>3],gb[gb.sigmx>3]],[\"North\",\"South\",\"Both\"],[ax1,ax2,ax3]):\n",
    "    var = gpop.sigmx\n",
    "    #color  = -np.log10(var)\n",
    "    #color = cm.rainbow(np.linspace(0, 1, n))\n",
    "    #color = cm.viridis(np.linspace(0, 1, n))\n",
    "    color = cm.cool(np.log10(var)/np.max(np.log10(var)))\n",
    "    size   = 100*np.log10(var)**2\n",
    "    eiso_z(grb,gpop,var,color=color,size=size,ax=axis, \n",
    "           label=\"$\\sigma_{max}$\",\n",
    "           title=site,\n",
    "           ymin=50.5,ymax=55.5,zlimit = 5.5)\n",
    "    plot_historical(ax=axis,site=site)\n",
    "    \n",
    "    # Inset\n",
    "#     if (site==\"Both\"):\n",
    "#         axx = inset_axes(axis, width=\"30%\", height=1.5,loc=\"upper right\")\n",
    "#         eiso_z(grb,gpop,var,color=color,size=size,ax=axx, \n",
    "#                label=\"$\\sigma_{max}$\",\n",
    "#                title=site,\n",
    "#                ymin=50.5,ymax=55.5,xmin=7,decoration=False)\n",
    "plt.tight_layout()"
   ]
  },
  {
   "cell_type": "markdown",
   "metadata": {},
   "source": [
    "# Have a look to North and South separately"
   ]
  },
  {
   "cell_type": "code",
   "execution_count": null,
   "metadata": {},
   "outputs": [],
   "source": [
    "print(\"Seen in North : \",len(g_ana[g_ana.site==\"North\"]))\n",
    "print(\"        South : \",len(g_ana[g_ana.site==\"South\"]))\n",
    "plt.figure(figsize=(8,8))\n",
    "ax = plt.subplot(111)\n",
    "\n",
    "gpop = g_ana[g_ana.d3s>0][g_ana.site==\"South\"]\n",
    "print(len(gpop))\n",
    "var    = gpop.d3s\n",
    "color = cm.rainbow(var/max(var))\n",
    "size   = var\n",
    "eiso_z(grb,gpop,var,color=color,size=size,ax=ax, \n",
    "           label=\"Detection fraction (100 trials)\",\n",
    "           title=\"South\",\n",
    "           ymin=50,ymax=55.5,zlimit = 7)\n"
   ]
  },
  {
   "cell_type": "code",
   "execution_count": null,
   "metadata": {},
   "outputs": [],
   "source": []
  },
  {
   "cell_type": "code",
   "execution_count": null,
   "metadata": {},
   "outputs": [],
   "source": [
    "plt.figure(figsize=(12,18))\n",
    "ax3 = plt.subplot(212)\n",
    "# ax1.margins(0.05)           # Default margin is 0.05, value 0 means fit\n",
    "ax1 = plt.subplot(221)\n",
    "#ax2.margins(2, 2)           # Values >0.0 zoom out\n",
    "ax2 = plt.subplot(222)\n",
    "# ax3.margins(x=0, y=-0.25)   # Values in (-0.5, 0.0) zooms in to center\n",
    "\n",
    "zlimit = 7\n",
    "for gpop, site, axis in zip([gn[gn.sigmx>3],gs[gs.sigmx>3],gb[gb.sigmx>3]],[\"North\",\"South\",\"Both\"],[ax1,ax2,ax3]):\n",
    "    var = gpop.sigmx\n",
    "    #color  = -np.log10(var)\n",
    "    #color = cm.rainbow(np.linspace(0, 1, n))\n",
    "    #color = cm.viridis(np.linspace(0, 1, n))\n",
    "    color = cm.cool(np.log10(var)/np.max(np.log10(var)))\n",
    "    size   = 100*np.log10(var)**2\n",
    "    eiso_z(grb,gpop,var,color=color,size=size,ax=axis, \n",
    "           label=\"$\\sigma_{max}$\",\n",
    "           title=site,\n",
    "           ymin=50,ymax=55.5,zlimit = 5.5)\n",
    "    plot_historical(ax=axis,site=site)\n",
    "    \n",
    "    # Inset\n",
    "#     if (site==\"Both\"):\n",
    "#         axx = inset_axes(axis, width=\"30%\", height=1.5,loc=\"upper right\")\n",
    "#         eiso_z(grb,gpop,var,color=color,size=size,ax=axx, \n",
    "#                label=\"$\\sigma_{max}$\",\n",
    "#                title=site,\n",
    "#                ymin=50.5,ymax=55.5,xmin=7,decoration=False)\n",
    "plt.tight_layout()"
   ]
  },
  {
   "cell_type": "code",
   "execution_count": null,
   "metadata": {},
   "outputs": [],
   "source": [
    "print(\"N : \",len(gn[gn.sigmx>500]))\n",
    "print(\"S : \",len(gs[gs.sigmx>500]))\n",
    "print(\"B : \",len(gb[gb.sigmx>500]))\n"
   ]
  },
  {
   "cell_type": "code",
   "execution_count": null,
   "metadata": {},
   "outputs": [],
   "source": [
    "plt.hist(gb.tmx)"
   ]
  },
  {
   "cell_type": "code",
   "execution_count": null,
   "metadata": {},
   "outputs": [],
   "source": [
    "plt.hist((gb.t5s[gb.t5s<100]),bins=100)\n",
    "plt.semilogy()\n"
   ]
  },
  {
   "cell_type": "code",
   "execution_count": null,
   "metadata": {},
   "outputs": [],
   "source": [
    "mask = gn.err==niter\n",
    "plt.hist(gn[mask].err)\n",
    "plt.show()"
   ]
  },
  {
   "cell_type": "code",
   "execution_count": null,
   "metadata": {},
   "outputs": [],
   "source": [
    "gpops = grb[grb.site==\"South\"]\n",
    "gpopn = grb[grb.site==\"North\"]\n",
    "print(len(gpopn),len(gpops))\n",
    "fig, ax = plt.subplots(nrows=1,ncols=1,)\n",
    "ax.plot(gpops.nt,gpopn.nt,marker=\".\",ls=\"\")\n",
    "nmin=6\n",
    "nmax = 15\n",
    "ax.set_xlim(nmin,nmax)\n",
    "ax.set_ylim(nmin,nmax)\n",
    "for (x,y,name) in zip(gpops.nt,gpopn.nt,gpops.name):\n",
    "    if (x>nmin and y>nmin and x<nmax and y<nmax): \n",
    "        ax.text(x,y,s=name[5:])\n",
    "        print(name[5:],\", \",end=\"\")\n",
    "print()"
   ]
  },
  {
   "cell_type": "code",
   "execution_count": null,
   "metadata": {},
   "outputs": [],
   "source": [
    "n, bins, _ = plt.hist(gpops.nt,bins=25,alpha=0.5)\n",
    "plt.hist(gpopn.nt,bins=bins,alpha=0.5)"
   ]
  },
  {
   "cell_type": "code",
   "execution_count": null,
   "metadata": {},
   "outputs": [],
   "source": [
    "print(gpopn.name"
   ]
  },
  {
   "cell_type": "code",
   "execution_count": null,
   "metadata": {},
   "outputs": [],
   "source": [
    "gpops.nt"
   ]
  },
  {
   "cell_type": "code",
   "execution_count": null,
   "metadata": {},
   "outputs": [],
   "source": [
    "plt.hist(grb.altmx,bins=100)"
   ]
  },
  {
   "cell_type": "code",
   "execution_count": null,
   "metadata": {},
   "outputs": [],
   "source": []
  }
 ],
 "metadata": {
  "kernelspec": {
   "display_name": "Python 3",
   "language": "python",
   "name": "python3"
  },
  "language_info": {
   "codemirror_mode": {
    "name": "ipython",
    "version": 3
   },
   "file_extension": ".py",
   "mimetype": "text/x-python",
   "name": "python",
   "nbconvert_exporter": "python",
   "pygments_lexer": "ipython3",
   "version": "3.7.0"
  }
 },
 "nbformat": 4,
 "nbformat_minor": 2
}
