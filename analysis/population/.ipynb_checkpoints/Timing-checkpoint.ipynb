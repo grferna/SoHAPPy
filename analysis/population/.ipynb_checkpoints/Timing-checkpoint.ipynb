{
 "cells": [
  {
   "cell_type": "code",
   "execution_count": null,
   "metadata": {},
   "outputs": [],
   "source": [
    "import gammapy\n",
    "gammapy.__version__"
   ]
  },
  {
   "cell_type": "code",
   "execution_count": null,
   "metadata": {},
   "outputs": [],
   "source": [
    "import init\n",
    "import matplotlib.pyplot as plt"
   ]
  },
  {
   "cell_type": "markdown",
   "metadata": {},
   "source": [
    "# Load data"
   ]
  },
  {
   "cell_type": "code",
   "execution_count": null,
   "metadata": {},
   "outputs": [],
   "source": [
    "outfolder = \"../output/test107_17_defvis-newirf/\"\n",
    "file = init.create_csv(outfolder)\n",
    "(grb, g_ana, gn, gs, gb) = init.get_data(file)"
   ]
  },
  {
   "cell_type": "markdown",
   "metadata": {},
   "source": [
    "# Check the delay that was applied"
   ]
  },
  {
   "cell_type": "code",
   "execution_count": null,
   "metadata": {},
   "outputs": [],
   "source": [
    "import sys\n",
    "sys.path.append(outfolder) \n",
    "import config as cf\n",
    "def delay(gpop,ax=None, nbin=100, start=0, maxtime = 200, title=\"don't know\"):\n",
    "    mask = (gpop.t3s-start < maxtime) # & (gpop.t3s>0)\n",
    "    ax.hist(gpop[mask].t3s-start,bins=nbin)\n",
    "    ax.set_yscale('log')\n",
    "    ax.axvline(x=cf.dtslew.value, color=\"red\",ls=\":\",label=\"30\")\n",
    "    ax.axvline(x=cf.dtslew.value+cf.dtswift.value, color=\"green\",ls=\":\",label=\"107\")\n",
    "    ax.set_title(title)\n",
    "    ax.legend()\n",
    "    #stamp(filename,ax)"
   ]
  },
  {
   "cell_type": "code",
   "execution_count": null,
   "metadata": {},
   "outputs": [],
   "source": [
    "fig, (ax1,ax2,ax3) = plt.subplots(nrows=1,ncols=3,figsize=(15,5))\n",
    "# delay(g_ana,ax=ax,start=86400,maxtime=500) # Day after\n",
    "maxtime = 200\n",
    "delay(gs,ax=ax1,maxtime=maxtime,title=\"North only\") \n",
    "delay(gn,ax=ax2,maxtime=maxtime,title=\"South only\") \n",
    "delay(gb,ax=ax3,maxtime=maxtime,title= \"Both sites\") \n",
    "plt.show()"
   ]
  },
  {
   "cell_type": "code",
   "execution_count": null,
   "metadata": {},
   "outputs": [],
   "source": []
  },
  {
   "cell_type": "code",
   "execution_count": null,
   "metadata": {},
   "outputs": [],
   "source": []
  }
 ],
 "metadata": {
  "kernelspec": {
   "display_name": "Python 3",
   "language": "python",
   "name": "python3"
  },
  "language_info": {
   "codemirror_mode": {
    "name": "ipython",
    "version": 3
   },
   "file_extension": ".py",
   "mimetype": "text/x-python",
   "name": "python",
   "nbconvert_exporter": "python",
   "pygments_lexer": "ipython3",
   "version": "3.7.0"
  }
 },
 "nbformat": 4,
 "nbformat_minor": 4
}
