{
 "cells": [
  {
   "cell_type": "markdown",
   "metadata": {},
   "source": [
    "# SoHAPPY analysis tools\n",
    "Open a data file and get the detection statistics"
   ]
  },
  {
   "cell_type": "code",
   "execution_count": 1,
   "metadata": {},
   "outputs": [
    {
     "data": {
      "text/plain": [
       "'0.17'"
      ]
     },
     "execution_count": 1,
     "metadata": {},
     "output_type": "execute_result"
    }
   ],
   "source": [
    "import gammapy\n",
    "gammapy.__version__"
   ]
  },
  {
   "cell_type": "code",
   "execution_count": 2,
   "metadata": {},
   "outputs": [],
   "source": [
    "import sys\n",
    "import matplotlib.pyplot as plt\n",
    "import init as init"
   ]
  },
  {
   "cell_type": "markdown",
   "metadata": {},
   "source": [
    "## Get data from input file\n",
    "The files are obtained from the name of the folder.\n",
    "Possible folder are the following (not exhaustive)\n",
    "\n",
    "The default delay time is 107 s = 30 s for slewing and 77 s for swift trigger delay\n",
    "\n",
    "*** Gammapy 0.12 ***\n",
    "\n",
    "Old default - first 107 s check:\n",
    "* `outfolder = \"../output/check107/\"`\n",
    "\n",
    "Old IRF windows (closest):\n",
    "* `outfolder = \"../output/check107-defvis-10-oldirf/\"`\n",
    "\n",
    "New IRF windows (new cos or log edges, not closest:\n",
    "* `outfolder = \"../output/check107-defvis-10-newirf/\"` (default visibility)\n",
    "* `outfolder = \"../output/check107-newvis-10-newirf/\"` (recomputed viibility)\n",
    "* `outfolder = \"../output/check107-newvis-24-newirf/\"` (New visibility)\n",
    "\n",
    "*** Gammapy 0.17 ***\n",
    "\n",
    "New with gammapy 0.17 implementation:\n",
    "* `outfolder = \"../output/test107_17_defvis-newirf/\"` (Default visibility)"
   ]
  },
  {
   "cell_type": "markdown",
   "metadata": {},
   "source": [
    "## Open file (create csv file if not existing)"
   ]
  },
  {
   "cell_type": "code",
   "execution_count": 22,
   "metadata": {},
   "outputs": [
    {
     "data": {
      "text/plain": [
       "['analysis.log',\n",
       " 'config.py',\n",
       " 'data.csv',\n",
       " 'data.txt',\n",
       " 'new17-107-137-24deg-newirf-100iter-noacceleration-Full_N-MST_S_20210324_134758.tar.gz']"
      ]
     },
     "execution_count": 22,
     "metadata": {},
     "output_type": "execute_result"
    }
   ],
   "source": [
    "# outfolder = \"../output/check107-newvis-10-newirf/\"\n",
    "# \"../output/test107_17_defvis-newirf/\"\n",
    "\n",
    "#outfolder= \"../../../output/new17-107-24deg-newirf/\"\n",
    "#outfolder= \"../../../output/new17-107-24deg-newirf-100iter/\"\n",
    "#outfolder= \"../../../output/new17-107-24deg-newirf-100iter-noacceleration/\"\n",
    "#outfolder= \"../../../output/new17-107-24deg-newirf-100iter-noacceleration-LSTonly/\"\n",
    "#outfolder= \"../../../output/new17-107-137-24deg-newirf-100iter-noacceleration-Full_N-MST_S/\"\n",
    "outfolder= \"../../../output/new17-137-137-24deg-newirf-100iter-noacceleration-MST_N-MST_S/\"\n",
    "#outfolder= \"../../../output/test107_12_defvis-newirf-10deg/\"\n",
    "#outfolder= \"D:/000_Today/testnew/\"\n",
    "outfolder = \"../../../output/check107-newvis-24-newirf/\"\n",
    "outfolder= \"../../../output/test-std-newvisimplemntation-24deg/\"\n",
    "outfolder=\"../../../output/new17-107-137-24deg-newirf-100iter-noacceleration-Full_N-MST_S/\"\n",
    "import os\n",
    "os.listdir(outfolder)"
   ]
  },
  {
   "cell_type": "code",
   "execution_count": 23,
   "metadata": {},
   "outputs": [
    {
     "name": "stdout",
     "output_type": "stream",
     "text": [
      " >>>  ../../../output/new17-107-137-24deg-newirf-100iter-noacceleration-Full_N-MST_S/data.csv\n",
      "../../../output/new17-107-137-24deg-newirf-100iter-noacceleration-Full_N-MST_S/data.csv  exists\n"
     ]
    }
   ],
   "source": [
    "file = init.create_csv(outfolder,debug=True)"
   ]
  },
  {
   "cell_type": "markdown",
   "metadata": {},
   "source": [
    "## Get data and sub-population\n",
    "\n",
    "- grb : all data\n",
    "- g_ana : analyzable (visible and simulation completed)\n",
    "- gn0 : seen North only\n",
    "- gs0 : seen South only\n",
    "- gb : seen both site\n",
    "- gn : seen in North and maybe elsewhere\n",
    "- gs : seen in South ad maybe elsewhare"
   ]
  },
  {
   "cell_type": "code",
   "execution_count": 24,
   "metadata": {},
   "outputs": [
    {
     "name": "stdout",
     "output_type": "stream",
     "text": [
      " DATA READING from  ../../../output/new17-107-137-24deg-newirf-100iter-noacceleration-Full_N-MST_S/data.csv\n",
      "Supplementary information is present\n",
      " grb.N==1 seen North only\n",
      " gbr.S==1 seen South only\n",
      " grb.B==1 seen on both\n",
      "\n",
      "+-------------------------- Flags ---------------------------+\n",
      " Flags:\n",
      "   No visible flag, unvis           =  -999\n",
      "   Iteration # from error code, 3s and 5s counts :  100 100 100\n",
      "+----------------------- Statistics -------------------------+\n",
      "   Not visible   Fully analyzed      Aborted    \n",
      "      1374            1626              0       \n",
      "\n",
      " Raw statistics - max per site = 2000\n",
      "  - total      :  3000\n",
      "  - analyzable :  1626\n",
      "  - North      :  599\n",
      "  - South      :  613\n",
      "  - Both sites :  414 -> total =  1626\n",
      "  - North only :  187\n",
      "  - South only :  201\n",
      "+------------------------------------------------------------+\n"
     ]
    }
   ],
   "source": [
    "(grb, gn0, gs0, gn, gs, gb) = init.get_data(file, debug=True)"
   ]
  },
  {
   "cell_type": "code",
   "execution_count": 25,
   "metadata": {},
   "outputs": [
    {
     "name": "stdout",
     "output_type": "stream",
     "text": [
      "+----------------------- Sanity checks----------------------+\n",
      " Estimated min altitude in  North  : 24.0\n",
      " Estimated min altitude in  South  : 24.0\n"
     ]
    },
    {
     "data": {
      "image/png": "[encoded data removed]",
      "text/plain": [
       "<Figure size 720x144 with 3 Axes>"
      ]
     },
     "metadata": {
      "needs_background": "light"
     },
     "output_type": "display_data"
    },
    {
     "name": "stdout",
     "output_type": "stream",
     "text": [
      " Estimated total delay in  North  : 108.0\n",
      " Estimated total delay in  South  : 145.0\n"
     ]
    },
    {
     "data": {
      "image/png": "[encoded data removed]",
      "text/plain": [
       "<Figure size 720x144 with 2 Axes>"
      ]
     },
     "metadata": {
      "needs_background": "light"
     },
     "output_type": "display_data"
    }
   ],
   "source": [
    "init.sanity_check(grb, gn0, gs0, gn, gs, gb, file, debug=True)"
   ]
  },
  {
   "cell_type": "markdown",
   "metadata": {},
   "source": [
    "# Check statistics"
   ]
  },
  {
   "cell_type": "code",
   "execution_count": 26,
   "metadata": {},
   "outputs": [
    {
     "name": "stdout",
     "output_type": "stream",
     "text": [
      "\n",
      " -------------------------------------------------------\n",
      " Normalized to 1 year\n",
      " -------------------------------------------------------\n",
      " Rate :       N       S   Nonly   Sonly    Both   Total\n",
      " ------ ------- ------- ------- ------- ------- -------\n",
      " Vis. :   599.0   613.0   187.0   203.0   414.0   804.0\n",
      " Ana. :   599.0   613.0   187.0   203.0   414.0   804.0\n",
      " 3s   :   105.0    77.0    32.0    18.0   101.0   151.0\n",
      " 5s   :    93.0    66.0    28.0    14.0    91.0   133.0\n",
      " -------------------------------------------------------\n"
     ]
    }
   ],
   "source": [
    "init.rate(grb)"
   ]
  },
  {
   "cell_type": "code",
   "execution_count": 27,
   "metadata": {},
   "outputs": [
    {
     "name": "stdout",
     "output_type": "stream",
     "text": [
      "\n",
      " -------------------------------------------------------\n",
      " Normalized to 44 years\n",
      " -------------------------------------------------------\n",
      " Rate :       N       S   Nonly   Sonly    Both   Total\n",
      " ------ ------- ------- ------- ------- ------- -------\n",
      " Vis. :    13.6    13.9     4.2     4.6     9.4    18.3\n",
      " Ana. :    13.6    13.9     4.2     4.6     9.4    18.3\n",
      " 3s   :     2.4     1.8     0.7     0.4     2.3     3.4\n",
      " 5s   :     2.1     1.5     0.6     0.3     2.1     3.0\n",
      " -------------------------------------------------------\n"
     ]
    }
   ],
   "source": [
    "init.rate(grb, nyears=44)"
   ]
  },
  {
   "cell_type": "code",
   "execution_count": null,
   "metadata": {},
   "outputs": [],
   "source": []
  }
 ],
 "metadata": {
  "kernelspec": {
   "display_name": "Python 3",
   "language": "python",
   "name": "python3"
  },
  "language_info": {
   "codemirror_mode": {
    "name": "ipython",
    "version": 3
   },
   "file_extension": ".py",
   "mimetype": "text/x-python",
   "name": "python",
   "nbconvert_exporter": "python",
   "pygments_lexer": "ipython3",
   "version": "3.7.0"
  }
 },
 "nbformat": 4,
 "nbformat_minor": 4
}
