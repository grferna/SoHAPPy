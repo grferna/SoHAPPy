{
 "cells": [
  {
   "cell_type": "markdown",
   "metadata": {},
   "source": [
    "# Compare several simulation results"
   ]
  },
  {
   "cell_type": "code",
   "execution_count": null,
   "metadata": {},
   "outputs": [],
   "source": [
    "import numpy as np\n",
    "from pathlib import Path\n",
    "import matplotlib.pyplot as plt\n",
    "\n",
    "import pandas as pd\n",
    "\n",
    "import setup\n",
    "import init as init\n",
    "from utilities import MyLabel, single_legend, stamp, projected_scatter\n",
    "from pop_plot import sig_plot_cumulative"
   ]
  },
  {
   "cell_type": "markdown",
   "metadata": {},
   "source": [
    "## Define data and tags "
   ]
  },
  {
   "cell_type": "code",
   "execution_count": null,
   "metadata": {},
   "outputs": [],
   "source": [
    "### Set 1\n",
    "tag1 = \"Ref. (30 + 107 s)\"\n",
    "folder1 = \"../../../output/pop_vis24_fullmoonveto-100iter-noacc/\" \n",
    "file1 = init.create_csv(file=None, datafile=Path(folder1,\"data.txt\"),debug=False)\n",
    "(grb1, gn01, gs01, gn1, gs1, gb1) = init.get_data(file1, debug=True)\n",
    "init.sanity_check(file1, grb1, gn01, gs01, gn1, gs1, gb1, debug=True)    \n",
    "\n",
    "eff_lvl1 = init.get_eff_lvl(grb1) # Effective det_level\n",
    "fullpop1 = pd.concat([gn01,gs01,gb1],axis=0) # Full population\n",
    "print(\" Effective CL cut = \",eff_lvl1)"
   ]
  },
  {
   "cell_type": "code",
   "execution_count": null,
   "metadata": {},
   "outputs": [],
   "source": [
    "### Set 2\n",
    "#tag2 = \"data 2\"\n",
    "# folder2 = \"../../../output/pop_vis24_fullmoonveto-1000iter-noacc/\" \n",
    "tag2 = \"No delay\"\n",
    "folder2 = \"../../../output/pop_vis24_fullmoonveto-100iter-noacc-nodelay/\" \n",
    "\n",
    "file2 = init.create_csv(file=None, datafile=Path(folder2,\"data.txt\"),debug=False)\n",
    "(grb2, gn02, gs02, gn2, gs2, gb2) = init.get_data(file2, debug=True)\n",
    "init.sanity_check(file2, grb2, gn02, gs02, gn2, gs2, gb2, debug=True)    \n",
    "\n",
    "eff_lvl2 = init.get_eff_lvl(grb2) # Effective det_level\n",
    "fullpop2 = pd.concat([gn02,gs02,gb2],axis=0) # Full population\n",
    "print(\" Effective CL cut = \",eff_lvl2)\n",
    "    "
   ]
  },
  {
   "cell_type": "code",
   "execution_count": null,
   "metadata": {
    "scrolled": true
   },
   "outputs": [],
   "source": [
    "# set 3\n",
    "tag3 = \"30 + 300 s\"\n",
    "folder3 =  \"../../../output/pop_vis24_fullmoonveto-100iter-noacc-300s_swift_delay/\"\n",
    "file3 = init.create_csv(file=None, datafile=Path(folder3,\"data.txt\"),debug=False)\n",
    "(grb3, gn03, gs03, gn3, gs3, gb3) = init.get_data(file3, debug=True)\n",
    "init.sanity_check(file3, grb3, gn03, gs03, gn3, gs3, gb3, debug=True)    \n",
    "\n",
    "eff_lvl3 = init.get_eff_lvl(grb3) # Effective det_level\n",
    "fullpop3 = pd.concat([gn03,gs03,gb3],axis=0) # Full population\n",
    "print(\" Effective CL cut = \",eff_lvl3)"
   ]
  },
  {
   "cell_type": "code",
   "execution_count": null,
   "metadata": {
    "scrolled": false
   },
   "outputs": [],
   "source": [
    "# Set 4\n",
    "tag4 = \"30 + 1000 s\"\n",
    "folder4 =  \"../../../output/pop_vis24_fullmoonveto-100iter-noacc-1000s_swift_delay\"    \n",
    "    \n",
    "file4 = init.create_csv(file=None, datafile=Path(folder4,\"data.txt\"),debug=False)\n",
    "(grb4, gn04, gs04, gn4, gs4, gb4) = init.get_data(file4, debug=True)\n",
    "init.sanity_check(file4, grb4, gn04, gs04, gn4, gs4, gb4, debug=True)    \n",
    "\n",
    "eff_lvl4 = init.get_eff_lvl(grb4) # Effective det_level\n",
    "fullpop4 = pd.concat([gn04,gs04,gb4],axis=0) # Full population\n",
    "print(\" Effective CL cut = \",eff_lvl4)    \n",
    "print(\"Done !\")"
   ]
  },
  {
   "cell_type": "code",
   "execution_count": null,
   "metadata": {},
   "outputs": [],
   "source": [
    "###-------------------------------------------------------------------------------------------------\n",
    "def var_plot(var1, var2, tag=[\"o\",\"o\"],varmin=None, varmax= None, \n",
    "             nbin=100,xscale=\"log\",yscale=\"log\",xlabel=\"\"):\n",
    "    \n",
    "    if varmin == None:\n",
    "        varmin = min(min(var1),min(var2))\n",
    "    if varmax == None:\n",
    "        varmax = max(max(var1),max(var2))\n",
    "    print(\"min = \",varmin,\" max=\",varmax)    \n",
    "    \n",
    "    mask1 = (var1<=varmax) & (var1>=varmin)\n",
    "    mask2 = (var2<=varmax) & (var2>=varmin)\n",
    "    \n",
    "    fig, (axa, axb) = plt.subplots(nrows=1, ncols=2,figsize=(12,5))\n",
    "    n, bins, p = axa.hist(var1[mask1],bins=nbin,alpha=0.5,\n",
    "                          label=MyLabel(var1[mask1],tag[0]))\n",
    "\n",
    "    axa.hist(var2[mask2],bins=bins,alpha=0.5,\n",
    "             label=MyLabel(var2[mask2],tag[1]))\n",
    "    \n",
    "    axa.set_xscale(xscale)\n",
    "    axa.set_yscale(yscale)\n",
    "    axa.set_xlabel(xlabel)\n",
    "    axa.legend()\n",
    "    \n",
    "    axb.hist(var2[mask2]/var1[mask1],bins=nbin,alpha=0.5,\n",
    "                          label=MyLabel(var2[mask2]/var1[mask1],tag[1]+\"/\"+tag[0]))\n",
    "    axb.set_xlabel(xlabel+ \" ratio\")\n",
    "    axb.set_yscale(yscale)\n",
    "    axb.legend()\n",
    "    return\n",
    "###-------------------------------------------------------------------------------------------------    \n",
    "def var_scatter(var1, var2, tag=[\"o\",\"o\"],\n",
    "                varmin=None, varmax= None, \n",
    "                nbin=100,xscale=\"log\",yscale=\"log\"):\n",
    "\n",
    "    if len(var1) != len(var2):\n",
    "        print(\" Set 1 : \",len(var1))\n",
    "        print(\" Set 2 : \",len(var2))\n",
    "        print(\" Samples should have the same size !\")\n",
    "        return \n",
    "    if varmin == None:\n",
    "        varmin = min(min(var1),min(var2))\n",
    "    if varmax == None:\n",
    "        varmax = max(max(var1),max(var2))\n",
    "    print(\"min = \",varmin,\" max=\",varmax)\n",
    "    mask1 = (var1<=varmax) & (var1>varmin)\n",
    "    mask2 = (var2<=varmax) & (var2>varmin)\n",
    "    #fig, (axa,axb, axc) = plt.subplots(nrows=1,ncols=3,figsize=(20,5))\n",
    "    fig, axa = plt.subplots(nrows=1,ncols=1,figsize=(7,7))\n",
    "\n",
    "    axa.scatter(var1,var2,marker=\"+\")\n",
    "    axa.plot([varmin,varmax],[varmin,varmax],ls=\":\",color=\"red\")\n",
    "    axa.axvline(3,label=\"$ 3 \\sigma$\",color=\"tab:orange\",ls=\":\")\n",
    "    axa.axhline(3,label=\"$ 3 \\sigma$\",color=\"tab:orange\",ls=\":\")\n",
    "    axa.axvline(5,label=\"$ 5 \\sigma$\",color=\"tab:green\",ls=\":\")\n",
    "    axa.axhline(5,label=\"$ 5 \\sigma$\",color=\"tab:green\",ls=\":\")\n",
    "    axa.set_xlabel(tag[0])\n",
    "    axa.set_ylabel(tag[1])\n",
    "    axa.set_xlim(varmin,varmax)\n",
    "    axa.set_ylim(varmin,varmax)\n",
    "    axa.set_xscale(xscale)\n",
    "    axa.set_yscale(yscale)\n",
    "\n",
    "    import collections\n",
    "    handles, labels = axa.get_legend_handles_labels()\n",
    "    by_label = collections.OrderedDict(zip(labels, handles))\n",
    "    axa.legend(by_label.values(), by_label.keys())\n",
    "\n",
    "    return axa    "
   ]
  },
  {
   "cell_type": "code",
   "execution_count": null,
   "metadata": {},
   "outputs": [],
   "source": [
    "nmin=0\n",
    "nmax=3000\n",
    "var1 = gs1[nmin:nmax][gs1.etmx>0].etmx/gs1[nmin:nmax].tmx\n",
    "var2 = gs2[nmin:nmax][gs2.etmx>0].etmx/gs2[nmin:nmax].tmx\n",
    "# var1 = gs1[nmin:nmax].etmx\n",
    "# var2 = gs2[nmin:nmax].etmx\n",
    "# var1 = gs01[nmin:nmax].sigmx\n",
    "# var2 = gs02[nmin:nmax].sigmx\n",
    "var_plot(var1, var2,tag=[tag1,tag2],xscale=\"linear\",yscale=\"log\",xlabel=\"$t_{max}$ relative error\")\n",
    "plt.tight_layout()"
   ]
  },
  {
   "cell_type": "code",
   "execution_count": null,
   "metadata": {},
   "outputs": [],
   "source": [
    "nmin=0\n",
    "nmax=3000\n",
    "var1 = fullpop1[nmin:nmax][fullpop1.sigmx>0].sigmx\n",
    "var2 = fullpop2[nmin:nmax][fullpop2.sigmx>0].sigmx\n",
    "var_plot(var1, var2,tag=[tag1,tag2],xscale=\"linear\",yscale=\"log\",xlabel=\"$\\sigma_{max}$ \")\n",
    "plt.tight_layout()"
   ]
  },
  {
   "cell_type": "code",
   "execution_count": null,
   "metadata": {},
   "outputs": [],
   "source": [
    "nmin=0\n",
    "nmax=3000\n",
    "var1 = gs1[nmin:nmax][gs1.sigmx>0].tmx\n",
    "var2 = gs2[nmin:nmax][gs2.sigmx>0].tmx\n",
    "var_plot(var1, var2,tag=[tag1,tag2],xscale=\"linear\",yscale=\"log\",xlabel=\"$t_{max}$ \")\n",
    "print(\" Set 1 : \",len(var1))\n",
    "print(\" Set 2 : \",len(var2))\n",
    "plt.tight_layout()"
   ]
  },
  {
   "cell_type": "code",
   "execution_count": null,
   "metadata": {
    "scrolled": false
   },
   "outputs": [],
   "source": [
    "#var_scatter(grb1[nmin:nmax].sigmx, grb2[nmin:nmax].sigmx,tag=[tag1,tag2],varmin=3,varmax=10,xscale=\"linear\",yscale=\"log\")\n",
    "axa = var_scatter(var1, var2,tag=[tag1,tag2],xscale=\"linear\",yscale=\"linear\")"
   ]
  },
  {
   "cell_type": "code",
   "execution_count": null,
   "metadata": {},
   "outputs": [],
   "source": [
    "### Cumulative 5 sigma 90% CL - No delay and reference\n",
    "\n",
    "varlist  = [np.log10(fullpop1.t5s), \n",
    "            np.log10(fullpop2.t5s),\n",
    "           ] # Go to hours\n",
    "masklist = [(fullpop1.d5s>eff_lvl1),\n",
    "            (fullpop2.d5s>eff_lvl2),\n",
    "           ]\n",
    "taglist = [\"$5\\sigma$ 90%CL\",\"$5\\sigma$ 90%CL\",\"$5\\sigma$ 90%CL\",\"$5\\sigma$ 90%CL\"]\n",
    "collist = [\"black\",\"red\",\"purple\",\"blue\"]\n",
    "lbllist = [tag1, tag2, tag3, tag4]\n",
    "\n",
    "fig, ax = plt.subplots(ncols=1, nrows=1,figsize=(7, 5))\n",
    "for tag, var, mask, col, lbl in zip(taglist,varlist,masklist,collist,lbllist):\n",
    "\n",
    "    sig_plot_cumulative(var,mask=mask,tag=tag, \n",
    "                        ax=ax, xlabel=\"$log_{10}$ detection time (s)\",\n",
    "                        edgecolor=col,label=MyLabel(var[mask],label=lbl),alpha=0.8)\n",
    "single_legend(ax, bbox_to_anchor=[1,1])\n",
    "# stamp(file,axis=fig,where=\"left\")"
   ]
  },
  {
   "cell_type": "code",
   "execution_count": null,
   "metadata": {},
   "outputs": [],
   "source": [
    "### Cumulative 5 sigma 90% CL - several delays\n",
    "density = False\n",
    "varlist  = [np.log10(fullpop1.t5s), \n",
    "            np.log10(fullpop2.t5s),\n",
    "            np.log10(fullpop3.t5s),\n",
    "            np.log10(fullpop4.t5s)\n",
    "           ] # Go to hours\n",
    "masklist = [(fullpop1.d5s>eff_lvl1),\n",
    "            (fullpop2.d5s>eff_lvl2),\n",
    "            (fullpop3.d5s>eff_lvl3),\n",
    "            (fullpop4.d5s>eff_lvl4)\n",
    "           ]\n",
    "taglist = [\"$5\\sigma$ 90%CL\",\"$5\\sigma$ 90%CL\",\"$5\\sigma$ 90%CL\",\"$5\\sigma$ 90%CL\"]\n",
    "collist = [\"black\",\"red\",\"purple\",\"blue\"]\n",
    "lbllist = [tag1, tag2, tag3, tag4]\n",
    "\n",
    "fig, ax = plt.subplots(ncols=1, nrows=1,figsize=(7, 6))\n",
    "for tag, var, mask, col, lbl in zip(taglist,varlist,masklist,collist,lbllist):\n",
    "\n",
    "    sig_plot_cumulative(var,mask=mask,tag=tag, \n",
    "                        ax=ax, xlabel=\"$log_{10}$ detection time (s)\", density=density,\n",
    "                        edgecolor=col,label=MyLabel(var[mask],label=lbl,stat=None),\n",
    "                        alpha=0.8)\n",
    "single_legend(ax, bbox_to_anchor=[1,1])\n",
    "# stamp(file,axis=fig,where=\"left\")"
   ]
  },
  {
   "cell_type": "code",
   "execution_count": null,
   "metadata": {
    "scrolled": false
   },
   "outputs": [],
   "source": [
    "### Cumulative sigma max > 5 sigma \n",
    "varlist  = [np.log10(fullpop1.tmx), np.log10(fullpop2.tmx)] # Go to hours\n",
    "masklist = [(fullpop1.tmx>=0) & (fullpop1.sigmx>=5),\n",
    "            (fullpop2.tmx>=0) & (fullpop2.sigmx>=5) ]\n",
    "taglist = [\"$\\sigma_{max} \\geq 5$\",\"$\\sigma_{max} \\geq 5$\"]\n",
    "\n",
    "fig, ax = plt.subplots(ncols=1, nrows=1,figsize=(7, 5))\n",
    "for tag, var, mask, col, lbl in zip(taglist,varlist,masklist,collist,lbllist):\n",
    "\n",
    "    sig_plot_cumulative(var,mask=mask,tag=tag, \n",
    "                        ax=ax, xlabel=\"Log detection time (s)\",\n",
    "                        edgecolor=col,label=MyLabel(var[mask],label=lbl),alpha=0.8)\n",
    "# stamp(file,axis=fig,where=\"left\")\n",
    "single_legend(ax, bbox_to_anchor=[1,1])"
   ]
  },
  {
   "cell_type": "code",
   "execution_count": null,
   "metadata": {},
   "outputs": [],
   "source": []
  }
 ],
 "metadata": {
  "kernelspec": {
   "display_name": "Python 3",
   "language": "python",
   "name": "python3"
  },
  "language_info": {
   "codemirror_mode": {
    "name": "ipython",
    "version": 3
   },
   "file_extension": ".py",
   "mimetype": "text/x-python",
   "name": "python",
   "nbconvert_exporter": "python",
   "pygments_lexer": "ipython3",
   "version": "3.7.11"
  }
 },
 "nbformat": 4,
 "nbformat_minor": 4
}
