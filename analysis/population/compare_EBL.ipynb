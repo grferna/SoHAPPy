{
 "cells": [
  {
   "cell_type": "markdown",
   "metadata": {},
   "source": [
    "# Compare simulations with different EBL"
   ]
  },
  {
   "cell_type": "code",
   "execution_count": null,
   "metadata": {},
   "outputs": [],
   "source": [
    "import numpy as np\n",
    "from pathlib import Path\n",
    "\n",
    "import matplotlib.pyplot as plt\n",
    "\n",
    "from pop_plot import col_size, sig_legend, history, plot_historical, redshift, eiso\n",
    "\n",
    "import setup\n",
    "import init as init\n",
    "\n",
    "from utilities import MyLabel, single_legend\n",
    "\n",
    "plt.style.use('seaborn-talk') # Make the labels readable\n",
    "#plt.style.use('seaborn-poster') # Make the labels readable - bug with normal x marker !!!"
   ]
  },
  {
   "cell_type": "markdown",
   "metadata": {},
   "source": [
    "## Define data and tags "
   ]
  },
  {
   "cell_type": "code",
   "execution_count": null,
   "metadata": {},
   "outputs": [],
   "source": [
    "folders = [ \n",
    "    \"../../../output/pop_vis24_fullmoonveto-100iter-noacc\" ,\n",
    "    \"../../../output/pop_vis24_fullmoonveto-100iter-noacc-franceschini\",\n",
    "    \"../../../output/pop_vis24_fullmoonveto-100iter-noacc-finke\",\n",
    "    \"../../../output/pop_vis24_fullmoonveto-100iter-noacc-builtin\"\n",
    "]\n",
    "taglist = [\"Dominguez\", \"Franceschini\", \"Finke\", \"Gilmore\"]"
   ]
  },
  {
   "cell_type": "markdown",
   "metadata": {},
   "source": [
    "## Read data - checks"
   ]
  },
  {
   "cell_type": "code",
   "execution_count": null,
   "metadata": {
    "scrolled": false
   },
   "outputs": [],
   "source": [
    "poplist = []\n",
    "for tag, f in zip(taglist, folders):\n",
    "    print(\"\\n\",30*\"=\",tag,30*\"=\",\"\\n\")\n",
    "    file = init.create_csv(file=None, datafile=Path(f,\"data.txt\"),debug=False)\n",
    "    pop = init.get_data(file, debug=False)\n",
    "    poplist.append(pop)\n",
    "    \n",
    "    # Sanity checks\n",
    "    # (grb, gn0, gs0, gn, gs, gb) = pop   \n",
    "    # init.sanity_check(file, grb, gn0, gs0, gn, gs, gb, debug=True, old=False)    \n",
    "    \n",
    "print(\"Done !\")"
   ]
  },
  {
   "cell_type": "markdown",
   "metadata": {},
   "source": [
    "### Loop over data and plots\n"
   ]
  },
  {
   "cell_type": "code",
   "execution_count": null,
   "metadata": {},
   "outputs": [],
   "source": [
    "import pandas as pd\n",
    "import matplotlib.cm as cm\n",
    "dump = True\n",
    "det_level = 90 # INFER IT\n",
    "nbin = 20\n",
    "\n",
    "print(\"Detected 5 sigma 90%CL :\")\n",
    "for pop, tag,  in zip(poplist, taglist):\n",
    "    (grb, gn0, gs0, gn, gs, gb) = pop\n",
    "    fullpop = pd.concat([gn0,gs0,gb],axis=0)\n",
    "    print(\"   {:15s} = {:3d}\".format(tag,len(fullpop[fullpop.d5s>=det_level])))\n",
    "    if dump:\n",
    "        file = open(tag+\".txt\",\"w+\")\n",
    "        data = fullpop[fullpop.d5s>=det_level].z.values\n",
    "        print(data)\n",
    "        file.write(str(data))\n",
    "        file.close()"
   ]
  },
  {
   "cell_type": "code",
   "execution_count": null,
   "metadata": {},
   "outputs": [],
   "source": [
    "file = open(\"Dominguez.txt\", \"r\")\n",
    "content = file.read()\n",
    "z = np.fromstring(content[1:-1], dtype=np.float, sep=' ')\n",
    "plt.hist(z)"
   ]
  },
  {
   "cell_type": "code",
   "execution_count": null,
   "metadata": {},
   "outputs": [],
   "source": [
    "x = gb[gb.d5s>=det_level].z.values\n",
    "x"
   ]
  },
  {
   "cell_type": "code",
   "execution_count": null,
   "metadata": {},
   "outputs": [],
   "source": [
    "# Dump redshifts to text file\n",
    "pop = fullpop[0]\n",
    "print(\" EBL :\",taglist[0],\" n (>5s 90%CL) = \",len(pop))\n",
    "file = open\n",
    "for g in fullpop[fullpop.d5s>=det_level]"
   ]
  },
  {
   "cell_type": "markdown",
   "metadata": {},
   "source": [
    "### Redshift"
   ]
  },
  {
   "cell_type": "code",
   "execution_count": null,
   "metadata": {
    "scrolled": false
   },
   "outputs": [],
   "source": [
    "zmax= 5\n",
    "\n",
    "ipop=0\n",
    "first = True\n",
    "bins = 10\n",
    "fig, ax = plt.subplots(nrows=1, ncols=4, figsize=(20,6),sharey=True)\n",
    "\n",
    "for ax1, pop, tag,  in zip(ax, poplist, taglist):\n",
    "    (grb, gn0, gs0, gn, gs, gb) = pop\n",
    "    fullpop = pd.concat([gn0,gs0,gb],axis=0)\n",
    " \n",
    "    mask = (fullpop.d5s>det_level) & (fullpop.z<=zmax)\n",
    "    plot = ax1.hist(fullpop[mask].z,bins=bins,alpha=0.7,color=\"tab:orange\",\n",
    "                edgecolor=\"grey\",lw=2,\n",
    "            label=MyLabel(fullpop[mask].z,label=tag))\n",
    "    bins = plot[1]\n",
    "    ax1.legend()\n",
    "    ax1.set_xlabel(\"Redshift\")\n",
    "    ax1.grid(ls=\":\",alpha=0.5)\n",
    "    if first:\n",
    "        first = False\n",
    "        plot1 = plot\n",
    "        ax1.set_ylabel(\"Counts\")\n",
    "\n",
    "    else:\n",
    "        n, bins, bars = plot1\n",
    "        ax1.bar(bins[:-1]+0.5*(bins[1:]-bins[:-1]),\n",
    "                n,\n",
    "                width=(bins[1:]-bins[:-1]),\n",
    "                facecolor=\"none\",edgecolor=\"grey\",lw=2,alpha=1)\n",
    "    ipop+=1\n",
    "\n",
    "plt.tight_layout()"
   ]
  },
  {
   "cell_type": "markdown",
   "metadata": {},
   "source": [
    "### Eiso"
   ]
  },
  {
   "cell_type": "code",
   "execution_count": null,
   "metadata": {},
   "outputs": [],
   "source": [
    "Eisomin = 5e50\n",
    "Eisomax = 5e55\n",
    "\n",
    "ipop=0\n",
    "first = True\n",
    "bins = 10\n",
    "fig, ax = plt.subplots(nrows=1, ncols=4, figsize=(20,6),sharey=True)\n",
    "\n",
    "for ax1, pop, tag,  in zip(ax, poplist, taglist):\n",
    "    \n",
    "    (grb, gn0, gs0, gn, gs, gb) = pop\n",
    "    fullpop = pd.concat([gn0,gs0,gb],axis=0)\n",
    " \n",
    "    mask = (fullpop.d5s>det_level)# & (fullpop.Eiso>=Eisomin) & (fullpop.Eiso<=Eisomax)\n",
    "    plot = ax1.hist(np.log10(fullpop[mask].Eiso),bins=bins,\n",
    "                    alpha=0.7,color=\"tab:orange\",\n",
    "                    edgecolor=\"grey\",lw=2,\n",
    "                    label=MyLabel(np.log10(fullpop[mask].Eiso),label=tag))\n",
    "    bins = plot[1]\n",
    "\n",
    "    ax1.legend()\n",
    "    ax1.set_xlabel(\"$log_{10} \\ E_{iso}$\")\n",
    "    ax1.grid(ls=\":\",alpha=0.5)\n",
    "    if first:\n",
    "        first = False\n",
    "        plot1 = plot\n",
    "        ax1.set_ylabel(\"Counts\")\n",
    "\n",
    "    else:\n",
    "        n, bins, bars = plot1\n",
    "        print(n)\n",
    "        ax1.bar(bins[:-1]+0.5*(bins[1:]-bins[:-1]),\n",
    "                n,\n",
    "                width=(bins[1:]-bins[:-1]),\n",
    "                facecolor=\"none\",alpha=1,edgecolor=\"grey\",lw=2,)\n",
    "    ipop+=1\n",
    "\n",
    "plt.tight_layout()"
   ]
  },
  {
   "cell_type": "code",
   "execution_count": null,
   "metadata": {},
   "outputs": [],
   "source": []
  },
  {
   "cell_type": "code",
   "execution_count": null,
   "metadata": {},
   "outputs": [],
   "source": []
  }
 ],
 "metadata": {
  "kernelspec": {
   "display_name": "Python 3",
   "language": "python",
   "name": "python3"
  },
  "language_info": {
   "codemirror_mode": {
    "name": "ipython",
    "version": 3
   },
   "file_extension": ".py",
   "mimetype": "text/x-python",
   "name": "python",
   "nbconvert_exporter": "python",
   "pygments_lexer": "ipython3",
   "version": "3.7.11"
  }
 },
 "nbformat": 4,
 "nbformat_minor": 4
}
