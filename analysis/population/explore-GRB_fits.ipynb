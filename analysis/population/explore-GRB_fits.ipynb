{
 "cells": [
  {
   "cell_type": "code",
   "execution_count": null,
   "metadata": {},
   "outputs": [],
   "source": [
    "import gammapy\n",
    "gammapy.__version__"
   ]
  },
  {
   "cell_type": "code",
   "execution_count": null,
   "metadata": {},
   "outputs": [],
   "source": [
    "import os\n",
    "import numpy as np\n",
    "from pathlib import Path\n",
    "import matplotlib.pyplot as plt\n",
    "import pickle\n",
    "\n",
    "import setup\n",
    "from utilities import Log, MyLabel\n",
    "from grb import GammaRayBurst\n",
    "from pop_plot import col_size, sig_legend\n",
    "\n",
    "from astropy.visualization import quantity_support\n",
    "\n",
    "# Transform warnings into errors - useful to find who is guilty !\n",
    "import warnings\n",
    "#warnings.filterwarnings('error')\n",
    "warnings.filterwarnings('ignore')\n",
    "\n",
    "os.environ['GAMMAPY_DATA'] =r'../../../input/gammapy-extra-master/datasets'\n"
   ]
  },
  {
   "cell_type": "markdown",
   "metadata": {},
   "source": [
    "# A look to the input population files"
   ]
  },
  {
   "cell_type": "markdown",
   "metadata": {},
   "source": [
    "## Get GRB data"
   ]
  },
  {
   "cell_type": "code",
   "execution_count": null,
   "metadata": {},
   "outputs": [],
   "source": [
    "# Define your folder here\n",
    "folder = \"../../../input/lightcurves/LONG_FITS\"\n",
    "file_list = os.listdir(folder)\n",
    "# file_list"
   ]
  },
  {
   "cell_type": "markdown",
   "metadata": {},
   "source": [
    "# Create the population file"
   ]
  },
  {
   "cell_type": "code",
   "execution_count": null,
   "metadata": {},
   "outputs": [],
   "source": [
    "# GRB population\n",
    "nmax    = 2000\n",
    "\n",
    "# Output folder \n",
    "outfolder   = \"D:\\CTA\\Analyse\\output\"\n",
    "\n",
    "# Prompt list\n",
    "out_prompt  = open(Path(outfolder,\"prompt_list.txt\"),\"w\") # If defined\n",
    "out_prompt=None\n",
    "\n",
    "# Population file\n",
    "out_pop = \"grbpop_dominguez.bin\" # populatin generic name for input/output\n",
    "\n",
    "# Actions\n",
    "store   = \"read\" #\"read\" # If \"read\" get a previously saved population file using \"write\"\n",
    "\n",
    "debug = False # Debugging\"\n"
   ]
  },
  {
   "cell_type": "code",
   "execution_count": null,
   "metadata": {},
   "outputs": [],
   "source": [
    "# Reading a previously saved population\n",
    "if store == \"read\":\n",
    "    with open(Path(outfolder, out_pop), 'rb') as file:\n",
    "        grbpop = pickle.load(file)\n",
    "        print(\" GRB read from disk :\",len(grbpop))\n",
    "\n",
    "if store != \"read\" or out_prompt: # Write population to disk and /or create visible prompt list\n",
    "    grbpop  = []\n",
    "    ipop    = 0\n",
    "    iprompt = 0\n",
    "\n",
    "    # Loop over (sub)-population from disk\n",
    "    for igrb, file in enumerate(file_list[:nmax]):\n",
    "\n",
    "        if ((nmax <= 10) or (np.mod(igrb,40) == 0)) and debug==False:\n",
    "            print(\"#\",igrb,\" \",end=\"\")\n",
    "\n",
    "        # Read file in directory\"\n",
    "        if Path(file).suffix == \".fits\":\n",
    "            grb =  GammaRayBurst.from_fits(Path(folder,file), ebl= \"dominguez\", newis=False, magnify=1)\n",
    "\n",
    "            if debug:\n",
    "                print(grb)\n",
    "                print(grb.vis[\"North\"].print(log=Log()))\n",
    "                print(grb.vis[\"South\"].print(log=Log()))\n",
    "\n",
    "            if store == \"write\": \n",
    "                grbpop.append(grb)\n",
    "                ipop+=1\n",
    "\n",
    "            if (out_prompt):\n",
    "                if grb.vis[\"North\"].vis_prompt or grb.vis[\"South\"].vis_prompt:\n",
    "                    print(\"{:10s}\".format(grb.name),file=out_prompt)\n",
    "                    iprompt+=1\n",
    "\n",
    "    print()           \n",
    "    if out_prompt: \n",
    "        print(\"GRb with prompt visible : \",iprompt,\" -> List dumped into prompt_list.txt\")\n",
    "        out_prompt.close()    \n",
    "\n",
    "    if store == \"write\":\n",
    "        grbpop = np.array(grbpop)\n",
    "        print(\" GRB in array : \",len(grbpop))\n",
    "        filename = Path(outfolder,out_pop)\n",
    "        outfile  = open(filename,\"wb\")\n",
    "        pickle.dump(grbpop,outfile)\n",
    "        outfile.close()\n",
    "        print(\" GRB saved to : {}\".format(filename))\n",
    "\n",
    "print(\"All done !\")"
   ]
  },
  {
   "cell_type": "markdown",
   "metadata": {},
   "source": [
    "# Explore GRB properties"
   ]
  },
  {
   "cell_type": "markdown",
   "metadata": {},
   "source": [
    "## Galactic plane coverage"
   ]
  },
  {
   "cell_type": "code",
   "execution_count": null,
   "metadata": {
    "scrolled": false
   },
   "outputs": [],
   "source": [
    "import astropy.units as u\n",
    "from mpl_toolkits.axes_grid1.inset_locator import zoomed_inset_axes,inset_axes\n",
    "from astropy.coordinates import SkyCoord\n",
    "\n",
    "fig, (ax1, ax2) = plt.subplots(nrows=2, ncols=1, figsize=(20,7))\n",
    "latmax = 2*u.deg\n",
    "with quantity_support():\n",
    "    dec = np.array([g.radec.dec.wrap_at(180*u.deg).value for g in grbpop])*u.degree\n",
    "    ra  = np.array([g.radec.ra.wrap_at(180*u.deg).value for g in grbpop])*u.degree\n",
    "#     dec = dec.wrap_at(180*u.deg)\n",
    "#     ra  = ra.wrap_at(180*u.deg)\n",
    "    c = SkyCoord(ra=ra, dec=dec, frame='icrs')\n",
    "    lat = c.galactic.b\n",
    "    ax1.hist(lat, bins=1000,label=MyLabel(lat))\n",
    "    ax1.set_xlabel(\"Longitude (deg)\")\n",
    "    ax1.legend()\n",
    "    \n",
    "    mask = abs(lat.value)<=latmax.value\n",
    "    lat_in = lat[mask]\n",
    "    namelist = [g.name for g in grbpop[mask]]\n",
    "    ax2.set_xlim([-1.05*latmax,1.05*latmax])\n",
    "    ax2.axvline( latmax.value,color=\"red\",ls=\"--\",label=\"Lat. limit\")\n",
    "    ax2.axvline(-latmax.value,color=\"red\",ls=\"--\",label=\"Lat. limit\")\n",
    "    ax2.plot(lat_in,np.ones(len(lat_in)),ls=\"\",marker=\"o\",label=MyLabel(lat_in))\n",
    "    ax2.set_xlabel(\"Latitude\")\n",
    "\n",
    "    i=0\n",
    "    for l, txt in zip(lat_in, namelist):\n",
    "        ax2.text(l,1.01+(i%5)*0.015,s=txt[5:],rotation=90)\n",
    "        ax2.set_ylim(ymax=1.1)\n",
    "        i+=1\n",
    "    patches = sig_legend(ax2)\n",
    "    ax2.legend(handles =patches)"
   ]
  },
  {
   "cell_type": "code",
   "execution_count": null,
   "metadata": {},
   "outputs": [],
   "source": [
    "z     = np.array([grb.z for grb in grbpop])\n",
    "Eiso  = np.array([grb.Eiso.value for grb in grbpop])*grbpop[0].Eiso.unit\n",
    "fig, (ax1,ax2) = plt.subplots(nrows=1, ncols=2, figsize=(12,5))\n",
    "with quantity_support():\n",
    "    ax1.hist(z)\n",
    "    ax2.hist(Eiso)"
   ]
  },
  {
   "cell_type": "code",
   "execution_count": null,
   "metadata": {},
   "outputs": [],
   "source": [
    "fig = plt.figure(figsize=(18,6))\n",
    "ax = fig.add_subplot(111, projection=\"mollweide\")\n",
    "\n",
    "sc = ax.scatter(ra.to(\"rad\"), dec.to(\"rad\"),marker='o',c=z,s=20+5*z**2,cmap='rainbow',alpha=0.5)\n",
    "ax.set_title(\"GRB z distribution\")\n",
    "cbar = fig.colorbar(sc,  orientation='vertical')\n",
    "cbar.set_label('z', rotation=270)\n",
    "plt.show()"
   ]
  },
  {
   "cell_type": "code",
   "execution_count": null,
   "metadata": {},
   "outputs": [],
   "source": [
    "fig = plt.figure(figsize=(18,6))\n",
    "ax = fig.add_subplot(111, projection=\"aitoff\")\n",
    "ax.set_title(\"GRB Eiso distribution\")\n",
    "\n",
    "sc = ax.scatter(ra.to(\"rad\"), dec.to(\"rad\"),marker='o',c=np.log10(Eiso.value),\n",
    "                s=20+10*(np.log10(Eiso.value)-50)**2,\n",
    "                alpha=0.5,\n",
    "                cmap='viridis')\n",
    "cbar = fig.colorbar(sc,  orientation='vertical')\n",
    "cbar.set_label('Log10(Eiso)', rotation=270)\n",
    "plt.show()"
   ]
  },
  {
   "cell_type": "markdown",
   "metadata": {},
   "source": [
    "## Number of E and t bins"
   ]
  },
  {
   "cell_type": "code",
   "execution_count": null,
   "metadata": {},
   "outputs": [],
   "source": [
    "nEval = []\n",
    "ntval = []\n",
    "for g in grbpop:\n",
    "    nEval.append(len(g.Eval))\n",
    "    ntval.append(len(g.tval))\n",
    "fig, (ax1,ax2) = plt.subplots(nrows=1, ncols=2, figsize=(10,5))\n",
    "ax1.hist(nEval,label=MyLabel(nEval))\n",
    "ax1.set_xlabel(\"Energy array length\")\n",
    "ax1.legend()\n",
    "ax2.hist(ntval,label=MyLabel(ntval))\n",
    "ax2.set_xlabel(\"Time array length\")\n",
    "ax2.legend()\n",
    "plt.show()\n"
   ]
  },
  {
   "cell_type": "markdown",
   "metadata": {},
   "source": [
    "# Analyze input spectra"
   ]
  },
  {
   "cell_type": "code",
   "execution_count": null,
   "metadata": {},
   "outputs": [],
   "source": [
    "def get_max(grb,Eref=100*u.GeV,ax=None,plot=False,**kwargs):\n",
    "    \n",
    "    idxref  = np.abs(grb.Eval-Eref).argmin() # Get flux close to Eref\n",
    "    fluxref = grb.fluxval[:,idxref] # Obtain time spectrum for that energy\n",
    "    idmax   = fluxref.argmax() # Get time index of max value \n",
    "\n",
    "    if plot:\n",
    "        if ax==None and plot: \n",
    "            fig, ax = plt.subplots(nrows=1, ncols=1, figsize=(6,6))\n",
    "\n",
    "        with quantity_support():\n",
    "            ax.plot(np.log10(grb.tval.value),np.log10(fluxref.value),marker=\"o\",**kwargs)\n",
    "            # Get time of max\n",
    "            fluxmax =  fluxref[idmax]\n",
    "            tmax    = grb.tval[idmax]\n",
    "            ax.axhline(y=fluxmax,ls=\"--\")\n",
    "            ax.axvline(x=np.log10(tmax.value),ls=\"--\")\n",
    "#             print(fluxmax)\n",
    "    return idmax"
   ]
  },
  {
   "cell_type": "code",
   "execution_count": null,
   "metadata": {
    "scrolled": false
   },
   "outputs": [],
   "source": [
    "nmax=1000\n",
    "fig, ax = plt.subplots(nrows=1, ncols=4, figsize=(20,5))\n",
    "\n",
    "for ax0, Eref in zip(ax,[50*u.GeV, 100*u.GeV, 200*u.GeV, 500*u.GeV]):\n",
    "    print(Eref)\n",
    "    tmax = []\n",
    "    for grb in grbpop[:nmax]:\n",
    "        idmax = get_max(grb,Eref=Eref, ax=ax,plot=False)\n",
    "        tmax.append(grb.tval[idmax].value)\n",
    "    tmax = np.array(tmax)*grb.tval[0].unit\n",
    "    with quantity_support():\n",
    "        ax0.hist(np.log10(tmax.value),bins=25,alpha=0.3,label=MyLabel(tmax,str(Eref),stat=\"med\"))\n",
    "    ax0.legend()"
   ]
  },
  {
   "cell_type": "code",
   "execution_count": null,
   "metadata": {},
   "outputs": [],
   "source": [
    "grb = grbpop[0]\n",
    "idx = (np.array([g(100*u.GeV).value for g in grb.spectra])).argmax()\n",
    "print(idx)"
   ]
  },
  {
   "cell_type": "code",
   "execution_count": null,
   "metadata": {},
   "outputs": [],
   "source": [
    "get_max(grb)"
   ]
  },
  {
   "cell_type": "code",
   "execution_count": null,
   "metadata": {},
   "outputs": [],
   "source": []
  }
 ],
 "metadata": {
  "kernelspec": {
   "display_name": "Python 3",
   "language": "python",
   "name": "python3"
  },
  "language_info": {
   "codemirror_mode": {
    "name": "ipython",
    "version": 3
   },
   "file_extension": ".py",
   "mimetype": "text/x-python",
   "name": "python",
   "nbconvert_exporter": "python",
   "pygments_lexer": "ipython3",
   "version": "3.7.11"
  }
 },
 "nbformat": 4,
 "nbformat_minor": 2
}
