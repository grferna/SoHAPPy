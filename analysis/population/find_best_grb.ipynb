{
 "cells": [
  {
   "cell_type": "markdown",
   "id": "64b9f176",
   "metadata": {},
   "source": [
    "# Find best GRB candidates\n",
    "\n",
    "Find in a population file the candidates fullfilling the user requirements"
   ]
  },
  {
   "cell_type": "code",
   "execution_count": null,
   "id": "e67c9638",
   "metadata": {},
   "outputs": [],
   "source": [
    "import gammapy\n",
    "gammapy.__version__"
   ]
  },
  {
   "cell_type": "code",
   "execution_count": null,
   "id": "bb584de8",
   "metadata": {},
   "outputs": [],
   "source": [
    "import os, sys\n",
    "\n",
    "popfolder = \"../population\" \n",
    "sys.path.append(popfolder) \n",
    "\n",
    "import setup\n",
    "\n",
    "import init as init\n",
    "import numpy as np\n",
    "from utilities import MyLabel\n",
    "from utilities import stamp, Log\n",
    "from pop_plot import col_size, sig_legend, history, plot_historical, redshift, eiso\n",
    "\n",
    "\n",
    "import matplotlib.pyplot as plt\n",
    "\n",
    "plt.style.use('seaborn-talk') # Make the labels readable\n",
    "#plt.style.use('seaborn-poster') # Make the labels readable - bug with normal x marker !!!"
   ]
  },
  {
   "cell_type": "markdown",
   "id": "d2fce411",
   "metadata": {},
   "source": [
    "## Read data - create the total population - infer detection level"
   ]
  },
  {
   "cell_type": "code",
   "execution_count": null,
   "id": "529c57d9",
   "metadata": {},
   "outputs": [],
   "source": [
    "# Open data, get population\n",
    "file = init.create_csv(debug=False)\n",
    "(grb, gn0, gs0, gn, gs, gb) = init.get_data(file, debug=False)\n",
    "\n",
    "# Effective det_level\n",
    "eff_lvl = init.get_eff_lvl(grb)\n",
    "\n",
    "import pandas as pd\n",
    "fullpop = pd.concat([gn0,gs0,gb],axis=0)\n",
    "len(fullpop)"
   ]
  },
  {
   "cell_type": "markdown",
   "id": "798b775c",
   "metadata": {},
   "source": [
    "## Reference population"
   ]
  },
  {
   "cell_type": "code",
   "execution_count": null,
   "id": "62353ff1",
   "metadata": {},
   "outputs": [],
   "source": [
    "popref   = grb[grb.site==\"North\"] # Get initial population (restrict ot one of N, S, B)\n",
    "popNS    = grb[(grb.site==\"North\") | (grb.site==\"South\")]\n",
    "len(popNS)"
   ]
  },
  {
   "cell_type": "markdown",
   "id": "a59f7cc8",
   "metadata": {},
   "source": [
    "## Select subpopulation from some criteria"
   ]
  },
  {
   "cell_type": "code",
   "execution_count": null,
   "id": "27c0d2ce",
   "metadata": {},
   "outputs": [],
   "source": [
    "pop0 = popNS[popNS.sigmx>=3]\n",
    "sigmx_min = 50\n",
    "sigmx_max = 1200\n",
    "nslice_min = 0\n",
    "nslice_max = 8\n",
    "z_min = 1.5\n",
    "z_max= 10\n",
    "\n",
    "mask_slice = (pop0.nt>= nslice_min) & (pop0.nt <= nslice_max)\n",
    "mask_sigmx = (pop0.sigmx >= sigmx_min) & (pop0.sigmx <= sigmx_max)\n",
    "mask_z = (pop0.z >= z_min) & (pop0.z <= z_max)\n",
    "mask = mask_slice & mask_sigmx & mask_z\n",
    "selected = pop0[mask]"
   ]
  },
  {
   "cell_type": "code",
   "execution_count": null,
   "id": "bf6d2c8a",
   "metadata": {},
   "outputs": [],
   "source": [
    "print(\" Selected candidates = \",len(selected))\n",
    "for index, g in selected.iterrows():\n",
    "    print(\"{:4} {:8s} {:5s} nt={:3} sigmx={:8.1f}   z={:3.2f}   Eiso={:3.1e}\"\n",
    "          .format(index, g[\"name\"],g.site,g.nt,g.sigmx,g.z,g.Eiso))"
   ]
  },
  {
   "cell_type": "code",
   "execution_count": null,
   "id": "01d2a909",
   "metadata": {},
   "outputs": [],
   "source": [
    "## Show variable correlations"
   ]
  },
  {
   "cell_type": "code",
   "execution_count": null,
   "id": "d916c35c",
   "metadata": {},
   "outputs": [],
   "source": [
    "fig, ax = plt.subplots(nrows=1, ncols=1, figsize=(8,8))\n",
    "ax.scatter(pop0.nt,np.log10(pop0.sigmx),alpha=0.5,color=\"tab:blue\")\n",
    "ax.scatter(selected.nt,np.log10(selected.sigmx),alpha=1,edgecolor=\"red\",facecolor=\"none\",lw=2,label=\"Selected\")\n",
    "ax.axhline(np.log10(sigmx_min),ls=\":\",color=\"lightgrey\",label=str(sigmx_min))\n",
    "ax.axhline(np.log10(sigmx_max),ls=\"--\",color=\"lightgrey\",label=str(sigmx_max))\n",
    "ax.axvline(nslice_min,ls=\":\",color=\"lightgreen\",label=str(nslice_min))\n",
    "ax.axvline(min(max(pop0.nt),nslice_max),ls=\"--\",color=\"lightgreen\",label=str(nslice_max))\n",
    "ax.set_xlabel(\"Number of slices\")\n",
    "ax.set_ylabel(\"$log_{10} \\ \\sigma_{max}$\")\n",
    "ax.legend(bbox_to_anchor=[1,1])\n"
   ]
  },
  {
   "cell_type": "markdown",
   "id": "b80c421f",
   "metadata": {},
   "source": [
    "# <font color=\"#FF0000\">CHECK nt versus detection and why 2 populations</font>"
   ]
  },
  {
   "cell_type": "code",
   "execution_count": null,
   "id": "88a00bef",
   "metadata": {},
   "outputs": [],
   "source": []
  },
  {
   "cell_type": "markdown",
   "id": "1ba70072",
   "metadata": {},
   "source": [
    "## Show selected GRBs among their friends"
   ]
  },
  {
   "cell_type": "code",
   "execution_count": null,
   "id": "28638a24",
   "metadata": {},
   "outputs": [],
   "source": [
    "### -----------------------\n",
    "### Loop over population\n",
    "zlimit  = 7\n",
    "Eisomin = 5e51\n",
    "Eisomax = 5e55\n",
    "zmin = 0\n",
    "zmax = 3\n",
    "\n",
    "### -----------------------\n",
    "taglist  = [\"North\", \"South\", \"Combined\"]\n",
    "masklist = [gn.d5s>=eff_lvl, gs.d5s>=eff_lvl,fullpop.d5s>=eff_lvl]\n",
    "poplist  = [gn,gs,fullpop]\n",
    "\n",
    "title = \"Detected at $5\\sigma \\ (90\\% \\ C.L.)$\"\n",
    "\n",
    "fig,ax = plt.subplots(nrows=3,ncols=1,figsize=(15,6*len(taglist)),sharex=True)\n",
    "for ax0, pop, mask, tag in zip(ax, poplist, masklist, taglist):\n",
    "\n",
    "        # Generated population\n",
    "        ax0.scatter(popref.z, np.log10(popref.Eiso),\n",
    "                    marker=\".\", color=\"black\",s=10, alpha=0.5, label=tag)\n",
    "\n",
    "        # Detected population\n",
    "        colors, sizes = col_size(pop[mask].sigmx)\n",
    "        ax0.scatter(pop[mask].z, np.log10(pop[mask].Eiso),\n",
    "                    marker=\"o\", s= sizes, c=colors, alpha = 0.6)\n",
    "        \n",
    "        # Pinpoint selected\n",
    "        patches=[]\n",
    "        for index, g in selected.iterrows():\n",
    "            if g.site == tag or tag==\"Combined\":\n",
    "                ax0.arrow(g.z,55,0,0.95*(-55+np.log10(g.Eiso)),color=\"red\",width=0.01)\n",
    "                ax0.text(g.z,55.2, s=g[\"name\"][5:],rotation=90)\n",
    "\n",
    "        # Decoration\n",
    "        ax0.set_xlim(xmin=zmin, xmax=zmax)\n",
    "        ax0.set_ylim(ymin=np.log10(Eisomin),ymax=np.log10(Eisomax))\n",
    "        ax0.set_ylabel(\"$log_{10}$  $E_{iso}$ $(erg)$\")\n",
    "        ax0.legend()\n",
    "        \n",
    "ax0.set_xlabel(\"$Redshift$\")\n",
    "plt.tight_layout()"
   ]
  },
  {
   "cell_type": "code",
   "execution_count": null,
   "id": "29705953",
   "metadata": {},
   "outputs": [],
   "source": []
  }
 ],
 "metadata": {
  "kernelspec": {
   "display_name": "Python 3",
   "language": "python",
   "name": "python3"
  },
  "language_info": {
   "codemirror_mode": {
    "name": "ipython",
    "version": 3
   },
   "file_extension": ".py",
   "mimetype": "text/x-python",
   "name": "python",
   "nbconvert_exporter": "python",
   "pygments_lexer": "ipython3",
   "version": "3.7.11"
  }
 },
 "nbformat": 4,
 "nbformat_minor": 5
}
