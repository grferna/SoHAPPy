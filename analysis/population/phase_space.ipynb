{
 "cells": [
  {
   "cell_type": "markdown",
   "metadata": {},
   "source": [
    "# Explore covered physical phase space"
   ]
  },
  {
   "cell_type": "code",
   "execution_count": null,
   "metadata": {},
   "outputs": [],
   "source": [
    "import gammapy\n",
    "gammapy.__version__"
   ]
  },
  {
   "cell_type": "code",
   "execution_count": null,
   "metadata": {},
   "outputs": [],
   "source": [
    "import numpy as np\n",
    "from pathlib import Path\n",
    "\n",
    "import matplotlib.pyplot as plt\n",
    "import matplotlib.cm as cm\n",
    "import matplotlib.patches as mpatches\n",
    "from mpl_toolkits.axes_grid1.inset_locator import zoomed_inset_axes,inset_axes\n",
    "from mpl_toolkits.axes_grid1.inset_locator import mark_inset\n",
    "\n",
    "import setup\n",
    "from setup import col_n, col_s, col_b, dtpop\n",
    "from pop_plot import col_size, sig_legend, history, plot_historical, redshift, eiso\n",
    "import init as init\n",
    "\n",
    "from utilities import MyLabel, single_legend, stamp, projected_scatter\n",
    "\n",
    "plt.style.use('seaborn-talk') # Make the labels readable\n",
    "#plt.style.use('seaborn-poster') # Make the labels readable - bug with normal x marker !!!"
   ]
  },
  {
   "cell_type": "markdown",
   "metadata": {},
   "source": [
    "## Read data - create the total population - infer detection level"
   ]
  },
  {
   "cell_type": "code",
   "execution_count": null,
   "metadata": {},
   "outputs": [],
   "source": [
    "# Open data, get population\n",
    "file = init.create_csv(debug=True)\n",
    "(grb, gn0, gs0, gn, gs, gb) = init.get_data(file, debug=False)\n",
    "\n",
    "# Effective det_level\n",
    "eff_lvl = init.get_eff_lvl(grb)\n",
    "\n",
    "import pandas as pd\n",
    "fullpop = pd.concat([gn0,gs0,gb],axis=0)\n",
    "len(fullpop)"
   ]
  },
  {
   "cell_type": "markdown",
   "metadata": {},
   "source": [
    "## Reference population"
   ]
  },
  {
   "cell_type": "code",
   "execution_count": null,
   "metadata": {},
   "outputs": [],
   "source": [
    "popref   = grb[grb.site==\"North\"] # Get initial population (restrict ot one of N, S, B)\n",
    "popNS    = grb[(grb.site==\"North\") | (grb.site==\"South\")]\n",
    "len(popNS)"
   ]
  },
  {
   "cell_type": "markdown",
   "metadata": {},
   "source": [
    "## Fraction of z population covered "
   ]
  },
  {
   "cell_type": "code",
   "execution_count": null,
   "metadata": {},
   "outputs": [],
   "source": [
    "fig, (ax1,ax2) = plt.subplots(nrows=1, ncols=2, figsize=(15,6),sharey=True)\n",
    "# Mean North and South\n",
    "ax, axx1 = redshift(popNS,popref,ax=ax1,tag=\"0.5*(North+South)\",det_level = eff_lvl, w=0.5,alpha=0.5)\n",
    "axx1.set_yticklabels([])\n",
    "\n",
    "# Combined North and South\n",
    "ax, axx2 = redshift(fullpop,popref,ax=ax2,tag=\"Combined\",det_level = eff_lvl, color=\"lightblue\",alpha=0.5)\n",
    "\n",
    "axx1.get_shared_y_axes().join(axx1,axx2)\n",
    "stamp(file, axis=fig, where=\"top\")\n",
    "plt.tight_layout()"
   ]
  },
  {
   "cell_type": "markdown",
   "metadata": {},
   "source": [
    "## Fraction of Eiso population covered "
   ]
  },
  {
   "cell_type": "code",
   "execution_count": null,
   "metadata": {},
   "outputs": [],
   "source": [
    "fig, (ax1,ax2) = plt.subplots(nrows=1, ncols=2, figsize=(15,6),sharey=True)\n",
    "# Mean North and South\n",
    "ax, axx1 = eiso(popNS,popref,ax=ax1,tag=\"0.5*(North+South)\",det_level = eff_lvl, w=0.5,alpha=0.5)\n",
    "axx1.set_yticklabels([])\n",
    "\n",
    "# Combined NOrth and Sout\n",
    "ax, axx2 = eiso(fullpop,popref,ax=ax2,tag=\"Combined\",det_level = eff_lvl, color=\"lightblue\",alpha=0.5)\n",
    "\n",
    "axx1.get_shared_y_axes().join(axx1,axx2)\n",
    "stamp(file, axis=fig, where=\"top\")\n",
    "\n",
    "plt.tight_layout()"
   ]
  },
  {
   "cell_type": "markdown",
   "metadata": {},
   "source": [
    "## Eiso versus z "
   ]
  },
  {
   "cell_type": "code",
   "execution_count": null,
   "metadata": {
    "scrolled": false
   },
   "outputs": [],
   "source": [
    "zlimit  = 7\n",
    "Eisomin = 1e50\n",
    "Eisomax = 5e55\n",
    "zmin = 0\n",
    "zmax = 5\n",
    "\n",
    "### -----------------------\n",
    "### Loop over population\n",
    "### -----------------------\n",
    "taglist  = [\"North\", \"South\", \"Combined\"]\n",
    "# masklist = [gn.sigmx>=sigmin, gs.sigmx>=sigmin,fullpop.sigmx>=sigmin]\n",
    "# title = \"$\\sigma_{max} \\geq\"+str(sigmin)+\"$\"\n",
    "masklist = [gn.d5s>=eff_lvl, gs.d5s>=eff_lvl,fullpop.d5s>=eff_lvl]\n",
    "title = \"Detected at $5\\sigma \\ (90\\% \\ C.L.)$\"\n",
    "poplist  = [gn,gs,fullpop]\n",
    "\n",
    "iplot = 0\n",
    "for pop, mask, tag in zip(poplist, masklist, taglist):\n",
    "    \n",
    "    ### Defintions for the axis\n",
    "    fig, ax, axh, axv = projected_scatter()\n",
    "    \n",
    "    ### --------------------\n",
    "    ### Central scatter plot\n",
    "    ### --------------------\n",
    "    # Generated population\n",
    "    ax.scatter(popref.z, np.log10(popref.Eiso),\n",
    "               marker=\".\", color=\"black\",s=10, alpha=0.5, label=\"All\")\n",
    "\n",
    "    # Detected population\n",
    "    colors, sizes = col_size(pop[mask].sigmx)\n",
    "    ax.scatter(pop[mask].z, np.log10(pop[mask].Eiso),\n",
    "               marker=\"o\", s= sizes, c=colors, alpha = 0.6)\n",
    "\n",
    "    # Historical\n",
    "    if tag==\"North\":\n",
    "        plot_historical(ax, history,obs=[\"MAGIC\"])\n",
    "#         plot_historical(ax, history,obs=[\"Fermi/LAT\",\"MAGIC\"])\n",
    "    elif tag==\"South\":\n",
    "        plot_historical(ax, history,obs=[\"H.E.S.S.\"])\n",
    "#         plot_historical(ax, history,obs=[\"Fermi/LAT\",\"H.E.S.S.\"])\n",
    "    else:\n",
    "        plot_historical(ax, history,obs=[\"H.E.S.S.\",\"MAGIC\"])\n",
    "#         plot_historical(ax, history,obs=[\"Fermi/LAT\",\"H.E.S.S.\",\"MAGIC\"])\n",
    "    \n",
    "    # Decoration\n",
    "    ax.set_xlim(xmin=zmin, xmax=zmax)\n",
    "    ax.set_xlabel(\"$Redshift$\")\n",
    "\n",
    "    ax.set_ylim(ymin=np.log10(Eisomin),ymax=np.log10(Eisomax))\n",
    "    ax.set_ylabel(\"$log_{10}$  $E_{iso}$ $(erg)$\")\n",
    "\n",
    "    \n",
    "    patches = sig_legend(ax)\n",
    "    fig.legend(title=\"$\\sigma_{max}$\",handles=patches, bbox_to_anchor=[1.01, 1.01],ncol=2)\n",
    "    \n",
    "    single_legend(ax)\n",
    "\n",
    "    stamp(file, axis=fig, where=\"bottom\")\n",
    "\n",
    "    ### --------------------\n",
    "    ### Eiso - Vertical data\n",
    "    ### --------------------    \n",
    "    nbin = 25\n",
    "    hist_mask = (popref.Eiso >= Eisomin) & (popref.Eiso <= Eisomax)\n",
    "\n",
    "    n, bins, _ = axv.hist(np.log10(popref[hist_mask].Eiso),bins = nbin, \n",
    "                          facecolor=\"none\",edgecolor=\"black\",orientation=\"horizontal\",\n",
    "                          label=MyLabel( np.log10(popref[hist_mask].Eiso) ,label=\"All\"))\n",
    "    axv.hist(np.log10(pop[mask].Eiso),bins = bins,\n",
    "             color=\"purple\",alpha=0.3,orientation=\"horizontal\",\n",
    "             label = MyLabel( np.log10(pop[mask].Eiso) ,label=\"Detected\"))\n",
    "    axv.set_xscale(\"log\")\n",
    "#     axv.legend()\n",
    "\n",
    "    \n",
    "    ### --------------------\n",
    "    ### z - horizontal data\n",
    "    ### --------------------    \n",
    "    nbin = 25\n",
    "    hist_mask = (popref.z >= zmin) & (popref.z <= zmax)\n",
    "\n",
    "    n, bins, _ = axh.hist(popref[hist_mask].z, bins = nbin, facecolor=\"none\",edgecolor=\"black\")\n",
    "    axh.hist(pop[mask].z, bins = bins,\n",
    "            color=\"purple\",alpha=0.3)\n",
    "    \n",
    "    axh.set_xlim(xmin = zmin, xmax=zmax)\n",
    "    axh.set_title(tag+\" - \" + title)\n",
    "    axh.set_yscale(\"log\")\n"
   ]
  },
  {
   "cell_type": "code",
   "execution_count": null,
   "metadata": {},
   "outputs": [],
   "source": []
  }
 ],
 "metadata": {
  "kernelspec": {
   "display_name": "Python 3",
   "language": "python",
   "name": "python3"
  },
  "language_info": {
   "codemirror_mode": {
    "name": "ipython",
    "version": 3
   },
   "file_extension": ".py",
   "mimetype": "text/x-python",
   "name": "python",
   "nbconvert_exporter": "python",
   "pygments_lexer": "ipython3",
   "version": "3.7.11"
  }
 },
 "nbformat": 4,
 "nbformat_minor": 2
}
