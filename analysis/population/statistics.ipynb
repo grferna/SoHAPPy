{
 "cells": [
  {
   "cell_type": "markdown",
   "metadata": {},
   "source": [
    "# SoHAPPY analysis tools\n",
    "Open a data file and get the detection statistics"
   ]
  },
  {
   "cell_type": "code",
   "execution_count": null,
   "metadata": {},
   "outputs": [],
   "source": [
    "import gammapy\n",
    "gammapy.__version__"
   ]
  },
  {
   "cell_type": "code",
   "execution_count": null,
   "metadata": {},
   "outputs": [],
   "source": [
    "import os, sys\n",
    "import setup\n",
    "\n",
    "import init as init\n",
    "import numpy as np\n",
    "from utilities import MyLabel\n",
    "from utilities import stamp, Log\n",
    "\n",
    "import matplotlib.pyplot as plt"
   ]
  },
  {
   "cell_type": "markdown",
   "metadata": {},
   "source": [
    "## Open file (create csv file if not existing)"
   ]
  },
  {
   "cell_type": "code",
   "execution_count": null,
   "metadata": {
    "scrolled": true
   },
   "outputs": [],
   "source": [
    "file = init.create_csv(debug=True)"
   ]
  },
  {
   "cell_type": "markdown",
   "metadata": {},
   "source": [
    "## Get data and sub-population\n",
    "\n",
    "- grb : all data\n",
    "- g_ana : analyzable (visible and simulation completed)\n",
    "- gn0 : seen North only\n",
    "- gs0 : seen South only\n",
    "- gb : seen both site\n",
    "- gn : seen in North and maybe elsewhere\n",
    "- gs : seen in South ad maybe elsewhare"
   ]
  },
  {
   "cell_type": "code",
   "execution_count": null,
   "metadata": {},
   "outputs": [],
   "source": [
    "(grb, gn0, gs0, gn, gs, gb) = init.get_data(file, debug=True)"
   ]
  },
  {
   "cell_type": "markdown",
   "metadata": {
    "scrolled": false
   },
   "source": [
    "## Sanity checks"
   ]
  },
  {
   "cell_type": "markdown",
   "metadata": {},
   "source": [
    "#### Min altitude and delays"
   ]
  },
  {
   "cell_type": "code",
   "execution_count": null,
   "metadata": {
    "scrolled": false
   },
   "outputs": [],
   "source": [
    "init.sanity_check(file, grb, gn0, gs0, gn, gs, gb, debug=True, old=False) # Use old =True for production before SoHAPPy 0.4"
   ]
  },
  {
   "cell_type": "markdown",
   "metadata": {},
   "source": [
    "#### Negative significances\n",
    "The significance is returned by the WStatCountsStatistic function in gammapy, and has a sign which corresponds to the sign of the excess. As a consequence it can be negative.\n",
    "In case the simulation is done without fluctuation and one trial, the excess can not be negative, and all significance are zero (no excess count) or more."
   ]
  },
  {
   "cell_type": "code",
   "execution_count": null,
   "metadata": {},
   "outputs": [],
   "source": [
    "for g,txt in zip([gn, gs, gn0, gs0, gb],[\"North\", \"South\", \"North only\",\"South only\",\"Both\"]):\n",
    "    n_pos = len(g[g.sigmx>0])\n",
    "    n0    = len(g[g.sigmx==0])\n",
    "    n_neg = len(g[g.sigmx<0])\n",
    "    if n_neg == 0: fluctuate = False\n",
    "    print(\" {:10s} <0: {:<5d} ==0: {:<5d} >0: {:<5d}\"\n",
    "          .format(txt,n_neg,n0,n_pos))"
   ]
  },
  {
   "cell_type": "markdown",
   "metadata": {},
   "source": [
    "# Check statistics"
   ]
  },
  {
   "cell_type": "code",
   "execution_count": null,
   "metadata": {},
   "outputs": [],
   "source": [
    "init.rate(grb, nyears=44)"
   ]
  },
  {
   "cell_type": "code",
   "execution_count": null,
   "metadata": {},
   "outputs": [],
   "source": []
  }
 ],
 "metadata": {
  "kernelspec": {
   "display_name": "Python 3",
   "language": "python",
   "name": "python3"
  },
  "language_info": {
   "codemirror_mode": {
    "name": "ipython",
    "version": 3
   },
   "file_extension": ".py",
   "mimetype": "text/x-python",
   "name": "python",
   "nbconvert_exporter": "python",
   "pygments_lexer": "ipython3",
   "version": "3.7.11"
  }
 },
 "nbformat": 4,
 "nbformat_minor": 4
}
