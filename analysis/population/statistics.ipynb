{
 "cells": [
  {
   "cell_type": "markdown",
   "metadata": {},
   "source": [
    "# SoHAPPY analysis tools\n",
    "Open a data file and get the detection statistics"
   ]
  },
  {
   "cell_type": "code",
   "execution_count": 1,
   "metadata": {},
   "outputs": [
    {
     "data": {
      "text/plain": [
       "'0.18.2'"
      ]
     },
     "execution_count": 1,
     "metadata": {},
     "output_type": "execute_result"
    }
   ],
   "source": [
    "import gammapy\n",
    "gammapy.__version__"
   ]
  },
  {
   "cell_type": "code",
   "execution_count": 2,
   "metadata": {},
   "outputs": [],
   "source": [
    "import os, sys\n",
    "from setup import col_5, col_3, col_n, col_s\n",
    "\n",
    "import init as init\n",
    "import numpy as np\n",
    "from utilities import MyLabel\n",
    "from utilities import stamp, Log\n",
    "\n",
    "import matplotlib.pyplot as plt"
   ]
  },
  {
   "cell_type": "markdown",
   "metadata": {},
   "source": [
    "## Open file (create csv file if not existing)"
   ]
  },
  {
   "cell_type": "code",
   "execution_count": 3,
   "metadata": {
    "scrolled": false
   },
   "outputs": [
    {
     "name": "stdout",
     "output_type": "stream",
     "text": [
      "Full name : ..\\..\\..\\output\\pop_vis24_fullmoonveto-100iter-noacc-prod5\\data.txt\n",
      " >>>  ..\\..\\..\\output\\pop_vis24_fullmoonveto-100iter-noacc-prod5\\data.csv\n",
      "..\\..\\..\\output\\pop_vis24_fullmoonveto-100iter-noacc-prod5\\data.csv  exists\n"
     ]
    }
   ],
   "source": [
    "file = init.create_csv(debug=True)"
   ]
  },
  {
   "cell_type": "markdown",
   "metadata": {},
   "source": [
    "## Get data and sub-population\n",
    "\n",
    "- grb : all data\n",
    "- g_ana : analyzable (visible and simulation completed)\n",
    "- gn0 : seen North only\n",
    "- gs0 : seen South only\n",
    "- gb : seen both site\n",
    "- gn : seen in North and maybe elsewhere\n",
    "- gs : seen in South ad maybe elsewhare"
   ]
  },
  {
   "cell_type": "code",
   "execution_count": 4,
   "metadata": {},
   "outputs": [
    {
     "name": "stdout",
     "output_type": "stream",
     "text": [
      " DATA READING from  ..\\..\\..\\output\\pop_vis24_fullmoonveto-100iter-noacc-prod5\\data.csv\n",
      "Supplementary information is present\n",
      " grb.N==1 seen North only\n",
      " gbr.S==1 seen South only\n",
      " grb.B==1 seen on both\n",
      "\n",
      "+-------------------------- Flags ---------------------------+\n",
      " Flags:\n",
      "   No visible flag, unvis           =  -999\n",
      "   Iteration # from error code, 3s and 5s counts :  100 100 100\n",
      "+----------------------- Statistics -------------------------+\n",
      "   Not visible   Fully analyzed      Aborted    \n",
      "      1818            1182              0       \n",
      "\n",
      " Raw statistics - max per site = 2000\n",
      "  - total      :  3000\n",
      "  - analyzable :  1182\n",
      "  - North      :  446\n",
      "  - South      :  449\n",
      "  - Both sites :  287 -> total =  1182\n",
      "  - North only :  160\n",
      "  - South only :  163\n",
      "+------------------------------------------------------------+\n"
     ]
    }
   ],
   "source": [
    "(grb, gn0, gs0, gn, gs, gb) = init.get_data(file, debug=True)"
   ]
  },
  {
   "cell_type": "markdown",
   "metadata": {
    "scrolled": false
   },
   "source": [
    "## Sanity checks"
   ]
  },
  {
   "cell_type": "markdown",
   "metadata": {},
   "source": [
    "#### Min altitude and delays"
   ]
  },
  {
   "cell_type": "code",
   "execution_count": 5,
   "metadata": {
    "scrolled": false
   },
   "outputs": [
    {
     "name": "stdout",
     "output_type": "stream",
     "text": [
      "+======================== Sanity checks =========================+\n",
      " Estimated min altitude in  North  : 24.0\n",
      " Estimated min altitude in  South  : 24.0\n"
     ]
    },
    {
     "data": {
      "image/png": "[encoded data removed]",
      "text/plain": [
       "<Figure size 720x144 with 3 Axes>"
      ]
     },
     "metadata": {
      "needs_background": "light"
     },
     "output_type": "display_data"
    },
    {
     "name": "stdout",
     "output_type": "stream",
     "text": [
      ">>> Read configuration from  \\\\Dapdc5\\stolar\\My Documents\\CTA\\Analysis\\GRB-Transients-RTA\\Posityve_repo\\output\\pop_vis24_fullmoonveto-100iter-noacc-prod5\\config_pop_vis24_fullmoonveto-100iter-noacc-prod5.yaml\n",
      " Estimated total delay in  North  : 108.0\n",
      " Estimated total delay in  South  : 168.0\n",
      "+================================================================+\n"
     ]
    },
    {
     "data": {
      "image/png": "[encoded data removed]",
      "text/plain": [
       "<Figure size 720x144 with 2 Axes>"
      ]
     },
     "metadata": {
      "needs_background": "light"
     },
     "output_type": "display_data"
    }
   ],
   "source": [
    "init.sanity_check(file, grb, gn0, gs0, gn, gs, gb, debug=True, old=False) # Use old =True for production before SoHAPPy 0.4"
   ]
  },
  {
   "cell_type": "markdown",
   "metadata": {},
   "source": [
    "#### Negative significances\n",
    "The significance is returned by the WStatCountsStatistic function in gammapy, and has a sign which corresponds to the sign of the excess. As a consequence it can be negative.\n",
    "In case the simulation is done without fluctuation and one trial, the excess can not be negative, and all significance are zero (no excess count) or more."
   ]
  },
  {
   "cell_type": "code",
   "execution_count": 6,
   "metadata": {
    "scrolled": true
   },
   "outputs": [
    {
     "name": "stdout",
     "output_type": "stream",
     "text": [
      " North      <0: 23    ==0: 16    >0: 407  \n",
      " South      <0: 24    ==0: 28    >0: 397  \n",
      " North only <0: 8     ==0: 7     >0: 145  \n",
      " South only <0: 11    ==0: 15    >0: 137  \n",
      " Both       <0: 1     ==0: 1     >0: 285  \n"
     ]
    }
   ],
   "source": [
    "for g,txt in zip([gn, gs, gn0, gs0, gb],[\"North\", \"South\", \"North only\",\"South only\",\"Both\"]):\n",
    "    n_pos = len(g[g.sigmx>0])\n",
    "    n0    = len(g[g.sigmx==0])\n",
    "    n_neg = len(g[g.sigmx<0])\n",
    "    if n_neg == 0: fluctuate = False\n",
    "    print(\" {:10s} <0: {:<5d} ==0: {:<5d} >0: {:<5d}\"\n",
    "          .format(txt,n_neg,n0,n_pos))"
   ]
  },
  {
   "cell_type": "markdown",
   "metadata": {},
   "source": [
    "# Check statistics"
   ]
  },
  {
   "cell_type": "code",
   "execution_count": 7,
   "metadata": {
    "scrolled": true
   },
   "outputs": [
    {
     "name": "stdout",
     "output_type": "stream",
     "text": [
      "\n",
      " ------------------------------------------------------------------------------------------------------\n",
      " Normalized to 44 years\n",
      " ------------------------------------------------------------------------------------------------------\n",
      " Rate :               N               S           Nonly           Sonly            Both          Total\n",
      " ------  --------------  --------------  --------------  --------------  --------------  --------------\n",
      " Vis. :   446.0 +- 21.1   449.0 +- 21.2   161.0 +- 12.7   163.0 +- 12.8   287.0 +- 16.9   611.0 +- 24.7\n",
      "      :    10.1 +-  0.5    10.2 +-  0.5     3.7 +-  0.3     3.7 +-  0.3     6.5 +-  0.4    13.9 +-  0.6\n",
      " ------  --------------  --------------  --------------  --------------  --------------  --------------\n",
      " Ana. :   446.0 +- 21.1   449.0 +- 21.2   161.0 +- 12.7   163.0 +- 12.8   287.0 +- 16.9   611.0 +- 24.7\n",
      "      :    10.1 +-  0.5    10.2 +-  0.5     3.7 +-  0.3     3.7 +-  0.3     6.5 +-  0.4    13.9 +-  0.6\n",
      " ------  --------------  --------------  --------------  --------------  --------------  --------------\n",
      " 3s   :    62.0 +-  7.9    36.0 +-  6.0    19.0 +-  4.4     7.0 +-  2.6    55.0 +-  7.4    81.0 +-  9.0\n",
      "      :     1.4 +-  0.2     0.8 +-  0.1     0.4 +-  0.1     0.2 +-  0.1     1.2 +-  0.2     1.8 +-  0.2\n",
      " ------  --------------  --------------  --------------  --------------  --------------  --------------\n",
      " 5s   :    55.0 +-  7.4    28.0 +-  5.3    16.0 +-  4.0     5.0 +-  2.2    46.0 +-  6.8    67.0 +-  8.2\n",
      "      :     1.2 +-  0.2     0.6 +-  0.1     0.4 +-  0.1     0.1 +-  0.1     1.0 +-  0.2     1.5 +-  0.2\n",
      " ------------------------------------------------------------------------------------------------------\n"
     ]
    }
   ],
   "source": [
    "init.rate(grb, nyears=44)"
   ]
  },
  {
   "cell_type": "markdown",
   "metadata": {},
   "source": [
    "# Performance"
   ]
  },
  {
   "cell_type": "code",
   "execution_count": 8,
   "metadata": {
    "scrolled": false
   },
   "outputs": [
    {
     "name": "stdout",
     "output_type": "stream",
     "text": [
      " Detection level =  0.9  niter =  100  -> Eff. det. level is  90.0\n"
     ]
    },
    {
     "data": {
      "image/png": "[encoded data removed]",
      "text/plain": [
       "<Figure size 576x360 with 1 Axes>"
      ]
     },
     "metadata": {
      "needs_background": "light"
     },
     "output_type": "display_data"
    }
   ],
   "source": [
    "eff_lvl = init.get_eff_lvl(grb)\n",
    "import pandas as pd\n",
    "fullpop = pd.concat([gn0, gs0, gb],axis=0)\n",
    "fig, ax = plt.subplots(nrows=1, ncols=1, figsize=(8,5))\n",
    "init.computing_time(fullpop, eff_lvl) \n",
    "stamp(file,axis=fig,where=\"left\")"
   ]
  },
  {
   "cell_type": "markdown",
   "metadata": {},
   "source": [
    "## Detection levels"
   ]
  },
  {
   "cell_type": "code",
   "execution_count": 9,
   "metadata": {},
   "outputs": [],
   "source": [
    "pop = fullpop"
   ]
  },
  {
   "cell_type": "code",
   "execution_count": 10,
   "metadata": {},
   "outputs": [
    {
     "data": {
      "image/png": "[encoded data removed]",
      "text/plain": [
       "<Figure size 432x360 with 1 Axes>"
      ]
     },
     "metadata": {
      "needs_background": "light"
     },
     "output_type": "display_data"
    }
   ],
   "source": [
    "var = pop.d5s\n",
    "tag = \"$5\\sigma$\"\n",
    "color = col_5\n",
    "fig, ax = plt.subplots(nrows=1, ncols=1, figsize=(6,5))\n",
    "init.detection_level(var/max(pop.err),cl=eff_lvl/max(pop.err),\n",
    "                     ax=ax, color=color, alpha=0.5, \n",
    "                     label=MyLabel(100*var/max(pop.err),label=tag,stat=None))\n",
    "var = pop.d3s\n",
    "tag = \"$3\\sigma$\"\n",
    "color = col_3\n",
    "init.detection_level(var/max(pop.err),cl=eff_lvl/max(pop.err),\n",
    "                     ax=ax, color=color, alpha=0.5, \n",
    "                     label=MyLabel(100*var/max(pop.err),label=tag,stat=None))\n",
    "stamp(file,axis=fig)\n",
    "from utilities import single_legend\n",
    "single_legend(ax)"
   ]
  },
  {
   "cell_type": "code",
   "execution_count": 11,
   "metadata": {},
   "outputs": [],
   "source": [
    "def plot_nslices(pop, color=\"black\",ax=None):\n",
    "    \n",
    "    # Slice number distribution\n",
    "    from matplotlib.ticker import AutoMinorLocator, MultipleLocator, FuncFormatter\n",
    "    bins = np.linspace(0,30,31)\n",
    "\n",
    "    if ax==None: fig, ax = plt.subplots(nrows=1,ncols=1,figsize=(5,5))\n",
    "    n, bins, _ = ax.hist(pop.nt, bins=bins,facecolor=\"none\",edgecolor=color,label=MyLabel(pop.nt))\n",
    "    ax.legend()\n",
    "    ax.set_xlabel(\"Number of slices in the GRB\")\n",
    "    ax.xaxis.set_major_locator(MultipleLocator(2.000))       \n",
    "\n",
    "    return ax"
   ]
  },
  {
   "cell_type": "code",
   "execution_count": 12,
   "metadata": {},
   "outputs": [
    {
     "data": {
      "text/plain": [
       "<AxesSubplot:xlabel='Number of slices in the GRB'>"
      ]
     },
     "execution_count": 12,
     "metadata": {},
     "output_type": "execute_result"
    },
    {
     "data": {
      "image/png": "[encoded data removed]",
      "text/plain": [
       "<Figure size 360x360 with 1 Axes>"
      ]
     },
     "metadata": {
      "needs_background": "light"
     },
     "output_type": "display_data"
    }
   ],
   "source": [
    "plot_nslices(pop)"
   ]
  },
  {
   "cell_type": "code",
   "execution_count": 13,
   "metadata": {},
   "outputs": [],
   "source": [
    "def trust_cl(pop,tag,col=\"black\",sigma=3, ax=None):\n",
    "    \n",
    "    print(\" Sub population \",tag)\n",
    "    print(\" Err code < 0          = \",len(pop[pop.err<0]))\n",
    "    \n",
    "    nMC   = sum(pop.err)\n",
    "    nSL   = sum(pop.nt)\n",
    "    \n",
    "    if sigma == 3:\n",
    "        nok = sum(pop.d3s)\n",
    "        var = pop.d3s\n",
    "        tag = \"$3\\sigma$\"\n",
    "        print(\" d3s code < 0          = \",len(pop[pop.d3s<0]))\n",
    "        \n",
    "    elif sigma == 5:\n",
    "        nok = sum(pop.d5s)\n",
    "        var = pop.d5s\n",
    "        tag = \"$5\\sigma$\"\n",
    "        print(\" d5s code < 0          = \",len(pop[pop.d5s<0]))       \n",
    "    \n",
    "    print(\" nMC : Total number of GRB simulation trials = {:10d}\".format(nMC))\n",
    "    print(\" nSL : Total number of slices                = {:10d} (mean = {:3.2f})\".format(nSL, np.mean(pop.nt)))\n",
    "    print(\" Total number of MC trials (nMC x nSL)       = {:10d}\".format(nMC*nSL))\n",
    "    \n",
    "    # Since the detection is at 3/5 sigma, \n",
    "    # it is expected that as a mean, the background fluctuate at 3/5 sigma in a fraction of the time\n",
    "    from scipy.stats import norm\n",
    "    p_value = 1-norm.cdf(sigma)\n",
    "    nexpect = nMC*nSL*p_value\n",
    "    print()\n",
    "    print(\" Probability to get a signal (p_value for {:2d} sigma   = {:7.6f}%)\".format(sigma,p_value*100))\n",
    "    print(\"    => {:2d} sigma occurence in a no signal scenario = {:10.2f}\".format(sigma,nexpect))\n",
    "    print(\" Observed {:2d} sigma trials in the data               = {:10.2f}\".format(sigma,nok))\n",
    "    "
   ]
  },
  {
   "cell_type": "code",
   "execution_count": 14,
   "metadata": {},
   "outputs": [
    {
     "name": "stdout",
     "output_type": "stream",
     "text": [
      " Sub population  All\n",
      " Err code < 0          =  0\n",
      " d3s code < 0          =  0\n",
      " nMC : Total number of GRB simulation trials =      61000\n",
      " nSL : Total number of slices                =       3905 (mean = 6.40)\n",
      " Total number of MC trials (nMC x nSL)       =  238205000\n",
      "\n",
      " Probability to get a signal (p_value for  3 sigma   = 0.134990%)\n",
      "    =>  3 sigma occurence in a no signal scenario =  321552.46\n",
      " Observed  3 sigma trials in the data               =   12942.00\n"
     ]
    }
   ],
   "source": [
    "trust_cl(fullpop,\"All\",sigma=3,col=col_n)"
   ]
  },
  {
   "cell_type": "code",
   "execution_count": null,
   "metadata": {},
   "outputs": [],
   "source": []
  }
 ],
 "metadata": {
  "kernelspec": {
   "display_name": "Python 3",
   "language": "python",
   "name": "python3"
  },
  "language_info": {
   "codemirror_mode": {
    "name": "ipython",
    "version": 3
   },
   "file_extension": ".py",
   "mimetype": "text/x-python",
   "name": "python",
   "nbconvert_exporter": "python",
   "pygments_lexer": "ipython3",
   "version": "3.7.11"
  }
 },
 "nbformat": 4,
 "nbformat_minor": 4
}
