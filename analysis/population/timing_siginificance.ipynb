{
 "cells": [
  {
   "cell_type": "markdown",
   "metadata": {},
   "source": [
    "# Analyze SoHappy output files - Significances and timing"
   ]
  },
  {
   "cell_type": "code",
   "execution_count": null,
   "metadata": {},
   "outputs": [],
   "source": [
    "import gammapy\n",
    "gammapy.__version__"
   ]
  },
  {
   "cell_type": "code",
   "execution_count": null,
   "metadata": {},
   "outputs": [],
   "source": [
    "import numpy as np\n",
    "from pathlib import Path\n",
    "\n",
    "import matplotlib.pyplot as plt\n",
    "import matplotlib.cm as cm\n",
    "import matplotlib.patches as mpatches\n",
    "from mpl_toolkits.axes_grid1.inset_locator import zoomed_inset_axes,inset_axes\n",
    "from mpl_toolkits.axes_grid1.inset_locator import mark_inset\n",
    "\n",
    "import setup\n",
    "from setup import col_n, col_s, col_b, dtpop\n",
    "from pop_plot import col_size, sig_legend, sig_plot_cumulative\n",
    "import init as init\n",
    "\n",
    "from utilities import MyLabel, single_legend, stamp\n",
    "\n",
    "plt.style.use('seaborn-talk') # Make the labels readable\n",
    "#plt.style.use('seaborn-poster') # Make the labels readable - bug with normal x marker !!!"
   ]
  },
  {
   "cell_type": "markdown",
   "metadata": {},
   "source": [
    "## Read data - create the total population"
   ]
  },
  {
   "cell_type": "code",
   "execution_count": null,
   "metadata": {},
   "outputs": [],
   "source": [
    "# Open data, get population\n",
    "file = init.create_csv(debug=False)\n",
    "(grb, gn0, gs0, gn, gs, gb) = init.get_data(file, debug=False)\n",
    "\n",
    "# Effective det_level\n",
    "eff_lvl = init.get_eff_lvl(grb)\n",
    "\n",
    "import pandas as pd\n",
    "fullpop = pd.concat([gn0,gs0,gb],axis=0)\n",
    "len(fullpop)"
   ]
  },
  {
   "cell_type": "markdown",
   "metadata": {},
   "source": [
    "# <font color=\"#FF0000\">SIGNIFICANCES</font>\n",
    "Could go in \"find best grb\" notebook"
   ]
  },
  {
   "cell_type": "markdown",
   "metadata": {},
   "source": [
    "### GRB with max siginificance obtained after one day"
   ]
  },
  {
   "cell_type": "code",
   "execution_count": null,
   "metadata": {},
   "outputs": [],
   "source": [
    "sigmx_min = 5\n",
    "tmin = 24*3600\n",
    "print(\" Events above \",sigmx_min,\", \",tmin/3600,\" h after the trigger\")\n",
    "\n",
    "for g,txt in zip([gn, gs, gb, fullpop],[\"North\",\"South\",\"Both\",\"All\"]):\n",
    "    mask = g.sigmx>sigmx_min\n",
    "    late_list = g[mask][g[mask].tmx>tmin]\n",
    "    \n",
    "    print(\" {:5s} {:4d}\"\":\".format(txt,len(late_list)))\n",
    "    \n",
    "    for s, t, sigma in zip(late_list.name,late_list.tmx, late_list.sigmx):\n",
    "        print(\"{:10s}: t={:10.2f} sig={:10.2f}\".format(s,t,sigma),end=\"\")\n",
    "        if (sigma >= 3): print(\" *\")\n",
    "        else: print()\n",
    "    # late_list.name.values.flatten()"
   ]
  },
  {
   "cell_type": "markdown",
   "metadata": {},
   "source": [
    "## Max. Significance distributions\n",
    "The following plot shows that \"Both\" has better performance (sigma) than N and S separately"
   ]
  },
  {
   "cell_type": "code",
   "execution_count": null,
   "metadata": {},
   "outputs": [],
   "source": [
    "def plot_sigmax(g,ax=None,logx=True,bins=25,tag=\"\",weight=1,xmax=None,**kwargs):\n",
    "    \"\"\"\n",
    "    Plot the max siginificance dsitribution for one population\n",
    "    \"\"\"\n",
    "    \n",
    "    if (ax==None): fig,ax = plt.subplots()\n",
    "        \n",
    "    if (xmax != None): mask = g.sigmx < xmax\n",
    "    else:              mask= (np.ones(len(g),dtype=bool)) & (g.sigmx!= -1)\n",
    "        \n",
    "    if logx:\n",
    "        mask = (g.sigmx>0) & (mask) \n",
    "        x = np.log10(g[mask].sigmx)\n",
    "        \n",
    "        ax.set_title(\"Positive values only\")\n",
    "        ax.set_xlabel(\"$log_{10}(\\sigma_{max})$\")   \n",
    "        ax.axvline(x=np.log10(3),color=\"tab:orange\",ls=\":\",label=\"$3\\sigma$\")\n",
    "        ax.axvline(x=np.log10(5),color=\"tab:green\",ls=\":\",label=\"$5\\sigma$\") \n",
    "    else:\n",
    "        x = g[mask].sigmx\n",
    "        ax.set_xlabel(\"$\\sigma_{max}$\")\n",
    "        ax.axvline(x=3.,color=\"tab:orange\",ls=\":\",label=\"$3\\sigma$\")\n",
    "        ax.axvline(x=5,color=\"tab:green\",ls=\":\"  ,label=\"$5\\sigma$\")   \n",
    "        \n",
    "    n, bins,_ = ax.hist(x, bins=bins, label=MyLabel(x,tag,stat=\"med\"),weights=np.ones(len(x))*weight,**kwargs) \n",
    "    \n",
    "    single_legend(ax)\n",
    "    \n",
    "    return (ax, bins)"
   ]
  },
  {
   "cell_type": "code",
   "execution_count": null,
   "metadata": {},
   "outputs": [],
   "source": [
    "fig, (ax1, ax2, ax3) = plt.subplots(nrows=1,ncols=3,figsize=(18,6),sharey=True)\n",
    "logx = True\n",
    "nbin=25\n",
    "ax, bins = plot_sigmax(gn,tag=\"North\",ax=ax1,bins=nbin,logx=logx,color=col_n,alpha=0.5)\n",
    "plot_sigmax(gn0,tag=\"North only\",ax=ax1,logx=logx,bins=bins,color=col_n,alpha=0.5)\n",
    "\n",
    "ax, bins = plot_sigmax(gs,tag=\"South\",ax=ax2,bins=nbin,logx=logx,color=col_s,alpha=0.5)\n",
    "plot_sigmax(gs0,tag=\"South only\",ax=ax,logx=logx,bins=bins,color=col_s,alpha=0.5)\n",
    "\n",
    "ax, bins = plot_sigmax(gb,tag=\"Both\",\n",
    "                       logx=logx,color=col_b,ax=ax3,bins=nbin,alpha=0.5)\n",
    "#plot_sigmax(pd.concat([gn0,gs0],axis=0),tag=\"N+S\",logx=logx,facecolor=\"none\",edgecolor=\"black\",ax=ax3,bins=bins,alpha=1)\n",
    "import pandas as pd\n",
    "gtot= pd.concat([gn,gs],axis=0)\n",
    "plot_sigmax(gtot,tag=\"N+S\",\n",
    "            logx=logx,facecolor=\"none\",edgecolor=\"black\",ax=ax3,bins=bins,alpha=1,weight=len(gb)/len(gtot))\n",
    "\n",
    "# ax1.set_yscale(\"log\")\n",
    "# ax2.set_yscale(\"log\")\n",
    "# ax3.set_yscale(\"log\")\n",
    "stamp(file,axis=fig,where=\"bottom\")\n",
    "plt.tight_layout()"
   ]
  },
  {
   "cell_type": "markdown",
   "metadata": {},
   "source": [
    "## Highest sigma values"
   ]
  },
  {
   "cell_type": "code",
   "execution_count": null,
   "metadata": {},
   "outputs": [],
   "source": [
    "siglist = [-0.5, 3, 5, 10, 20, 50, 100, 200]\n",
    "poplist = [gn,gn0,gs,gs0,gb]\n",
    "taglist = [\"North\",\"N only\",\"South\",\"S only\",\"Both\"]\n",
    "duration = 10 # in years"
   ]
  },
  {
   "cell_type": "code",
   "execution_count": null,
   "metadata": {},
   "outputs": [],
   "source": [
    "print(\" Detection rate with mean sigmax above sig for \",duration,\" years\")\n",
    "print(60*\"-\")\n",
    "\n",
    "print(\"{:>10s}\".format(\"Sig min\"),end=\"\")\n",
    "for tag in taglist:\n",
    "    print(\"{:>8s}\".format(tag),end=\"\")\n",
    "print(\"{:>8s}\".format(\"Tot\"))\n",
    "print(60*\"-\")\n",
    "\n",
    "for sig in siglist:\n",
    "    print(\"{:>10.1f}\".format(sig),end=\"\")\n",
    "    ntot = len(gn0[gn0.sigmx>=sig]) + len(gs0[gs0.sigmx>=sig]) + len(gb[gb.sigmx>=sig])\n",
    "    for p  in poplist:\n",
    "        n = len(p[p.sigmx>=sig])\n",
    "        print(\"{:>8.2f}\".format(duration*n/dtpop),end=\"\")\n",
    "    print(\"{:>8.2f}\".format(duration*ntot/dtpop))\n",
    "\n",
    "print(60*\"-\")"
   ]
  },
  {
   "cell_type": "code",
   "execution_count": null,
   "metadata": {},
   "outputs": [],
   "source": [
    "def high_sigma(gpop,ax=None,inset=True, sigmin= 5, sig2show=100, tag=\"\", show=True, weight=1, **kwargs):\n",
    "    \"\"\"\n",
    "    Check highest value of sigmax\n",
    "    \"\"\"\n",
    "\n",
    "    #n,bins,_ = ax.hist(gpop.sigmx[gpop.sigmx>=sigmin],label=tag, **kwargs)\n",
    "    var = gpop.sigmx[gpop.sigmx>=sigmin]\n",
    "    weights = np.ones(len(var))*weight\n",
    "    n,bins,_ = ax.hist(var,label=MyLabel(var*weights,tag,stat=None), weights = weights,**kwargs)\n",
    "    #ax.set_yscale(\"log\")\n",
    "    ax.set_xlabel(\"$\\sigma_{{max}} \\geq {}$\".format(sigmin))\n",
    "    ax.set_ylabel(\"Event rate\")\n",
    "    #ax.set_title(\"Negative significances excluded\")   \n",
    "    # Inset in log\n",
    "    if (inset):\n",
    "        axx = inset_axes(ax, width=\"75%\", height=1.2,loc=\"upper right\")\n",
    "        nxx,binsxx,_ = axx.hist(np.log10(gpop[gpop.sigmx>0].sigmx),\n",
    "                           bins=25,color=\"grey\",edgecolor=\"black\", alpha=0.5)\n",
    "        axx.axvline(np.log10(3),ls=\":\",color=\"red\",lw=\"2\",label=\"$3\\sigma$\")\n",
    "        axx.axvline(np.log10(5),color=\"red\",lw=\"2\",label=\"$5\\sigma$\")\n",
    "        axx.set_xlabel(\"Log $\\sigma_{max}$\")\n",
    "        axx.legend()\n",
    "        \n",
    "        ax.legend(loc=\"upper left\")\n",
    "    else:\n",
    "        ax.legend()\n",
    "       \n",
    "\n",
    "    # Outliers\n",
    "    if show:\n",
    "        outlier=zip(gpop[gpop.sigmx>sig2show].name,gpop[gpop.sigmx>sig2show].sigmx)\n",
    "        i=1\n",
    "        for g in outlier:\n",
    "            y = (0+ (1.5*i + 0.1))*weight\n",
    "            ax.text(x=g[1],y=y,s=g[0][5:],rotation=45)\n",
    "            i+=1\n",
    "    return ax, bins"
   ]
  },
  {
   "cell_type": "code",
   "execution_count": null,
   "metadata": {},
   "outputs": [],
   "source": [
    "fig,ax = plt.subplots(nrows=3, ncols=1,figsize=(10,9))\n",
    "nbin = 100\n",
    "weight = 1/(44/duration)\n",
    "sigmin = 5\n",
    "\n",
    "ax0, bins = high_sigma(gn, sigmin=sigmin,\n",
    "                       bins = nbin, color=col_n,ax=ax[0],\n",
    "                       tag=\"N\", alpha=0.5, weight=weight, inset=False)\n",
    "high_sigma(gn0,  sigmin=sigmin,\n",
    "           bins = bins, color=col_n,ax=ax0,tag=\"N only\",show=False, weight=weight,inset=False)\n",
    "ax0.set_xlabel(None)\n",
    "ax0.set_title(\" Mean $\\sigma_{max}$ for \"+str(duration)+\" years of observation\")\n",
    "ax0.grid(\"both\",ls=\":\")\n",
    "# ax0.axhline(weight)\n",
    "ax0, bins = high_sigma(gs, sigmin=sigmin,\n",
    "                       bins = nbin, color=col_s,ax=ax[1],tag=\"S\", alpha=0.5, weight=weight,inset=False)\n",
    "high_sigma(gn0, sigmin=sigmin,\n",
    "           bins = bins, color=col_s,ax=ax0,tag=\"S only\",show=False, weight=weight,inset=False)\n",
    "ax0.set_xlabel(None)\n",
    "\n",
    "ax0, bins = high_sigma(gb, sigmin=sigmin,\n",
    "                       bins=nbin, color=col_b,ax=ax[2],tag=\"Both\", alpha=0.5,weight=weight, inset=False)\n",
    "ax0.grid(\"both\",ls=\":\")\n",
    "stamp(file,axis=fig)\n",
    "\n",
    "plt.tight_layout()"
   ]
  },
  {
   "cell_type": "markdown",
   "metadata": {},
   "source": [
    "## Statistics at high sigma"
   ]
  },
  {
   "cell_type": "code",
   "execution_count": null,
   "metadata": {},
   "outputs": [],
   "source": [
    "nbin=10\n",
    "cumulative = False\n",
    "import pandas as pd\n",
    "fig, ax = plt.subplots(nrows=1, ncols=1, figsize=(9,6))\n",
    "first= True\n",
    "for g, tag, w in zip([fullpop, gb, pd.concat([gn0,gs0],axis=0),pd.concat([gn,gs],axis=0)],\n",
    "                  [\"All\", \"Both\", \"Only N+ Only S\", \"0.5*(N+S)\"],\n",
    "                [1, 1, 1, 0.5]):\n",
    "    mask = g.sigmx > 0\n",
    "    var = np.log10(g[mask].sigmx)\n",
    "    \n",
    "    if not first: nbin = bins\n",
    "    n, bins = np.histogram(var, bins = nbin, weights=w*np.ones(len(var)))\n",
    "    ncum = np.cumsum(n)\n",
    "    ax.plot(bins[:-1] + 0.5*(bins[1:]-bins[:-1]),(max(ncum)-ncum)*10/dtpop,alpha=1,\n",
    "            marker=\"o\",label=tag)\n",
    "\n",
    "#     print(ncum)\n",
    "\n",
    "    single_legend(ax,bbox_to_anchor=[1.0,1.0])\n",
    "    ax.grid(\"both\",ls=\":\")\n",
    "    ax.axvline(np.log10(50),color=\"grey\",alpha=0.5,ls=\"--\")\n",
    "    ax.text(np.log10(50)*1.05,0.2,\"$50\\sigma$\",size=12)\n",
    "    \n",
    "    ax.axvline(np.log10(20),color=\"grey\",alpha=0.5, ls=\"--\")\n",
    "    ax.text(np.log10(20)*1.05,0.2,\"$20\\sigma$\",size=12)\n",
    "            \n",
    "    ax.axvline(np.log10(5),color=\"grey\",alpha=0.5,ls=\":\")\n",
    "    ax.text(np.log10(5)*1.05,0.2,\"$5\\sigma$\",size=12)\n",
    "\n",
    "    ax.set_xlabel(\"$Log_{10}$ $\\sigma_{max}$\")\n",
    "    ax.set_ylabel(\"Rate above $\\sigma_{max}$ for 10 yr of operation\")\n",
    "    ax.set_yscale(\"log\")\n",
    "stamp(file, axis=fig, where=\"bottom\")"
   ]
  },
  {
   "cell_type": "code",
   "execution_count": null,
   "metadata": {},
   "outputs": [],
   "source": [
    "siglist = [-0.5, 3, 5, 10, 20, 50, 100, 200]\n",
    "poplist = [gn, gn0, gs, gs0, gb, fullpop]\n",
    "taglist = [\"North\", \"N only\", \"South\", \"S only\", \"Both\", \"All\"]\n",
    "\n",
    "print(\"{:>8s} \".format(\"sigmin\"),end=\"\")\n",
    "\n",
    "for tag in taglist:\n",
    "    print(\"{:>8s} \".format(tag),end=\"\")\n",
    "print()\n",
    "    \n",
    "for sigmin in siglist:\n",
    "    print(\"{:8.1f} \".format(sigmin),end=\"\")\n",
    "    for g in poplist:\n",
    "        print(\"{:8.1f} \".format(len(g[g.sigmx>=sigmin])*10/dtpop),end=\"\")\n",
    "    print()"
   ]
  },
  {
   "cell_type": "markdown",
   "metadata": {},
   "source": [
    "# <font color=\"#FF0000\">TIMING</font>"
   ]
  },
  {
   "cell_type": "markdown",
   "metadata": {},
   "source": [
    "## 3s, 5s and sigmax time distribution\n",
    "Don't forget the confidence level !!!"
   ]
  },
  {
   "cell_type": "code",
   "execution_count": null,
   "metadata": {},
   "outputs": [],
   "source": [
    "def sig_plot(varlist, masks=None, tags=None, xlabel=\"\", yscale=\"log\", binw=1, tobs=[], **kwargs):\n",
    "    \n",
    "    if masks == None: \n",
    "        masks = np.ones(len(varlist)).astype(bool)\n",
    "        \n",
    "    # Define one hour binning from the min and max\n",
    "    tmax = int(max([max(v[m]) for v,m in zip(varlist,masks)]))\n",
    "    bins=range(0, tmax+ 1, binw)\n",
    "    print(\" Max time :\",tmax, \" bins:\",bins)\n",
    "    \n",
    "    fig, ax = plt.subplots(nrows=len(varlist), ncols=1,figsize=(12,3.5*len(varlist)),sharex=True)\n",
    "    \n",
    "    first = True\n",
    "    for ax0, tag, var, mask in zip(ax,tags,varlist,masks):\n",
    "        \n",
    "        n, bins,_ = ax0.hist(var[mask],bins=bins,label=MyLabel(var[mask],label=tag+\" (Burst)\",stat=\"med\"),**kwargs)\n",
    "        if len(tobs) != 0:\n",
    "            ax0.hist(var[mask]-tobs[mask],bins=bins,label=MyLabel(var[mask]-tobs[mask],label=tag+\" (Start)\",stat=\"med\"),**kwargs)\n",
    "        ax0.set_yscale(yscale)\n",
    "        # ax0.set_title(tag)\n",
    "        \n",
    "        ax0.legend()\n",
    "        ax0.grid(which='both')\n",
    "        minor_ticks= bins\n",
    "        ax0.set_xticks(minor_ticks, minor=True)\n",
    "        \n",
    "        ax0.grid(which=\"major\",ls=\":\")\n",
    "        ax0.grid(which=\"minor\",ls=\":\",alpha=0.5)\n",
    "        ax0.set_ylabel(\"$h^{-1}$\") \n",
    "\n",
    "        ax0.set_xlabel(xlabel) # Last one\n",
    "        \n",
    "        axx = inset_axes(ax0, width=\"50%\", height=1.2,loc=\"upper center\")\n",
    "        nxx,binsxx,_ = axx.hist(var[mask][var[mask]<1]*60,bins=range(0,60,1),alpha=0.5)\n",
    "        axx.axvline(107/60,ls=\":\",label=\" Swift + LST delays\")\n",
    "        axx.set_xlabel(\"$\\Delta t$ (min)\")\n",
    "        axx.set_ylabel(\"$min^{-1}$\") \n",
    "        axx.legend()\n",
    "        \n",
    "    stamp(file,axis=fig)    \n",
    "    plt.tight_layout()"
   ]
  },
  {
   "cell_type": "code",
   "execution_count": null,
   "metadata": {
    "scrolled": false
   },
   "outputs": [],
   "source": [
    "# Don't forget the confidence level !!!!\n",
    "# varlist  = [fullpop.t3s/3600, fullpop.t5s/3600, fullpop.tmx/3600] # Go to hours\n",
    "# masklist = [(fullpop.d3s>eff_lvl), (fullpop.d5s>eff_lvl), (fullpop.tmx>=0) & (fullpop.sigmx>=5)]\n",
    "# taglist = [\"$3 \\sigma$\",\"$5\\sigma$\",\"$\\sigma_{max} \\geq 5$\"]\n",
    "\n",
    "varlist  = [fullpop.t5s/3600, fullpop.tmx/3600] # Go to hours\n",
    "masklist = [(fullpop.d5s>eff_lvl), (fullpop.tmx>=0) & (fullpop.sigmx>=5)]\n",
    "taglist = [\"$5\\sigma$\",\"$\\sigma_{max} \\geq 5$\"]\n",
    "sig_plot(varlist,masks=masklist,tags=taglist, xlabel=\"Mean detection time (h)\",binw=1, tobs = fullpop.t1/3600,yscale=\"log\",alpha=0.5)\n"
   ]
  },
  {
   "cell_type": "code",
   "execution_count": null,
   "metadata": {},
   "outputs": [],
   "source": [
    "pop =fullpop\n",
    "    \n",
    "varlist  = [np.log10(pop.t5s), np.log10(pop.tmx)] # Go to hours\n",
    "masklist = [(pop.d5s>eff_lvl), (pop.tmx>=0) & (fullpop.sigmx>=5)]\n",
    "taglist = [\"$5\\sigma$ 90%CL\",\"$\\sigma_{max} \\geq 5$\"]\n",
    "\n",
    "fig, ax = plt.subplots(ncols=len(varlist), nrows=1,figsize=(7*len(varlist), 5),sharey=True)\n",
    "\n",
    "first = True\n",
    "for ax0, tag, var, mask in zip(ax,taglist,varlist,masklist):\n",
    "    sig_plot_cumulative(var,mask=mask,tag=tag, \n",
    "                        ax=ax0, xlabel=\"Log detection time (s)\")\n",
    "    if first:\n",
    "        ax0.set_ylabel(\"Fraction\") \n",
    "        first = False\n",
    "        \n",
    "single_legend(ax0,bbox_to_anchor=[1,1])\n",
    "stamp(file,axis=fig,where=\"left\")\n",
    "plt.tight_layout()"
   ]
  },
  {
   "cell_type": "code",
   "execution_count": null,
   "metadata": {},
   "outputs": [],
   "source": [
    "pop =fullpop\n",
    "varlist  = [np.log10(gn.t5s), np.log10(gs.t5s)] # Go to hours\n",
    "masklist = [(gn.d5s>eff_lvl), (gs.d5s>eff_lvl)]\n",
    "taglist = [\"$5\\sigma$ North\",\"$5\\sigma$ South\"]\n",
    "fig, ax = plt.subplots(ncols=len(varlist), nrows=1,figsize=(7*len(varlist), 5),sharey=True)\n",
    "\n",
    "first = True\n",
    "for ax0, tag, var, mask in zip(ax,taglist,varlist,masklist):\n",
    "    sig_plot_cumulative(var,mask=mask,tag=tag, \n",
    "                        ax=ax0, xlabel=\"Log detection time (s)\")\n",
    "    if first:\n",
    "        ax0.set_ylabel(\"Fraction\") \n",
    "        first = False\n",
    "        \n",
    "single_legend(ax0,bbox_to_anchor=[1,1])\n",
    "stamp(file,axis=fig,where=\"left\")\n",
    "plt.tight_layout()"
   ]
  },
  {
   "cell_type": "code",
   "execution_count": null,
   "metadata": {},
   "outputs": [],
   "source": [
    "## Time versus error on time\n",
    "def sig2_plot(varlist1, varlist2, masklist, xlabel=\"\", ylabel=\"\", xscale=\"log\", yscale=\"log\", nbin=100, **kwargs):\n",
    "    \n",
    "    fig, ax = plt.subplots(nrows=1, ncols=3,figsize=(18,6),sharey=True)\n",
    "    taglist = [\"$3 \\sigma$\",\"$5\\sigma$\",\"$\\sigma_{max}$\"]\n",
    "    \n",
    "    first=True\n",
    "    for ax0, tag, var1, var2, mask in zip(ax,taglist,varlist1,varlist2, masklist):\n",
    "        ax0.scatter(var1[mask], var2[mask],**kwargs)\n",
    "        ax0.set_xscale(xscale)\n",
    "        ax0.set_yscale(yscale)\n",
    "        ax0.set_xlabel(xlabel)\n",
    "        if first: \n",
    "            ax0.set_ylabel(ylabel) \n",
    "        else: \n",
    "            ax0.set_ylabel(None)\n",
    "            first=False        \n",
    "        ax0.set_title(tag)\n",
    "        #ax0.legend()\n",
    "        ax0.grid(ls=\":\")\n",
    "        \n",
    "    stamp(file,axis=fig)    \n",
    "    plt.tight_layout()"
   ]
  },
  {
   "cell_type": "code",
   "execution_count": null,
   "metadata": {},
   "outputs": [],
   "source": [
    "varlist1 = [fullpop.t3s/3600, fullpop.t5s/3600, fullpop.tmx/3600]\n",
    "varlist2 = [fullpop.et3s/3600, fullpop.et5s/3600, fullpop.etmx/3600]\n",
    "masklist = masklist = [(fullpop.d3s>eff_lvl), (fullpop.d5s>eff_lvl), (fullpop.tmx>=0) & (fullpop.sigmx>=5)]\n",
    "\n",
    "sig2_plot(varlist1,varlist2,masklist,xlabel=\"Detection mean time\",ylabel=\"Error on time\",marker=\"+\")\n",
    "#sig2_plot(varlist1,varlist2,masklist,xlabel=\"Detection mean time\",ylabel=\"Error on time\",xscale=\"linear\",yscale=\"linear\",marker=\"+\")"
   ]
  },
  {
   "cell_type": "markdown",
   "metadata": {},
   "source": [
    "# <font color=\"#FF0000\">SIGNIFICANCE versus TIMING</font>"
   ]
  },
  {
   "cell_type": "markdown",
   "metadata": {},
   "source": [
    "## Raw plot"
   ]
  },
  {
   "cell_type": "code",
   "execution_count": null,
   "metadata": {},
   "outputs": [],
   "source": [
    "def plot_t_sigma(g,tag=\"\"):\n",
    "    fig, ax = plt.subplots(nrows=1, ncols=1,figsize=(12,6),sharex=True)\n",
    "\n",
    "    mask = g.sigmx>0\n",
    "    colors, sizes = col_size(g[mask].sigmx)\n",
    "    ax.scatter(np.log10(g[mask].tmx),np.log10(g[mask].sigmx),marker=\"o\",color=colors,alpha=0.7,s=sizes)\n",
    "    ax.scatter(np.log10(g[mask].tmx),np.log10(g[mask].sigmx),marker=\"x\",alpha=0.5,s=5,color=\"grey\")\n",
    "\n",
    "    ax.set_xlabel(\"$log_{10}(\\Delta t_{max})$\")\n",
    "    ax.set_ylabel(\"$log_{10}(\\sigma_{max})$\")\n",
    "    o1 = ax.axvline(x=np.log10(3600),ls=\":\",color=\"green\",label=\"1h hour\")\n",
    "    o2 = ax.axvline(x=np.log10(12*3600),ls=\":\",color=\"blue\",label=\"12h hour\")\n",
    "    o3 = ax.axvline(x=np.log10(24*3600),ls=\":\",color=\"red\",label=\"One day\")\n",
    "    o4 = ax.axhline(np.log10(3),ls=\":\",color=\"black\",lw=\"2\",label=\"$3\\sigma$\")\n",
    "    o5 = ax.axhline(np.log10(5),color=\"black\",lw=\"2\",label=\"$5\\sigma$\")\n",
    "    \n",
    "    ax.legend(loc=\"lower left\")\n",
    "    \n",
    "    patches = sig_legend(ax)\n",
    "    fig.legend(title=\"$\\sigma_{max}$\",handles=patches, bbox_to_anchor=(1.1, 0.98))\n",
    "    stamp(file,axis=fig,where=\"top\")    \n",
    "    return\n",
    "plot_t_sigma(fullpop,tag=\"All\")\n",
    "plt.tight_layout()"
   ]
  },
  {
   "cell_type": "code",
   "execution_count": null,
   "metadata": {},
   "outputs": [],
   "source": [
    "# Plot sigmax and errors\n",
    "def sig_vs_time(pop,mask,ax=None,xscale=\"log\",yscale=\"log\",title=\"\"):\n",
    "    ax = plt.gca() if ax is None else ax\n",
    "    ax.errorbar(pop[mask].tmx/3600,\n",
    "                pop[mask].sigmx,\n",
    "                xerr=pop[mask].etmx/3600,\n",
    "                yerr=pop[mask].esigmx,\n",
    "                ls=\"\", marker=\"o\",ecolor=\"tab:blue\",color=\"red\",alpha=0.5,\n",
    "                label=MyLabel(pop[mask].sigmx,stat=None))\n",
    "    # ax.axhline(y=3,ls=\":\",label=\"$3\\sigma$\",color=\"lightgrey\")\n",
    "    # ax.axhline(y=5,ls=\":\",label=\"$5\\sigma$\",color=\"lightgrey\")\n",
    "    ax.set_xscale(xscale)\n",
    "    ax.set_yscale(yscale)\n",
    "    ax.set_xlabel(\"Mean Time of max detection (h)\")\n",
    "    ax.set_ylabel(\"Mean max sigificance\")\n",
    "    ax.set_title(title)\n",
    "    ax.legend()"
   ]
  },
  {
   "cell_type": "code",
   "execution_count": null,
   "metadata": {},
   "outputs": [],
   "source": [
    "fig,(ax1,ax2) = plt.subplots(nrows=1,ncols=2,figsize=(15,8))\n",
    "sig_vs_time(fullpop,(fullpop.sigmx>=20),\n",
    "            yscale=\"log\",ax=ax1, title=\"$\\sigma_{max} > 20$\")\n",
    "sig_vs_time(fullpop,(fullpop.sigmx>=5) & (fullpop.sigmx<20),\n",
    "            xscale=\"linear\",yscale=\"linear\",ax=ax2,title=\"$5 < \\sigma_{max} < 20$\")\n",
    "stamp(file,axis=fig)"
   ]
  },
  {
   "cell_type": "markdown",
   "metadata": {},
   "source": [
    "## Delay correlation for GRB seen on both sites\n",
    "<font color=\"#FF0000\">Warning</font>: works if accelaration was False, i.e. a results was obatined fro all sites (Abortion due to acceleration breaks the N/S symmetry)"
   ]
  },
  {
   "cell_type": "code",
   "execution_count": null,
   "metadata": {},
   "outputs": [],
   "source": [
    "# Find N and S detection for all both detected GRB\n",
    "# Get name of GRB detected on both sites and retrieve the independent N and S detections\n",
    "t1_s = []\n",
    "t1_n = []\n",
    "sigmx = []\n",
    "sigmin = 5\n",
    "\n",
    "for name in gb.name:\n",
    "    gsb = gs[gs.name==name] # This is the row\n",
    "    gnb = gn[gn.name==name]\n",
    "#     print(\" ****\", name,\":\")\n",
    "#     print(\"   t1 N = \",gnb.t1.values)\n",
    "#     print(\"   t1 S = \",gsb.t1.values)\n",
    "    sig = gb[gb.name == name].sigmx.values[0]\n",
    "    if sig>= sigmin:\n",
    "        sigmx.append(gb[gb.name == name].sigmx.values[0]) \n",
    "        t1_s.append(gsb.t1.values[0]/3600)\n",
    "        t1_n.append(gnb.t1.values[0]/3600)    \n"
   ]
  },
  {
   "cell_type": "code",
   "execution_count": null,
   "metadata": {},
   "outputs": [],
   "source": [
    "fig, ax = plt.subplots(nrows=1, ncols=1, figsize=(12,7))\n",
    "color, size = col_size(sigmx)\n",
    "sc = ax.scatter(t1_n, t1_s,  alpha=0.5,c= color, s=size, label = MyLabel(t1_n,\"$\\sigma_{max}$\"))\n",
    "# for tn, ts, sig in zip(t1_n,t1_s, sigmx):\n",
    "#     ax.text(tn,ts,str(sig))\n",
    "ax.set_title(\"Seen on both sites - $\\sigma_{max} \\geq \"+str(sigmin)+\"$\")\n",
    "ax.set_xlabel(\"Mean detection time (h) - North\")\n",
    "ax.set_ylabel(\"Mean detection time (h) - South\")\n",
    "xmax = 26\n",
    "ymax = 26\n",
    "ax.set_xlim(xmax=26)\n",
    "ax.set_ylim(ymax=26)\n",
    "\n",
    "# ZOOM\n",
    "xmin_z = 0\n",
    "xmax_z = 2\n",
    "ymin_z = 0\n",
    "ymax_z = 5\n",
    "ax.axvspan(xmin_z-1,xmax_z,ymin=ymin_z-1,ymax=(ymax_z+1)/ymax,color=\"grey\",ls=\":\",alpha=0.5,lw=2,ec=\"black\",fill=False)\n",
    "\n",
    "axx = inset_axes(ax, width=\"30%\", height=3,loc=\"upper right\")\n",
    "sc = axx.scatter(t1_n, t1_s,  alpha=0.5,c= color, s=size, label = MyLabel(t1_n,\"$\\sigma_{max}$\"))\n",
    "axx.set_xlim(xmax=xmax_z)\n",
    "axx.set_ylim(ymax=ymax_z)\n",
    "\n",
    "stamp(file, axis=fig,where=\"bottom\")\n",
    "patches = sig_legend(ax)\n",
    "fig.legend(title=\"$\\sigma_{max}$\",handles=patches,bbox_to_anchor=(1.02, 0.88))"
   ]
  },
  {
   "cell_type": "code",
   "execution_count": null,
   "metadata": {},
   "outputs": [],
   "source": []
  }
 ],
 "metadata": {
  "kernelspec": {
   "display_name": "Python 3",
   "language": "python",
   "name": "python3"
  },
  "language_info": {
   "codemirror_mode": {
    "name": "ipython",
    "version": 3
   },
   "file_extension": ".py",
   "mimetype": "text/x-python",
   "name": "python",
   "nbconvert_exporter": "python",
   "pygments_lexer": "ipython3",
   "version": "3.7.11"
  }
 },
 "nbformat": 4,
 "nbformat_minor": 2
}
